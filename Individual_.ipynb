{
  "cells": [
    {
      "cell_type": "markdown",
      "metadata": {
        "id": "view-in-github",
        "colab_type": "text"
      },
      "source": [
        "<a href=\"https://colab.research.google.com/github/Pr1yanshi/ML_Project/blob/main/Individual_.ipynb\" target=\"_parent\"><img src=\"https://colab.research.google.com/assets/colab-badge.svg\" alt=\"Open In Colab\"/></a>"
      ]
    },
    {
      "cell_type": "markdown",
      "metadata": {
        "id": "Um1LMDO3-bMi"
      },
      "source": [
        "#**Project Name : Netflix Movies and TV Shows Clustering**\n",
        "# Project Type unsupervised ML\n",
        "# Batch : Cohort Seoul"
      ]
    },
    {
      "cell_type": "markdown",
      "metadata": {
        "id": "JD_B3opJFoGF"
      },
      "source": [
        "# making some hypothesis"
      ]
    },
    {
      "cell_type": "markdown",
      "metadata": {
        "id": "d69IwSrcZVIG"
      },
      "source": [
        "# Hypothesis Testing"
      ]
    },
    {
      "cell_type": "code",
      "execution_count": null,
      "metadata": {
        "colab": {
          "base_uri": "https://localhost:8080/"
        },
        "id": "1PIvNiX2HEbg",
        "outputId": "1669c62b-1d6a-489b-aa4f-2561bc7b4c82"
      },
      "outputs": [
        {
          "output_type": "execute_result",
          "data": {
            "text/plain": [
              "type\n",
              "Movie      5377\n",
              "TV Show    2400\n",
              "Name: count, dtype: int64"
            ]
          },
          "metadata": {},
          "execution_count": 36
        }
      ],
      "source": [
        "df['type'].value_counts()"
      ]
    },
    {
      "cell_type": "code",
      "execution_count": null,
      "metadata": {
        "colab": {
          "base_uri": "https://localhost:8080/",
          "height": 753
        },
        "id": "ZoB7NxceOxTD",
        "outputId": "8f0042c8-21da-45a7-f0d9-aadd713599f7"
      },
      "outputs": [
        {
          "output_type": "execute_result",
          "data": {
            "text/plain": [
              "     show_id   type                                    title  \\\n",
              "1         s2  Movie                                     7:19   \n",
              "2         s3  Movie                                    23:59   \n",
              "3         s4  Movie                                        9   \n",
              "4         s5  Movie                                       21   \n",
              "6         s7  Movie                                      122   \n",
              "...      ...    ...                                      ...   \n",
              "7781   s7782  Movie                                     Zoom   \n",
              "7782   s7783  Movie                                     Zozo   \n",
              "7783   s7784  Movie                                   Zubaan   \n",
              "7784   s7785  Movie                        Zulu Man in Japan   \n",
              "7786   s7787  Movie  ZZ TOP: THAT LITTLE OL' BAND FROM TEXAS   \n",
              "\n",
              "                                                country          date_added  \\\n",
              "1                                                Mexico   December 23, 2016   \n",
              "2                                             Singapore   December 20, 2018   \n",
              "3                                         United States   November 16, 2017   \n",
              "4                                         United States     January 1, 2020   \n",
              "6                                                 Egypt        June 1, 2020   \n",
              "...                                                 ...                 ...   \n",
              "7781                                      United States    January 11, 2020   \n",
              "7782  Sweden, Czech Republic, United Kingdom, Denmar...    October 19, 2020   \n",
              "7783                                              India       March 2, 2019   \n",
              "7784                                                NaN  September 25, 2020   \n",
              "7786              United Kingdom, Canada, United States       March 1, 2020   \n",
              "\n",
              "      release_year rating duration  \\\n",
              "1             2016  TV-MA   93 min   \n",
              "2             2011      R   78 min   \n",
              "3             2009  PG-13   80 min   \n",
              "4             2013  PG-13  123 min   \n",
              "6             2019  TV-MA   95 min   \n",
              "...            ...    ...      ...   \n",
              "7781          2013     PG   88 min   \n",
              "7782          2013  TV-MA   99 min   \n",
              "7783          2015  TV-14  111 min   \n",
              "7784          2019  TV-MA   44 min   \n",
              "7786          2019  TV-MA   90 min   \n",
              "\n",
              "                                              listed_in  \\\n",
              "1                          Dramas, International Movies   \n",
              "2                   Horror Movies, International Movies   \n",
              "3     Action & Adventure, Independent Movies, Sci-Fi...   \n",
              "4                                                Dramas   \n",
              "6                   Horror Movies, International Movies   \n",
              "...                                                 ...   \n",
              "7781                 Children & Family Movies, Comedies   \n",
              "7782                       Dramas, International Movies   \n",
              "7783     Dramas, International Movies, Music & Musicals   \n",
              "7784  Documentaries, International Movies, Music & M...   \n",
              "7786                    Documentaries, Music & Musicals   \n",
              "\n",
              "                                            description  \n",
              "1     After a devastating earthquake hits Mexico Cit...  \n",
              "2     When an army recruit is found dead, his fellow...  \n",
              "3     In a postapocalyptic world, rag-doll robots hi...  \n",
              "4     A brilliant group of students become card-coun...  \n",
              "6     After an awful accident, a couple admitted to ...  \n",
              "...                                                 ...  \n",
              "7781  Dragged from civilian life, a former superhero...  \n",
              "7782  When Lebanon's Civil War deprives Zozo of his ...  \n",
              "7783  A scrappy but poor boy worms his way into a ty...  \n",
              "7784  In this documentary, South African rapper Nast...  \n",
              "7786  This documentary delves into the mystique behi...  \n",
              "\n",
              "[5377 rows x 10 columns]"
            ],
            "text/html": [
              "\n",
              "  <div id=\"df-28f63123-8f70-4bd0-b57f-5befcb21620e\" class=\"colab-df-container\">\n",
              "    <div>\n",
              "<style scoped>\n",
              "    .dataframe tbody tr th:only-of-type {\n",
              "        vertical-align: middle;\n",
              "    }\n",
              "\n",
              "    .dataframe tbody tr th {\n",
              "        vertical-align: top;\n",
              "    }\n",
              "\n",
              "    .dataframe thead th {\n",
              "        text-align: right;\n",
              "    }\n",
              "</style>\n",
              "<table border=\"1\" class=\"dataframe\">\n",
              "  <thead>\n",
              "    <tr style=\"text-align: right;\">\n",
              "      <th></th>\n",
              "      <th>show_id</th>\n",
              "      <th>type</th>\n",
              "      <th>title</th>\n",
              "      <th>country</th>\n",
              "      <th>date_added</th>\n",
              "      <th>release_year</th>\n",
              "      <th>rating</th>\n",
              "      <th>duration</th>\n",
              "      <th>listed_in</th>\n",
              "      <th>description</th>\n",
              "    </tr>\n",
              "  </thead>\n",
              "  <tbody>\n",
              "    <tr>\n",
              "      <th>1</th>\n",
              "      <td>s2</td>\n",
              "      <td>Movie</td>\n",
              "      <td>7:19</td>\n",
              "      <td>Mexico</td>\n",
              "      <td>December 23, 2016</td>\n",
              "      <td>2016</td>\n",
              "      <td>TV-MA</td>\n",
              "      <td>93 min</td>\n",
              "      <td>Dramas, International Movies</td>\n",
              "      <td>After a devastating earthquake hits Mexico Cit...</td>\n",
              "    </tr>\n",
              "    <tr>\n",
              "      <th>2</th>\n",
              "      <td>s3</td>\n",
              "      <td>Movie</td>\n",
              "      <td>23:59</td>\n",
              "      <td>Singapore</td>\n",
              "      <td>December 20, 2018</td>\n",
              "      <td>2011</td>\n",
              "      <td>R</td>\n",
              "      <td>78 min</td>\n",
              "      <td>Horror Movies, International Movies</td>\n",
              "      <td>When an army recruit is found dead, his fellow...</td>\n",
              "    </tr>\n",
              "    <tr>\n",
              "      <th>3</th>\n",
              "      <td>s4</td>\n",
              "      <td>Movie</td>\n",
              "      <td>9</td>\n",
              "      <td>United States</td>\n",
              "      <td>November 16, 2017</td>\n",
              "      <td>2009</td>\n",
              "      <td>PG-13</td>\n",
              "      <td>80 min</td>\n",
              "      <td>Action &amp; Adventure, Independent Movies, Sci-Fi...</td>\n",
              "      <td>In a postapocalyptic world, rag-doll robots hi...</td>\n",
              "    </tr>\n",
              "    <tr>\n",
              "      <th>4</th>\n",
              "      <td>s5</td>\n",
              "      <td>Movie</td>\n",
              "      <td>21</td>\n",
              "      <td>United States</td>\n",
              "      <td>January 1, 2020</td>\n",
              "      <td>2013</td>\n",
              "      <td>PG-13</td>\n",
              "      <td>123 min</td>\n",
              "      <td>Dramas</td>\n",
              "      <td>A brilliant group of students become card-coun...</td>\n",
              "    </tr>\n",
              "    <tr>\n",
              "      <th>6</th>\n",
              "      <td>s7</td>\n",
              "      <td>Movie</td>\n",
              "      <td>122</td>\n",
              "      <td>Egypt</td>\n",
              "      <td>June 1, 2020</td>\n",
              "      <td>2019</td>\n",
              "      <td>TV-MA</td>\n",
              "      <td>95 min</td>\n",
              "      <td>Horror Movies, International Movies</td>\n",
              "      <td>After an awful accident, a couple admitted to ...</td>\n",
              "    </tr>\n",
              "    <tr>\n",
              "      <th>...</th>\n",
              "      <td>...</td>\n",
              "      <td>...</td>\n",
              "      <td>...</td>\n",
              "      <td>...</td>\n",
              "      <td>...</td>\n",
              "      <td>...</td>\n",
              "      <td>...</td>\n",
              "      <td>...</td>\n",
              "      <td>...</td>\n",
              "      <td>...</td>\n",
              "    </tr>\n",
              "    <tr>\n",
              "      <th>7781</th>\n",
              "      <td>s7782</td>\n",
              "      <td>Movie</td>\n",
              "      <td>Zoom</td>\n",
              "      <td>United States</td>\n",
              "      <td>January 11, 2020</td>\n",
              "      <td>2013</td>\n",
              "      <td>PG</td>\n",
              "      <td>88 min</td>\n",
              "      <td>Children &amp; Family Movies, Comedies</td>\n",
              "      <td>Dragged from civilian life, a former superhero...</td>\n",
              "    </tr>\n",
              "    <tr>\n",
              "      <th>7782</th>\n",
              "      <td>s7783</td>\n",
              "      <td>Movie</td>\n",
              "      <td>Zozo</td>\n",
              "      <td>Sweden, Czech Republic, United Kingdom, Denmar...</td>\n",
              "      <td>October 19, 2020</td>\n",
              "      <td>2013</td>\n",
              "      <td>TV-MA</td>\n",
              "      <td>99 min</td>\n",
              "      <td>Dramas, International Movies</td>\n",
              "      <td>When Lebanon's Civil War deprives Zozo of his ...</td>\n",
              "    </tr>\n",
              "    <tr>\n",
              "      <th>7783</th>\n",
              "      <td>s7784</td>\n",
              "      <td>Movie</td>\n",
              "      <td>Zubaan</td>\n",
              "      <td>India</td>\n",
              "      <td>March 2, 2019</td>\n",
              "      <td>2015</td>\n",
              "      <td>TV-14</td>\n",
              "      <td>111 min</td>\n",
              "      <td>Dramas, International Movies, Music &amp; Musicals</td>\n",
              "      <td>A scrappy but poor boy worms his way into a ty...</td>\n",
              "    </tr>\n",
              "    <tr>\n",
              "      <th>7784</th>\n",
              "      <td>s7785</td>\n",
              "      <td>Movie</td>\n",
              "      <td>Zulu Man in Japan</td>\n",
              "      <td>NaN</td>\n",
              "      <td>September 25, 2020</td>\n",
              "      <td>2019</td>\n",
              "      <td>TV-MA</td>\n",
              "      <td>44 min</td>\n",
              "      <td>Documentaries, International Movies, Music &amp; M...</td>\n",
              "      <td>In this documentary, South African rapper Nast...</td>\n",
              "    </tr>\n",
              "    <tr>\n",
              "      <th>7786</th>\n",
              "      <td>s7787</td>\n",
              "      <td>Movie</td>\n",
              "      <td>ZZ TOP: THAT LITTLE OL' BAND FROM TEXAS</td>\n",
              "      <td>United Kingdom, Canada, United States</td>\n",
              "      <td>March 1, 2020</td>\n",
              "      <td>2019</td>\n",
              "      <td>TV-MA</td>\n",
              "      <td>90 min</td>\n",
              "      <td>Documentaries, Music &amp; Musicals</td>\n",
              "      <td>This documentary delves into the mystique behi...</td>\n",
              "    </tr>\n",
              "  </tbody>\n",
              "</table>\n",
              "<p>5377 rows × 10 columns</p>\n",
              "</div>\n",
              "    <div class=\"colab-df-buttons\">\n",
              "\n",
              "  <div class=\"colab-df-container\">\n",
              "    <button class=\"colab-df-convert\" onclick=\"convertToInteractive('df-28f63123-8f70-4bd0-b57f-5befcb21620e')\"\n",
              "            title=\"Convert this dataframe to an interactive table.\"\n",
              "            style=\"display:none;\">\n",
              "\n",
              "  <svg xmlns=\"http://www.w3.org/2000/svg\" height=\"24px\" viewBox=\"0 -960 960 960\">\n",
              "    <path d=\"M120-120v-720h720v720H120Zm60-500h600v-160H180v160Zm220 220h160v-160H400v160Zm0 220h160v-160H400v160ZM180-400h160v-160H180v160Zm440 0h160v-160H620v160ZM180-180h160v-160H180v160Zm440 0h160v-160H620v160Z\"/>\n",
              "  </svg>\n",
              "    </button>\n",
              "\n",
              "  <style>\n",
              "    .colab-df-container {\n",
              "      display:flex;\n",
              "      gap: 12px;\n",
              "    }\n",
              "\n",
              "    .colab-df-convert {\n",
              "      background-color: #E8F0FE;\n",
              "      border: none;\n",
              "      border-radius: 50%;\n",
              "      cursor: pointer;\n",
              "      display: none;\n",
              "      fill: #1967D2;\n",
              "      height: 32px;\n",
              "      padding: 0 0 0 0;\n",
              "      width: 32px;\n",
              "    }\n",
              "\n",
              "    .colab-df-convert:hover {\n",
              "      background-color: #E2EBFA;\n",
              "      box-shadow: 0px 1px 2px rgba(60, 64, 67, 0.3), 0px 1px 3px 1px rgba(60, 64, 67, 0.15);\n",
              "      fill: #174EA6;\n",
              "    }\n",
              "\n",
              "    .colab-df-buttons div {\n",
              "      margin-bottom: 4px;\n",
              "    }\n",
              "\n",
              "    [theme=dark] .colab-df-convert {\n",
              "      background-color: #3B4455;\n",
              "      fill: #D2E3FC;\n",
              "    }\n",
              "\n",
              "    [theme=dark] .colab-df-convert:hover {\n",
              "      background-color: #434B5C;\n",
              "      box-shadow: 0px 1px 3px 1px rgba(0, 0, 0, 0.15);\n",
              "      filter: drop-shadow(0px 1px 2px rgba(0, 0, 0, 0.3));\n",
              "      fill: #FFFFFF;\n",
              "    }\n",
              "  </style>\n",
              "\n",
              "    <script>\n",
              "      const buttonEl =\n",
              "        document.querySelector('#df-28f63123-8f70-4bd0-b57f-5befcb21620e button.colab-df-convert');\n",
              "      buttonEl.style.display =\n",
              "        google.colab.kernel.accessAllowed ? 'block' : 'none';\n",
              "\n",
              "      async function convertToInteractive(key) {\n",
              "        const element = document.querySelector('#df-28f63123-8f70-4bd0-b57f-5befcb21620e');\n",
              "        const dataTable =\n",
              "          await google.colab.kernel.invokeFunction('convertToInteractive',\n",
              "                                                    [key], {});\n",
              "        if (!dataTable) return;\n",
              "\n",
              "        const docLinkHtml = 'Like what you see? Visit the ' +\n",
              "          '<a target=\"_blank\" href=https://colab.research.google.com/notebooks/data_table.ipynb>data table notebook</a>'\n",
              "          + ' to learn more about interactive tables.';\n",
              "        element.innerHTML = '';\n",
              "        dataTable['output_type'] = 'display_data';\n",
              "        await google.colab.output.renderOutput(dataTable, element);\n",
              "        const docLink = document.createElement('div');\n",
              "        docLink.innerHTML = docLinkHtml;\n",
              "        element.appendChild(docLink);\n",
              "      }\n",
              "    </script>\n",
              "  </div>\n",
              "\n",
              "\n",
              "<div id=\"df-10bb5fbf-9c5c-4fcb-905a-ed1fd7bf7d62\">\n",
              "  <button class=\"colab-df-quickchart\" onclick=\"quickchart('df-10bb5fbf-9c5c-4fcb-905a-ed1fd7bf7d62')\"\n",
              "            title=\"Suggest charts\"\n",
              "            style=\"display:none;\">\n",
              "\n",
              "<svg xmlns=\"http://www.w3.org/2000/svg\" height=\"24px\"viewBox=\"0 0 24 24\"\n",
              "     width=\"24px\">\n",
              "    <g>\n",
              "        <path d=\"M19 3H5c-1.1 0-2 .9-2 2v14c0 1.1.9 2 2 2h14c1.1 0 2-.9 2-2V5c0-1.1-.9-2-2-2zM9 17H7v-7h2v7zm4 0h-2V7h2v10zm4 0h-2v-4h2v4z\"/>\n",
              "    </g>\n",
              "</svg>\n",
              "  </button>\n",
              "\n",
              "<style>\n",
              "  .colab-df-quickchart {\n",
              "      --bg-color: #E8F0FE;\n",
              "      --fill-color: #1967D2;\n",
              "      --hover-bg-color: #E2EBFA;\n",
              "      --hover-fill-color: #174EA6;\n",
              "      --disabled-fill-color: #AAA;\n",
              "      --disabled-bg-color: #DDD;\n",
              "  }\n",
              "\n",
              "  [theme=dark] .colab-df-quickchart {\n",
              "      --bg-color: #3B4455;\n",
              "      --fill-color: #D2E3FC;\n",
              "      --hover-bg-color: #434B5C;\n",
              "      --hover-fill-color: #FFFFFF;\n",
              "      --disabled-bg-color: #3B4455;\n",
              "      --disabled-fill-color: #666;\n",
              "  }\n",
              "\n",
              "  .colab-df-quickchart {\n",
              "    background-color: var(--bg-color);\n",
              "    border: none;\n",
              "    border-radius: 50%;\n",
              "    cursor: pointer;\n",
              "    display: none;\n",
              "    fill: var(--fill-color);\n",
              "    height: 32px;\n",
              "    padding: 0;\n",
              "    width: 32px;\n",
              "  }\n",
              "\n",
              "  .colab-df-quickchart:hover {\n",
              "    background-color: var(--hover-bg-color);\n",
              "    box-shadow: 0 1px 2px rgba(60, 64, 67, 0.3), 0 1px 3px 1px rgba(60, 64, 67, 0.15);\n",
              "    fill: var(--button-hover-fill-color);\n",
              "  }\n",
              "\n",
              "  .colab-df-quickchart-complete:disabled,\n",
              "  .colab-df-quickchart-complete:disabled:hover {\n",
              "    background-color: var(--disabled-bg-color);\n",
              "    fill: var(--disabled-fill-color);\n",
              "    box-shadow: none;\n",
              "  }\n",
              "\n",
              "  .colab-df-spinner {\n",
              "    border: 2px solid var(--fill-color);\n",
              "    border-color: transparent;\n",
              "    border-bottom-color: var(--fill-color);\n",
              "    animation:\n",
              "      spin 1s steps(1) infinite;\n",
              "  }\n",
              "\n",
              "  @keyframes spin {\n",
              "    0% {\n",
              "      border-color: transparent;\n",
              "      border-bottom-color: var(--fill-color);\n",
              "      border-left-color: var(--fill-color);\n",
              "    }\n",
              "    20% {\n",
              "      border-color: transparent;\n",
              "      border-left-color: var(--fill-color);\n",
              "      border-top-color: var(--fill-color);\n",
              "    }\n",
              "    30% {\n",
              "      border-color: transparent;\n",
              "      border-left-color: var(--fill-color);\n",
              "      border-top-color: var(--fill-color);\n",
              "      border-right-color: var(--fill-color);\n",
              "    }\n",
              "    40% {\n",
              "      border-color: transparent;\n",
              "      border-right-color: var(--fill-color);\n",
              "      border-top-color: var(--fill-color);\n",
              "    }\n",
              "    60% {\n",
              "      border-color: transparent;\n",
              "      border-right-color: var(--fill-color);\n",
              "    }\n",
              "    80% {\n",
              "      border-color: transparent;\n",
              "      border-right-color: var(--fill-color);\n",
              "      border-bottom-color: var(--fill-color);\n",
              "    }\n",
              "    90% {\n",
              "      border-color: transparent;\n",
              "      border-bottom-color: var(--fill-color);\n",
              "    }\n",
              "  }\n",
              "</style>\n",
              "\n",
              "  <script>\n",
              "    async function quickchart(key) {\n",
              "      const quickchartButtonEl =\n",
              "        document.querySelector('#' + key + ' button');\n",
              "      quickchartButtonEl.disabled = true;  // To prevent multiple clicks.\n",
              "      quickchartButtonEl.classList.add('colab-df-spinner');\n",
              "      try {\n",
              "        const charts = await google.colab.kernel.invokeFunction(\n",
              "            'suggestCharts', [key], {});\n",
              "      } catch (error) {\n",
              "        console.error('Error during call to suggestCharts:', error);\n",
              "      }\n",
              "      quickchartButtonEl.classList.remove('colab-df-spinner');\n",
              "      quickchartButtonEl.classList.add('colab-df-quickchart-complete');\n",
              "    }\n",
              "    (() => {\n",
              "      let quickchartButtonEl =\n",
              "        document.querySelector('#df-10bb5fbf-9c5c-4fcb-905a-ed1fd7bf7d62 button');\n",
              "      quickchartButtonEl.style.display =\n",
              "        google.colab.kernel.accessAllowed ? 'block' : 'none';\n",
              "    })();\n",
              "  </script>\n",
              "</div>\n",
              "\n",
              "  <div id=\"id_864ab7b4-9d90-486c-a2af-b5fcdb2fef33\">\n",
              "    <style>\n",
              "      .colab-df-generate {\n",
              "        background-color: #E8F0FE;\n",
              "        border: none;\n",
              "        border-radius: 50%;\n",
              "        cursor: pointer;\n",
              "        display: none;\n",
              "        fill: #1967D2;\n",
              "        height: 32px;\n",
              "        padding: 0 0 0 0;\n",
              "        width: 32px;\n",
              "      }\n",
              "\n",
              "      .colab-df-generate:hover {\n",
              "        background-color: #E2EBFA;\n",
              "        box-shadow: 0px 1px 2px rgba(60, 64, 67, 0.3), 0px 1px 3px 1px rgba(60, 64, 67, 0.15);\n",
              "        fill: #174EA6;\n",
              "      }\n",
              "\n",
              "      [theme=dark] .colab-df-generate {\n",
              "        background-color: #3B4455;\n",
              "        fill: #D2E3FC;\n",
              "      }\n",
              "\n",
              "      [theme=dark] .colab-df-generate:hover {\n",
              "        background-color: #434B5C;\n",
              "        box-shadow: 0px 1px 3px 1px rgba(0, 0, 0, 0.15);\n",
              "        filter: drop-shadow(0px 1px 2px rgba(0, 0, 0, 0.3));\n",
              "        fill: #FFFFFF;\n",
              "      }\n",
              "    </style>\n",
              "    <button class=\"colab-df-generate\" onclick=\"generateWithVariable('movies')\"\n",
              "            title=\"Generate code using this dataframe.\"\n",
              "            style=\"display:none;\">\n",
              "\n",
              "  <svg xmlns=\"http://www.w3.org/2000/svg\" height=\"24px\"viewBox=\"0 0 24 24\"\n",
              "       width=\"24px\">\n",
              "    <path d=\"M7,19H8.4L18.45,9,17,7.55,7,17.6ZM5,21V16.75L18.45,3.32a2,2,0,0,1,2.83,0l1.4,1.43a1.91,1.91,0,0,1,.58,1.4,1.91,1.91,0,0,1-.58,1.4L9.25,21ZM18.45,9,17,7.55Zm-12,3A5.31,5.31,0,0,0,4.9,8.1,5.31,5.31,0,0,0,1,6.5,5.31,5.31,0,0,0,4.9,4.9,5.31,5.31,0,0,0,6.5,1,5.31,5.31,0,0,0,8.1,4.9,5.31,5.31,0,0,0,12,6.5,5.46,5.46,0,0,0,6.5,12Z\"/>\n",
              "  </svg>\n",
              "    </button>\n",
              "    <script>\n",
              "      (() => {\n",
              "      const buttonEl =\n",
              "        document.querySelector('#id_864ab7b4-9d90-486c-a2af-b5fcdb2fef33 button.colab-df-generate');\n",
              "      buttonEl.style.display =\n",
              "        google.colab.kernel.accessAllowed ? 'block' : 'none';\n",
              "\n",
              "      buttonEl.onclick = () => {\n",
              "        google.colab.notebook.generateWithVariable('movies');\n",
              "      }\n",
              "      })();\n",
              "    </script>\n",
              "  </div>\n",
              "\n",
              "    </div>\n",
              "  </div>\n"
            ],
            "application/vnd.google.colaboratory.intrinsic+json": {
              "type": "dataframe",
              "variable_name": "movies",
              "repr_error": "0"
            }
          },
          "metadata": {},
          "execution_count": 37
        }
      ],
      "source": [
        "#creating two extra columns\n",
        "tv_shows=df[df['type']=='TV Show']\n",
        "movies=df[df['type']=='Movie']\n",
        "movies"
      ]
    },
    {
      "cell_type": "code",
      "execution_count": null,
      "metadata": {
        "colab": {
          "base_uri": "https://localhost:8080/"
        },
        "id": "DJWm9cYPK91L",
        "outputId": "357e0303-8d8c-4ae4-9aa6-da490e7eb19d"
      },
      "outputs": [
        {
          "output_type": "execute_result",
          "data": {
            "text/plain": [
              "5353.5"
            ]
          },
          "metadata": {},
          "execution_count": 38
        }
      ],
      "source": [
        "#np.mean(movies)\n",
        "movies.count().mean()\n"
      ]
    },
    {
      "cell_type": "code",
      "execution_count": null,
      "metadata": {
        "colab": {
          "base_uri": "https://localhost:8080/"
        },
        "id": "RIL2lim-Z4Db",
        "outputId": "8212e59c-a9bf-4ee3-a9cc-4a85ed352eb9"
      },
      "outputs": [
        {
          "output_type": "execute_result",
          "data": {
            "text/plain": [
              "1        93 min\n",
              "2        78 min\n",
              "3        80 min\n",
              "4       123 min\n",
              "6        95 min\n",
              "         ...   \n",
              "7781     88 min\n",
              "7782     99 min\n",
              "7783    111 min\n",
              "7784     44 min\n",
              "7786     90 min\n",
              "Name: duration, Length: 5377, dtype: object"
            ]
          },
          "metadata": {},
          "execution_count": 39
        }
      ],
      "source": [
        "movies.duration"
      ]
    },
    {
      "cell_type": "code",
      "execution_count": null,
      "metadata": {
        "colab": {
          "base_uri": "https://localhost:8080/",
          "height": 293
        },
        "id": "pAc22A6XaPab",
        "outputId": "e27e9251-90f7-4049-be4d-db8b8567f2be"
      },
      "outputs": [
        {
          "output_type": "execute_result",
          "data": {
            "text/plain": [
              "  show_id     type  title        country         date_added  release_year  \\\n",
              "0      s1  TV Show     3%         Brazil    August 14, 2020          2020   \n",
              "1      s2    Movie   7:19         Mexico  December 23, 2016          2016   \n",
              "2      s3    Movie  23:59      Singapore  December 20, 2018          2011   \n",
              "3      s4    Movie      9  United States  November 16, 2017          2009   \n",
              "4      s5    Movie     21  United States    January 1, 2020          2013   \n",
              "\n",
              "  rating   duration                                          listed_in  \\\n",
              "0  TV-MA  4 Seasons  International TV Shows, TV Dramas, TV Sci-Fi &...   \n",
              "1  TV-MA     93 min                       Dramas, International Movies   \n",
              "2      R     78 min                Horror Movies, International Movies   \n",
              "3  PG-13     80 min  Action & Adventure, Independent Movies, Sci-Fi...   \n",
              "4  PG-13    123 min                                             Dramas   \n",
              "\n",
              "                                         description  \n",
              "0  In a future where the elite inhabit an island ...  \n",
              "1  After a devastating earthquake hits Mexico Cit...  \n",
              "2  When an army recruit is found dead, his fellow...  \n",
              "3  In a postapocalyptic world, rag-doll robots hi...  \n",
              "4  A brilliant group of students become card-coun...  "
            ],
            "text/html": [
              "\n",
              "  <div id=\"df-ae59e630-cb30-476d-8729-a9c87b895eea\" class=\"colab-df-container\">\n",
              "    <div>\n",
              "<style scoped>\n",
              "    .dataframe tbody tr th:only-of-type {\n",
              "        vertical-align: middle;\n",
              "    }\n",
              "\n",
              "    .dataframe tbody tr th {\n",
              "        vertical-align: top;\n",
              "    }\n",
              "\n",
              "    .dataframe thead th {\n",
              "        text-align: right;\n",
              "    }\n",
              "</style>\n",
              "<table border=\"1\" class=\"dataframe\">\n",
              "  <thead>\n",
              "    <tr style=\"text-align: right;\">\n",
              "      <th></th>\n",
              "      <th>show_id</th>\n",
              "      <th>type</th>\n",
              "      <th>title</th>\n",
              "      <th>country</th>\n",
              "      <th>date_added</th>\n",
              "      <th>release_year</th>\n",
              "      <th>rating</th>\n",
              "      <th>duration</th>\n",
              "      <th>listed_in</th>\n",
              "      <th>description</th>\n",
              "    </tr>\n",
              "  </thead>\n",
              "  <tbody>\n",
              "    <tr>\n",
              "      <th>0</th>\n",
              "      <td>s1</td>\n",
              "      <td>TV Show</td>\n",
              "      <td>3%</td>\n",
              "      <td>Brazil</td>\n",
              "      <td>August 14, 2020</td>\n",
              "      <td>2020</td>\n",
              "      <td>TV-MA</td>\n",
              "      <td>4 Seasons</td>\n",
              "      <td>International TV Shows, TV Dramas, TV Sci-Fi &amp;...</td>\n",
              "      <td>In a future where the elite inhabit an island ...</td>\n",
              "    </tr>\n",
              "    <tr>\n",
              "      <th>1</th>\n",
              "      <td>s2</td>\n",
              "      <td>Movie</td>\n",
              "      <td>7:19</td>\n",
              "      <td>Mexico</td>\n",
              "      <td>December 23, 2016</td>\n",
              "      <td>2016</td>\n",
              "      <td>TV-MA</td>\n",
              "      <td>93 min</td>\n",
              "      <td>Dramas, International Movies</td>\n",
              "      <td>After a devastating earthquake hits Mexico Cit...</td>\n",
              "    </tr>\n",
              "    <tr>\n",
              "      <th>2</th>\n",
              "      <td>s3</td>\n",
              "      <td>Movie</td>\n",
              "      <td>23:59</td>\n",
              "      <td>Singapore</td>\n",
              "      <td>December 20, 2018</td>\n",
              "      <td>2011</td>\n",
              "      <td>R</td>\n",
              "      <td>78 min</td>\n",
              "      <td>Horror Movies, International Movies</td>\n",
              "      <td>When an army recruit is found dead, his fellow...</td>\n",
              "    </tr>\n",
              "    <tr>\n",
              "      <th>3</th>\n",
              "      <td>s4</td>\n",
              "      <td>Movie</td>\n",
              "      <td>9</td>\n",
              "      <td>United States</td>\n",
              "      <td>November 16, 2017</td>\n",
              "      <td>2009</td>\n",
              "      <td>PG-13</td>\n",
              "      <td>80 min</td>\n",
              "      <td>Action &amp; Adventure, Independent Movies, Sci-Fi...</td>\n",
              "      <td>In a postapocalyptic world, rag-doll robots hi...</td>\n",
              "    </tr>\n",
              "    <tr>\n",
              "      <th>4</th>\n",
              "      <td>s5</td>\n",
              "      <td>Movie</td>\n",
              "      <td>21</td>\n",
              "      <td>United States</td>\n",
              "      <td>January 1, 2020</td>\n",
              "      <td>2013</td>\n",
              "      <td>PG-13</td>\n",
              "      <td>123 min</td>\n",
              "      <td>Dramas</td>\n",
              "      <td>A brilliant group of students become card-coun...</td>\n",
              "    </tr>\n",
              "  </tbody>\n",
              "</table>\n",
              "</div>\n",
              "    <div class=\"colab-df-buttons\">\n",
              "\n",
              "  <div class=\"colab-df-container\">\n",
              "    <button class=\"colab-df-convert\" onclick=\"convertToInteractive('df-ae59e630-cb30-476d-8729-a9c87b895eea')\"\n",
              "            title=\"Convert this dataframe to an interactive table.\"\n",
              "            style=\"display:none;\">\n",
              "\n",
              "  <svg xmlns=\"http://www.w3.org/2000/svg\" height=\"24px\" viewBox=\"0 -960 960 960\">\n",
              "    <path d=\"M120-120v-720h720v720H120Zm60-500h600v-160H180v160Zm220 220h160v-160H400v160Zm0 220h160v-160H400v160ZM180-400h160v-160H180v160Zm440 0h160v-160H620v160ZM180-180h160v-160H180v160Zm440 0h160v-160H620v160Z\"/>\n",
              "  </svg>\n",
              "    </button>\n",
              "\n",
              "  <style>\n",
              "    .colab-df-container {\n",
              "      display:flex;\n",
              "      gap: 12px;\n",
              "    }\n",
              "\n",
              "    .colab-df-convert {\n",
              "      background-color: #E8F0FE;\n",
              "      border: none;\n",
              "      border-radius: 50%;\n",
              "      cursor: pointer;\n",
              "      display: none;\n",
              "      fill: #1967D2;\n",
              "      height: 32px;\n",
              "      padding: 0 0 0 0;\n",
              "      width: 32px;\n",
              "    }\n",
              "\n",
              "    .colab-df-convert:hover {\n",
              "      background-color: #E2EBFA;\n",
              "      box-shadow: 0px 1px 2px rgba(60, 64, 67, 0.3), 0px 1px 3px 1px rgba(60, 64, 67, 0.15);\n",
              "      fill: #174EA6;\n",
              "    }\n",
              "\n",
              "    .colab-df-buttons div {\n",
              "      margin-bottom: 4px;\n",
              "    }\n",
              "\n",
              "    [theme=dark] .colab-df-convert {\n",
              "      background-color: #3B4455;\n",
              "      fill: #D2E3FC;\n",
              "    }\n",
              "\n",
              "    [theme=dark] .colab-df-convert:hover {\n",
              "      background-color: #434B5C;\n",
              "      box-shadow: 0px 1px 3px 1px rgba(0, 0, 0, 0.15);\n",
              "      filter: drop-shadow(0px 1px 2px rgba(0, 0, 0, 0.3));\n",
              "      fill: #FFFFFF;\n",
              "    }\n",
              "  </style>\n",
              "\n",
              "    <script>\n",
              "      const buttonEl =\n",
              "        document.querySelector('#df-ae59e630-cb30-476d-8729-a9c87b895eea button.colab-df-convert');\n",
              "      buttonEl.style.display =\n",
              "        google.colab.kernel.accessAllowed ? 'block' : 'none';\n",
              "\n",
              "      async function convertToInteractive(key) {\n",
              "        const element = document.querySelector('#df-ae59e630-cb30-476d-8729-a9c87b895eea');\n",
              "        const dataTable =\n",
              "          await google.colab.kernel.invokeFunction('convertToInteractive',\n",
              "                                                    [key], {});\n",
              "        if (!dataTable) return;\n",
              "\n",
              "        const docLinkHtml = 'Like what you see? Visit the ' +\n",
              "          '<a target=\"_blank\" href=https://colab.research.google.com/notebooks/data_table.ipynb>data table notebook</a>'\n",
              "          + ' to learn more about interactive tables.';\n",
              "        element.innerHTML = '';\n",
              "        dataTable['output_type'] = 'display_data';\n",
              "        await google.colab.output.renderOutput(dataTable, element);\n",
              "        const docLink = document.createElement('div');\n",
              "        docLink.innerHTML = docLinkHtml;\n",
              "        element.appendChild(docLink);\n",
              "      }\n",
              "    </script>\n",
              "  </div>\n",
              "\n",
              "\n",
              "<div id=\"df-64cf0dd9-920b-4907-8c66-c1676196ea27\">\n",
              "  <button class=\"colab-df-quickchart\" onclick=\"quickchart('df-64cf0dd9-920b-4907-8c66-c1676196ea27')\"\n",
              "            title=\"Suggest charts\"\n",
              "            style=\"display:none;\">\n",
              "\n",
              "<svg xmlns=\"http://www.w3.org/2000/svg\" height=\"24px\"viewBox=\"0 0 24 24\"\n",
              "     width=\"24px\">\n",
              "    <g>\n",
              "        <path d=\"M19 3H5c-1.1 0-2 .9-2 2v14c0 1.1.9 2 2 2h14c1.1 0 2-.9 2-2V5c0-1.1-.9-2-2-2zM9 17H7v-7h2v7zm4 0h-2V7h2v10zm4 0h-2v-4h2v4z\"/>\n",
              "    </g>\n",
              "</svg>\n",
              "  </button>\n",
              "\n",
              "<style>\n",
              "  .colab-df-quickchart {\n",
              "      --bg-color: #E8F0FE;\n",
              "      --fill-color: #1967D2;\n",
              "      --hover-bg-color: #E2EBFA;\n",
              "      --hover-fill-color: #174EA6;\n",
              "      --disabled-fill-color: #AAA;\n",
              "      --disabled-bg-color: #DDD;\n",
              "  }\n",
              "\n",
              "  [theme=dark] .colab-df-quickchart {\n",
              "      --bg-color: #3B4455;\n",
              "      --fill-color: #D2E3FC;\n",
              "      --hover-bg-color: #434B5C;\n",
              "      --hover-fill-color: #FFFFFF;\n",
              "      --disabled-bg-color: #3B4455;\n",
              "      --disabled-fill-color: #666;\n",
              "  }\n",
              "\n",
              "  .colab-df-quickchart {\n",
              "    background-color: var(--bg-color);\n",
              "    border: none;\n",
              "    border-radius: 50%;\n",
              "    cursor: pointer;\n",
              "    display: none;\n",
              "    fill: var(--fill-color);\n",
              "    height: 32px;\n",
              "    padding: 0;\n",
              "    width: 32px;\n",
              "  }\n",
              "\n",
              "  .colab-df-quickchart:hover {\n",
              "    background-color: var(--hover-bg-color);\n",
              "    box-shadow: 0 1px 2px rgba(60, 64, 67, 0.3), 0 1px 3px 1px rgba(60, 64, 67, 0.15);\n",
              "    fill: var(--button-hover-fill-color);\n",
              "  }\n",
              "\n",
              "  .colab-df-quickchart-complete:disabled,\n",
              "  .colab-df-quickchart-complete:disabled:hover {\n",
              "    background-color: var(--disabled-bg-color);\n",
              "    fill: var(--disabled-fill-color);\n",
              "    box-shadow: none;\n",
              "  }\n",
              "\n",
              "  .colab-df-spinner {\n",
              "    border: 2px solid var(--fill-color);\n",
              "    border-color: transparent;\n",
              "    border-bottom-color: var(--fill-color);\n",
              "    animation:\n",
              "      spin 1s steps(1) infinite;\n",
              "  }\n",
              "\n",
              "  @keyframes spin {\n",
              "    0% {\n",
              "      border-color: transparent;\n",
              "      border-bottom-color: var(--fill-color);\n",
              "      border-left-color: var(--fill-color);\n",
              "    }\n",
              "    20% {\n",
              "      border-color: transparent;\n",
              "      border-left-color: var(--fill-color);\n",
              "      border-top-color: var(--fill-color);\n",
              "    }\n",
              "    30% {\n",
              "      border-color: transparent;\n",
              "      border-left-color: var(--fill-color);\n",
              "      border-top-color: var(--fill-color);\n",
              "      border-right-color: var(--fill-color);\n",
              "    }\n",
              "    40% {\n",
              "      border-color: transparent;\n",
              "      border-right-color: var(--fill-color);\n",
              "      border-top-color: var(--fill-color);\n",
              "    }\n",
              "    60% {\n",
              "      border-color: transparent;\n",
              "      border-right-color: var(--fill-color);\n",
              "    }\n",
              "    80% {\n",
              "      border-color: transparent;\n",
              "      border-right-color: var(--fill-color);\n",
              "      border-bottom-color: var(--fill-color);\n",
              "    }\n",
              "    90% {\n",
              "      border-color: transparent;\n",
              "      border-bottom-color: var(--fill-color);\n",
              "    }\n",
              "  }\n",
              "</style>\n",
              "\n",
              "  <script>\n",
              "    async function quickchart(key) {\n",
              "      const quickchartButtonEl =\n",
              "        document.querySelector('#' + key + ' button');\n",
              "      quickchartButtonEl.disabled = true;  // To prevent multiple clicks.\n",
              "      quickchartButtonEl.classList.add('colab-df-spinner');\n",
              "      try {\n",
              "        const charts = await google.colab.kernel.invokeFunction(\n",
              "            'suggestCharts', [key], {});\n",
              "      } catch (error) {\n",
              "        console.error('Error during call to suggestCharts:', error);\n",
              "      }\n",
              "      quickchartButtonEl.classList.remove('colab-df-spinner');\n",
              "      quickchartButtonEl.classList.add('colab-df-quickchart-complete');\n",
              "    }\n",
              "    (() => {\n",
              "      let quickchartButtonEl =\n",
              "        document.querySelector('#df-64cf0dd9-920b-4907-8c66-c1676196ea27 button');\n",
              "      quickchartButtonEl.style.display =\n",
              "        google.colab.kernel.accessAllowed ? 'block' : 'none';\n",
              "    })();\n",
              "  </script>\n",
              "</div>\n",
              "\n",
              "    </div>\n",
              "  </div>\n"
            ],
            "application/vnd.google.colaboratory.intrinsic+json": {
              "type": "dataframe",
              "variable_name": "df_hypothesis",
              "summary": "{\n  \"name\": \"df_hypothesis\",\n  \"rows\": 7777,\n  \"fields\": [\n    {\n      \"column\": \"show_id\",\n      \"properties\": {\n        \"dtype\": \"string\",\n        \"num_unique_values\": 7777,\n        \"samples\": [\n          \"s1424\",\n          \"s2754\",\n          \"s3482\"\n        ],\n        \"semantic_type\": \"\",\n        \"description\": \"\"\n      }\n    },\n    {\n      \"column\": \"type\",\n      \"properties\": {\n        \"dtype\": \"category\",\n        \"num_unique_values\": 2,\n        \"samples\": [\n          \"Movie\",\n          \"TV Show\"\n        ],\n        \"semantic_type\": \"\",\n        \"description\": \"\"\n      }\n    },\n    {\n      \"column\": \"title\",\n      \"properties\": {\n        \"dtype\": \"string\",\n        \"num_unique_values\": 7777,\n        \"samples\": [\n          \"Closed Circuit\",\n          \"History of Swear Words\"\n        ],\n        \"semantic_type\": \"\",\n        \"description\": \"\"\n      }\n    },\n    {\n      \"column\": \"country\",\n      \"properties\": {\n        \"dtype\": \"category\",\n        \"num_unique_values\": 681,\n        \"samples\": [\n          \"Romania, United Kingdom\",\n          \"United States, United Arab Emirates\"\n        ],\n        \"semantic_type\": \"\",\n        \"description\": \"\"\n      }\n    },\n    {\n      \"column\": \"date_added\",\n      \"properties\": {\n        \"dtype\": \"category\",\n        \"num_unique_values\": 1565,\n        \"samples\": [\n          \"April 18, 2017\",\n          \"February 27, 2020\"\n        ],\n        \"semantic_type\": \"\",\n        \"description\": \"\"\n      }\n    },\n    {\n      \"column\": \"release_year\",\n      \"properties\": {\n        \"dtype\": \"number\",\n        \"std\": 2,\n        \"min\": 2009,\n        \"max\": 2021,\n        \"num_unique_values\": 13,\n        \"samples\": [\n          2012,\n          2015\n        ],\n        \"semantic_type\": \"\",\n        \"description\": \"\"\n      }\n    },\n    {\n      \"column\": \"rating\",\n      \"properties\": {\n        \"dtype\": \"category\",\n        \"num_unique_values\": 14,\n        \"samples\": [\n          \"PG\",\n          \"NC-17\"\n        ],\n        \"semantic_type\": \"\",\n        \"description\": \"\"\n      }\n    },\n    {\n      \"column\": \"duration\",\n      \"properties\": {\n        \"dtype\": \"category\",\n        \"num_unique_values\": 216,\n        \"samples\": [\n          \"230 min\",\n          \"253 min\"\n        ],\n        \"semantic_type\": \"\",\n        \"description\": \"\"\n      }\n    },\n    {\n      \"column\": \"listed_in\",\n      \"properties\": {\n        \"dtype\": \"category\",\n        \"num_unique_values\": 491,\n        \"samples\": [\n          \"International TV Shows, Romantic TV Shows, TV Mysteries\",\n          \"Comedies, Independent Movies\"\n        ],\n        \"semantic_type\": \"\",\n        \"description\": \"\"\n      }\n    },\n    {\n      \"column\": \"description\",\n      \"properties\": {\n        \"dtype\": \"string\",\n        \"num_unique_values\": 7759,\n        \"samples\": [\n          \"On a road trip with friends, Kimberly has a premonition that saves everyone from a freak accident. More terrifying visions prompt her to seek help.\",\n          \"An officer killed on the job returns to Earth as a ghost to solve his own murder and seek justice with the help of a rookie cop and some funky magic.\"\n        ],\n        \"semantic_type\": \"\",\n        \"description\": \"\"\n      }\n    }\n  ]\n}"
            }
          },
          "metadata": {},
          "execution_count": 40
        }
      ],
      "source": [
        "#making copy of df_clean_frame\n",
        "df_hypothesis=df.copy()\n",
        "#head of df_hypothesis\n",
        "df_hypothesis.head()"
      ]
    },
    {
      "cell_type": "code",
      "execution_count": null,
      "metadata": {
        "id": "p6bO5XXHaPdT"
      },
      "outputs": [],
      "source": [
        "#filtering movie from Type_of_show column\n",
        "df_hypothesis = df_hypothesis[df_hypothesis[\"type\"] == \"Movie\"]"
      ]
    },
    {
      "cell_type": "code",
      "execution_count": null,
      "metadata": {
        "colab": {
          "base_uri": "https://localhost:8080/"
        },
        "id": "dXeVVs7rartO",
        "outputId": "1597da75-e1d9-4492-9320-f32b9da5b944"
      },
      "outputs": [
        {
          "output_type": "execute_result",
          "data": {
            "text/plain": [
              "array(['Adults', 'Teens', 'Older Kids', 'Kids', nan], dtype=object)"
            ]
          },
          "metadata": {},
          "execution_count": 42
        }
      ],
      "source": [
        "#with respect to each ratings assigning it into group of categories\n",
        "ratings_ages = {\n",
        "    'TV-PG': 'Older Kids',\n",
        "    'TV-MA': 'Adults',\n",
        "    'TV-Y7-FV': 'Older Kids',\n",
        "    'TV-Y7': 'Older Kids',\n",
        "    'TV-14': 'Teens',\n",
        "    'R': 'Adults',\n",
        "    'TV-Y': 'Kids',\n",
        "    'NR': 'Adults',\n",
        "    'PG-13': 'Teens',\n",
        "    'TV-G': 'Kids',\n",
        "    'PG': 'Older Kids',\n",
        "    'G': 'Kids',\n",
        "    'UR': 'Adults',\n",
        "    'NC-17': 'Adults'\n",
        "}\n",
        "\n",
        "df_hypothesis['target_ages'] = df_hypothesis['rating'].replace(ratings_ages)\n",
        "#let's see unique target ages\n",
        "df_hypothesis['target_ages'].unique()"
      ]
    },
    {
      "cell_type": "code",
      "execution_count": null,
      "metadata": {
        "colab": {
          "base_uri": "https://localhost:8080/",
          "height": 213
        },
        "id": "CQoPAI9BbEiN",
        "outputId": "7b915c17-e9c8-4ee0-8f9c-0818f74c7cb2"
      },
      "outputs": [
        {
          "output_type": "execute_result",
          "data": {
            "text/plain": [
              "  show_id   type  title        country         date_added  release_year  \\\n",
              "1      s2  Movie   7:19         Mexico  December 23, 2016          2016   \n",
              "2      s3  Movie  23:59      Singapore  December 20, 2018          2011   \n",
              "3      s4  Movie      9  United States  November 16, 2017          2009   \n",
              "\n",
              "  rating  duration                                          listed_in  \\\n",
              "1  TV-MA        93                       Dramas, International Movies   \n",
              "2      R        78                Horror Movies, International Movies   \n",
              "3  PG-13        80  Action & Adventure, Independent Movies, Sci-Fi...   \n",
              "\n",
              "                                         description target_ages  \n",
              "1  After a devastating earthquake hits Mexico Cit...      Adults  \n",
              "2  When an army recruit is found dead, his fellow...      Adults  \n",
              "3  In a postapocalyptic world, rag-doll robots hi...       Teens  "
            ],
            "text/html": [
              "\n",
              "  <div id=\"df-dc31fed3-c21b-4cc9-a581-5f62f058785e\" class=\"colab-df-container\">\n",
              "    <div>\n",
              "<style scoped>\n",
              "    .dataframe tbody tr th:only-of-type {\n",
              "        vertical-align: middle;\n",
              "    }\n",
              "\n",
              "    .dataframe tbody tr th {\n",
              "        vertical-align: top;\n",
              "    }\n",
              "\n",
              "    .dataframe thead th {\n",
              "        text-align: right;\n",
              "    }\n",
              "</style>\n",
              "<table border=\"1\" class=\"dataframe\">\n",
              "  <thead>\n",
              "    <tr style=\"text-align: right;\">\n",
              "      <th></th>\n",
              "      <th>show_id</th>\n",
              "      <th>type</th>\n",
              "      <th>title</th>\n",
              "      <th>country</th>\n",
              "      <th>date_added</th>\n",
              "      <th>release_year</th>\n",
              "      <th>rating</th>\n",
              "      <th>duration</th>\n",
              "      <th>listed_in</th>\n",
              "      <th>description</th>\n",
              "      <th>target_ages</th>\n",
              "    </tr>\n",
              "  </thead>\n",
              "  <tbody>\n",
              "    <tr>\n",
              "      <th>1</th>\n",
              "      <td>s2</td>\n",
              "      <td>Movie</td>\n",
              "      <td>7:19</td>\n",
              "      <td>Mexico</td>\n",
              "      <td>December 23, 2016</td>\n",
              "      <td>2016</td>\n",
              "      <td>TV-MA</td>\n",
              "      <td>93</td>\n",
              "      <td>Dramas, International Movies</td>\n",
              "      <td>After a devastating earthquake hits Mexico Cit...</td>\n",
              "      <td>Adults</td>\n",
              "    </tr>\n",
              "    <tr>\n",
              "      <th>2</th>\n",
              "      <td>s3</td>\n",
              "      <td>Movie</td>\n",
              "      <td>23:59</td>\n",
              "      <td>Singapore</td>\n",
              "      <td>December 20, 2018</td>\n",
              "      <td>2011</td>\n",
              "      <td>R</td>\n",
              "      <td>78</td>\n",
              "      <td>Horror Movies, International Movies</td>\n",
              "      <td>When an army recruit is found dead, his fellow...</td>\n",
              "      <td>Adults</td>\n",
              "    </tr>\n",
              "    <tr>\n",
              "      <th>3</th>\n",
              "      <td>s4</td>\n",
              "      <td>Movie</td>\n",
              "      <td>9</td>\n",
              "      <td>United States</td>\n",
              "      <td>November 16, 2017</td>\n",
              "      <td>2009</td>\n",
              "      <td>PG-13</td>\n",
              "      <td>80</td>\n",
              "      <td>Action &amp; Adventure, Independent Movies, Sci-Fi...</td>\n",
              "      <td>In a postapocalyptic world, rag-doll robots hi...</td>\n",
              "      <td>Teens</td>\n",
              "    </tr>\n",
              "  </tbody>\n",
              "</table>\n",
              "</div>\n",
              "    <div class=\"colab-df-buttons\">\n",
              "\n",
              "  <div class=\"colab-df-container\">\n",
              "    <button class=\"colab-df-convert\" onclick=\"convertToInteractive('df-dc31fed3-c21b-4cc9-a581-5f62f058785e')\"\n",
              "            title=\"Convert this dataframe to an interactive table.\"\n",
              "            style=\"display:none;\">\n",
              "\n",
              "  <svg xmlns=\"http://www.w3.org/2000/svg\" height=\"24px\" viewBox=\"0 -960 960 960\">\n",
              "    <path d=\"M120-120v-720h720v720H120Zm60-500h600v-160H180v160Zm220 220h160v-160H400v160Zm0 220h160v-160H400v160ZM180-400h160v-160H180v160Zm440 0h160v-160H620v160ZM180-180h160v-160H180v160Zm440 0h160v-160H620v160Z\"/>\n",
              "  </svg>\n",
              "    </button>\n",
              "\n",
              "  <style>\n",
              "    .colab-df-container {\n",
              "      display:flex;\n",
              "      gap: 12px;\n",
              "    }\n",
              "\n",
              "    .colab-df-convert {\n",
              "      background-color: #E8F0FE;\n",
              "      border: none;\n",
              "      border-radius: 50%;\n",
              "      cursor: pointer;\n",
              "      display: none;\n",
              "      fill: #1967D2;\n",
              "      height: 32px;\n",
              "      padding: 0 0 0 0;\n",
              "      width: 32px;\n",
              "    }\n",
              "\n",
              "    .colab-df-convert:hover {\n",
              "      background-color: #E2EBFA;\n",
              "      box-shadow: 0px 1px 2px rgba(60, 64, 67, 0.3), 0px 1px 3px 1px rgba(60, 64, 67, 0.15);\n",
              "      fill: #174EA6;\n",
              "    }\n",
              "\n",
              "    .colab-df-buttons div {\n",
              "      margin-bottom: 4px;\n",
              "    }\n",
              "\n",
              "    [theme=dark] .colab-df-convert {\n",
              "      background-color: #3B4455;\n",
              "      fill: #D2E3FC;\n",
              "    }\n",
              "\n",
              "    [theme=dark] .colab-df-convert:hover {\n",
              "      background-color: #434B5C;\n",
              "      box-shadow: 0px 1px 3px 1px rgba(0, 0, 0, 0.15);\n",
              "      filter: drop-shadow(0px 1px 2px rgba(0, 0, 0, 0.3));\n",
              "      fill: #FFFFFF;\n",
              "    }\n",
              "  </style>\n",
              "\n",
              "    <script>\n",
              "      const buttonEl =\n",
              "        document.querySelector('#df-dc31fed3-c21b-4cc9-a581-5f62f058785e button.colab-df-convert');\n",
              "      buttonEl.style.display =\n",
              "        google.colab.kernel.accessAllowed ? 'block' : 'none';\n",
              "\n",
              "      async function convertToInteractive(key) {\n",
              "        const element = document.querySelector('#df-dc31fed3-c21b-4cc9-a581-5f62f058785e');\n",
              "        const dataTable =\n",
              "          await google.colab.kernel.invokeFunction('convertToInteractive',\n",
              "                                                    [key], {});\n",
              "        if (!dataTable) return;\n",
              "\n",
              "        const docLinkHtml = 'Like what you see? Visit the ' +\n",
              "          '<a target=\"_blank\" href=https://colab.research.google.com/notebooks/data_table.ipynb>data table notebook</a>'\n",
              "          + ' to learn more about interactive tables.';\n",
              "        element.innerHTML = '';\n",
              "        dataTable['output_type'] = 'display_data';\n",
              "        await google.colab.output.renderOutput(dataTable, element);\n",
              "        const docLink = document.createElement('div');\n",
              "        docLink.innerHTML = docLinkHtml;\n",
              "        element.appendChild(docLink);\n",
              "      }\n",
              "    </script>\n",
              "  </div>\n",
              "\n",
              "\n",
              "<div id=\"df-448db79f-34ec-44d6-be73-e22e75ba2807\">\n",
              "  <button class=\"colab-df-quickchart\" onclick=\"quickchart('df-448db79f-34ec-44d6-be73-e22e75ba2807')\"\n",
              "            title=\"Suggest charts\"\n",
              "            style=\"display:none;\">\n",
              "\n",
              "<svg xmlns=\"http://www.w3.org/2000/svg\" height=\"24px\"viewBox=\"0 0 24 24\"\n",
              "     width=\"24px\">\n",
              "    <g>\n",
              "        <path d=\"M19 3H5c-1.1 0-2 .9-2 2v14c0 1.1.9 2 2 2h14c1.1 0 2-.9 2-2V5c0-1.1-.9-2-2-2zM9 17H7v-7h2v7zm4 0h-2V7h2v10zm4 0h-2v-4h2v4z\"/>\n",
              "    </g>\n",
              "</svg>\n",
              "  </button>\n",
              "\n",
              "<style>\n",
              "  .colab-df-quickchart {\n",
              "      --bg-color: #E8F0FE;\n",
              "      --fill-color: #1967D2;\n",
              "      --hover-bg-color: #E2EBFA;\n",
              "      --hover-fill-color: #174EA6;\n",
              "      --disabled-fill-color: #AAA;\n",
              "      --disabled-bg-color: #DDD;\n",
              "  }\n",
              "\n",
              "  [theme=dark] .colab-df-quickchart {\n",
              "      --bg-color: #3B4455;\n",
              "      --fill-color: #D2E3FC;\n",
              "      --hover-bg-color: #434B5C;\n",
              "      --hover-fill-color: #FFFFFF;\n",
              "      --disabled-bg-color: #3B4455;\n",
              "      --disabled-fill-color: #666;\n",
              "  }\n",
              "\n",
              "  .colab-df-quickchart {\n",
              "    background-color: var(--bg-color);\n",
              "    border: none;\n",
              "    border-radius: 50%;\n",
              "    cursor: pointer;\n",
              "    display: none;\n",
              "    fill: var(--fill-color);\n",
              "    height: 32px;\n",
              "    padding: 0;\n",
              "    width: 32px;\n",
              "  }\n",
              "\n",
              "  .colab-df-quickchart:hover {\n",
              "    background-color: var(--hover-bg-color);\n",
              "    box-shadow: 0 1px 2px rgba(60, 64, 67, 0.3), 0 1px 3px 1px rgba(60, 64, 67, 0.15);\n",
              "    fill: var(--button-hover-fill-color);\n",
              "  }\n",
              "\n",
              "  .colab-df-quickchart-complete:disabled,\n",
              "  .colab-df-quickchart-complete:disabled:hover {\n",
              "    background-color: var(--disabled-bg-color);\n",
              "    fill: var(--disabled-fill-color);\n",
              "    box-shadow: none;\n",
              "  }\n",
              "\n",
              "  .colab-df-spinner {\n",
              "    border: 2px solid var(--fill-color);\n",
              "    border-color: transparent;\n",
              "    border-bottom-color: var(--fill-color);\n",
              "    animation:\n",
              "      spin 1s steps(1) infinite;\n",
              "  }\n",
              "\n",
              "  @keyframes spin {\n",
              "    0% {\n",
              "      border-color: transparent;\n",
              "      border-bottom-color: var(--fill-color);\n",
              "      border-left-color: var(--fill-color);\n",
              "    }\n",
              "    20% {\n",
              "      border-color: transparent;\n",
              "      border-left-color: var(--fill-color);\n",
              "      border-top-color: var(--fill-color);\n",
              "    }\n",
              "    30% {\n",
              "      border-color: transparent;\n",
              "      border-left-color: var(--fill-color);\n",
              "      border-top-color: var(--fill-color);\n",
              "      border-right-color: var(--fill-color);\n",
              "    }\n",
              "    40% {\n",
              "      border-color: transparent;\n",
              "      border-right-color: var(--fill-color);\n",
              "      border-top-color: var(--fill-color);\n",
              "    }\n",
              "    60% {\n",
              "      border-color: transparent;\n",
              "      border-right-color: var(--fill-color);\n",
              "    }\n",
              "    80% {\n",
              "      border-color: transparent;\n",
              "      border-right-color: var(--fill-color);\n",
              "      border-bottom-color: var(--fill-color);\n",
              "    }\n",
              "    90% {\n",
              "      border-color: transparent;\n",
              "      border-bottom-color: var(--fill-color);\n",
              "    }\n",
              "  }\n",
              "</style>\n",
              "\n",
              "  <script>\n",
              "    async function quickchart(key) {\n",
              "      const quickchartButtonEl =\n",
              "        document.querySelector('#' + key + ' button');\n",
              "      quickchartButtonEl.disabled = true;  // To prevent multiple clicks.\n",
              "      quickchartButtonEl.classList.add('colab-df-spinner');\n",
              "      try {\n",
              "        const charts = await google.colab.kernel.invokeFunction(\n",
              "            'suggestCharts', [key], {});\n",
              "      } catch (error) {\n",
              "        console.error('Error during call to suggestCharts:', error);\n",
              "      }\n",
              "      quickchartButtonEl.classList.remove('colab-df-spinner');\n",
              "      quickchartButtonEl.classList.add('colab-df-quickchart-complete');\n",
              "    }\n",
              "    (() => {\n",
              "      let quickchartButtonEl =\n",
              "        document.querySelector('#df-448db79f-34ec-44d6-be73-e22e75ba2807 button');\n",
              "      quickchartButtonEl.style.display =\n",
              "        google.colab.kernel.accessAllowed ? 'block' : 'none';\n",
              "    })();\n",
              "  </script>\n",
              "</div>\n",
              "\n",
              "    </div>\n",
              "  </div>\n"
            ],
            "application/vnd.google.colaboratory.intrinsic+json": {
              "type": "dataframe",
              "variable_name": "df_hypothesis",
              "repr_error": "0"
            }
          },
          "metadata": {},
          "execution_count": 43
        }
      ],
      "source": [
        "#Another category is target_ages (4 classes).\n",
        "df_hypothesis['target_ages'] = pd.Categorical(df_hypothesis['target_ages'], categories=['Kids', 'Older Kids', 'Teens', 'Adults'])\n",
        "#from duration feature extractin string part and after extracting Changing the object type to numeric\n",
        "df_hypothesis['duration']= df_hypothesis['duration'].str.extract('(\\d+)')\n",
        "df_hypothesis['duration'] = pd.to_numeric(df_hypothesis['duration'])\n",
        "#head of df_\n",
        "df_hypothesis.head(3)\n"
      ]
    },
    {
      "cell_type": "code",
      "execution_count": null,
      "metadata": {
        "colab": {
          "base_uri": "https://localhost:8080/",
          "height": 174
        },
        "id": "EqsyXoJVHEen",
        "outputId": "0e54511d-3e13-43d4-92e0-6e87e59b2767"
      },
      "outputs": [
        {
          "output_type": "execute_result",
          "data": {
            "text/plain": [
              "  target_ages    duration\n",
              "0        Kids   66.486891\n",
              "1  Older Kids   92.024648\n",
              "2       Teens  110.025332\n",
              "3      Adults   98.275145"
            ],
            "text/html": [
              "\n",
              "  <div id=\"df-9f029d11-1d6a-4110-a794-4ac779c58951\" class=\"colab-df-container\">\n",
              "    <div>\n",
              "<style scoped>\n",
              "    .dataframe tbody tr th:only-of-type {\n",
              "        vertical-align: middle;\n",
              "    }\n",
              "\n",
              "    .dataframe tbody tr th {\n",
              "        vertical-align: top;\n",
              "    }\n",
              "\n",
              "    .dataframe thead th {\n",
              "        text-align: right;\n",
              "    }\n",
              "</style>\n",
              "<table border=\"1\" class=\"dataframe\">\n",
              "  <thead>\n",
              "    <tr style=\"text-align: right;\">\n",
              "      <th></th>\n",
              "      <th>target_ages</th>\n",
              "      <th>duration</th>\n",
              "    </tr>\n",
              "  </thead>\n",
              "  <tbody>\n",
              "    <tr>\n",
              "      <th>0</th>\n",
              "      <td>Kids</td>\n",
              "      <td>66.486891</td>\n",
              "    </tr>\n",
              "    <tr>\n",
              "      <th>1</th>\n",
              "      <td>Older Kids</td>\n",
              "      <td>92.024648</td>\n",
              "    </tr>\n",
              "    <tr>\n",
              "      <th>2</th>\n",
              "      <td>Teens</td>\n",
              "      <td>110.025332</td>\n",
              "    </tr>\n",
              "    <tr>\n",
              "      <th>3</th>\n",
              "      <td>Adults</td>\n",
              "      <td>98.275145</td>\n",
              "    </tr>\n",
              "  </tbody>\n",
              "</table>\n",
              "</div>\n",
              "    <div class=\"colab-df-buttons\">\n",
              "\n",
              "  <div class=\"colab-df-container\">\n",
              "    <button class=\"colab-df-convert\" onclick=\"convertToInteractive('df-9f029d11-1d6a-4110-a794-4ac779c58951')\"\n",
              "            title=\"Convert this dataframe to an interactive table.\"\n",
              "            style=\"display:none;\">\n",
              "\n",
              "  <svg xmlns=\"http://www.w3.org/2000/svg\" height=\"24px\" viewBox=\"0 -960 960 960\">\n",
              "    <path d=\"M120-120v-720h720v720H120Zm60-500h600v-160H180v160Zm220 220h160v-160H400v160Zm0 220h160v-160H400v160ZM180-400h160v-160H180v160Zm440 0h160v-160H620v160ZM180-180h160v-160H180v160Zm440 0h160v-160H620v160Z\"/>\n",
              "  </svg>\n",
              "    </button>\n",
              "\n",
              "  <style>\n",
              "    .colab-df-container {\n",
              "      display:flex;\n",
              "      gap: 12px;\n",
              "    }\n",
              "\n",
              "    .colab-df-convert {\n",
              "      background-color: #E8F0FE;\n",
              "      border: none;\n",
              "      border-radius: 50%;\n",
              "      cursor: pointer;\n",
              "      display: none;\n",
              "      fill: #1967D2;\n",
              "      height: 32px;\n",
              "      padding: 0 0 0 0;\n",
              "      width: 32px;\n",
              "    }\n",
              "\n",
              "    .colab-df-convert:hover {\n",
              "      background-color: #E2EBFA;\n",
              "      box-shadow: 0px 1px 2px rgba(60, 64, 67, 0.3), 0px 1px 3px 1px rgba(60, 64, 67, 0.15);\n",
              "      fill: #174EA6;\n",
              "    }\n",
              "\n",
              "    .colab-df-buttons div {\n",
              "      margin-bottom: 4px;\n",
              "    }\n",
              "\n",
              "    [theme=dark] .colab-df-convert {\n",
              "      background-color: #3B4455;\n",
              "      fill: #D2E3FC;\n",
              "    }\n",
              "\n",
              "    [theme=dark] .colab-df-convert:hover {\n",
              "      background-color: #434B5C;\n",
              "      box-shadow: 0px 1px 3px 1px rgba(0, 0, 0, 0.15);\n",
              "      filter: drop-shadow(0px 1px 2px rgba(0, 0, 0, 0.3));\n",
              "      fill: #FFFFFF;\n",
              "    }\n",
              "  </style>\n",
              "\n",
              "    <script>\n",
              "      const buttonEl =\n",
              "        document.querySelector('#df-9f029d11-1d6a-4110-a794-4ac779c58951 button.colab-df-convert');\n",
              "      buttonEl.style.display =\n",
              "        google.colab.kernel.accessAllowed ? 'block' : 'none';\n",
              "\n",
              "      async function convertToInteractive(key) {\n",
              "        const element = document.querySelector('#df-9f029d11-1d6a-4110-a794-4ac779c58951');\n",
              "        const dataTable =\n",
              "          await google.colab.kernel.invokeFunction('convertToInteractive',\n",
              "                                                    [key], {});\n",
              "        if (!dataTable) return;\n",
              "\n",
              "        const docLinkHtml = 'Like what you see? Visit the ' +\n",
              "          '<a target=\"_blank\" href=https://colab.research.google.com/notebooks/data_table.ipynb>data table notebook</a>'\n",
              "          + ' to learn more about interactive tables.';\n",
              "        element.innerHTML = '';\n",
              "        dataTable['output_type'] = 'display_data';\n",
              "        await google.colab.output.renderOutput(dataTable, element);\n",
              "        const docLink = document.createElement('div');\n",
              "        docLink.innerHTML = docLinkHtml;\n",
              "        element.appendChild(docLink);\n",
              "      }\n",
              "    </script>\n",
              "  </div>\n",
              "\n",
              "\n",
              "<div id=\"df-fca767dd-c7c9-44b0-84b4-c044e578d43a\">\n",
              "  <button class=\"colab-df-quickchart\" onclick=\"quickchart('df-fca767dd-c7c9-44b0-84b4-c044e578d43a')\"\n",
              "            title=\"Suggest charts\"\n",
              "            style=\"display:none;\">\n",
              "\n",
              "<svg xmlns=\"http://www.w3.org/2000/svg\" height=\"24px\"viewBox=\"0 0 24 24\"\n",
              "     width=\"24px\">\n",
              "    <g>\n",
              "        <path d=\"M19 3H5c-1.1 0-2 .9-2 2v14c0 1.1.9 2 2 2h14c1.1 0 2-.9 2-2V5c0-1.1-.9-2-2-2zM9 17H7v-7h2v7zm4 0h-2V7h2v10zm4 0h-2v-4h2v4z\"/>\n",
              "    </g>\n",
              "</svg>\n",
              "  </button>\n",
              "\n",
              "<style>\n",
              "  .colab-df-quickchart {\n",
              "      --bg-color: #E8F0FE;\n",
              "      --fill-color: #1967D2;\n",
              "      --hover-bg-color: #E2EBFA;\n",
              "      --hover-fill-color: #174EA6;\n",
              "      --disabled-fill-color: #AAA;\n",
              "      --disabled-bg-color: #DDD;\n",
              "  }\n",
              "\n",
              "  [theme=dark] .colab-df-quickchart {\n",
              "      --bg-color: #3B4455;\n",
              "      --fill-color: #D2E3FC;\n",
              "      --hover-bg-color: #434B5C;\n",
              "      --hover-fill-color: #FFFFFF;\n",
              "      --disabled-bg-color: #3B4455;\n",
              "      --disabled-fill-color: #666;\n",
              "  }\n",
              "\n",
              "  .colab-df-quickchart {\n",
              "    background-color: var(--bg-color);\n",
              "    border: none;\n",
              "    border-radius: 50%;\n",
              "    cursor: pointer;\n",
              "    display: none;\n",
              "    fill: var(--fill-color);\n",
              "    height: 32px;\n",
              "    padding: 0;\n",
              "    width: 32px;\n",
              "  }\n",
              "\n",
              "  .colab-df-quickchart:hover {\n",
              "    background-color: var(--hover-bg-color);\n",
              "    box-shadow: 0 1px 2px rgba(60, 64, 67, 0.3), 0 1px 3px 1px rgba(60, 64, 67, 0.15);\n",
              "    fill: var(--button-hover-fill-color);\n",
              "  }\n",
              "\n",
              "  .colab-df-quickchart-complete:disabled,\n",
              "  .colab-df-quickchart-complete:disabled:hover {\n",
              "    background-color: var(--disabled-bg-color);\n",
              "    fill: var(--disabled-fill-color);\n",
              "    box-shadow: none;\n",
              "  }\n",
              "\n",
              "  .colab-df-spinner {\n",
              "    border: 2px solid var(--fill-color);\n",
              "    border-color: transparent;\n",
              "    border-bottom-color: var(--fill-color);\n",
              "    animation:\n",
              "      spin 1s steps(1) infinite;\n",
              "  }\n",
              "\n",
              "  @keyframes spin {\n",
              "    0% {\n",
              "      border-color: transparent;\n",
              "      border-bottom-color: var(--fill-color);\n",
              "      border-left-color: var(--fill-color);\n",
              "    }\n",
              "    20% {\n",
              "      border-color: transparent;\n",
              "      border-left-color: var(--fill-color);\n",
              "      border-top-color: var(--fill-color);\n",
              "    }\n",
              "    30% {\n",
              "      border-color: transparent;\n",
              "      border-left-color: var(--fill-color);\n",
              "      border-top-color: var(--fill-color);\n",
              "      border-right-color: var(--fill-color);\n",
              "    }\n",
              "    40% {\n",
              "      border-color: transparent;\n",
              "      border-right-color: var(--fill-color);\n",
              "      border-top-color: var(--fill-color);\n",
              "    }\n",
              "    60% {\n",
              "      border-color: transparent;\n",
              "      border-right-color: var(--fill-color);\n",
              "    }\n",
              "    80% {\n",
              "      border-color: transparent;\n",
              "      border-right-color: var(--fill-color);\n",
              "      border-bottom-color: var(--fill-color);\n",
              "    }\n",
              "    90% {\n",
              "      border-color: transparent;\n",
              "      border-bottom-color: var(--fill-color);\n",
              "    }\n",
              "  }\n",
              "</style>\n",
              "\n",
              "  <script>\n",
              "    async function quickchart(key) {\n",
              "      const quickchartButtonEl =\n",
              "        document.querySelector('#' + key + ' button');\n",
              "      quickchartButtonEl.disabled = true;  // To prevent multiple clicks.\n",
              "      quickchartButtonEl.classList.add('colab-df-spinner');\n",
              "      try {\n",
              "        const charts = await google.colab.kernel.invokeFunction(\n",
              "            'suggestCharts', [key], {});\n",
              "      } catch (error) {\n",
              "        console.error('Error during call to suggestCharts:', error);\n",
              "      }\n",
              "      quickchartButtonEl.classList.remove('colab-df-spinner');\n",
              "      quickchartButtonEl.classList.add('colab-df-quickchart-complete');\n",
              "    }\n",
              "    (() => {\n",
              "      let quickchartButtonEl =\n",
              "        document.querySelector('#df-fca767dd-c7c9-44b0-84b4-c044e578d43a button');\n",
              "      quickchartButtonEl.style.display =\n",
              "        google.colab.kernel.accessAllowed ? 'block' : 'none';\n",
              "    })();\n",
              "  </script>\n",
              "</div>\n",
              "\n",
              "  <div id=\"id_2791132f-2d77-410d-b4e0-e6486f93311a\">\n",
              "    <style>\n",
              "      .colab-df-generate {\n",
              "        background-color: #E8F0FE;\n",
              "        border: none;\n",
              "        border-radius: 50%;\n",
              "        cursor: pointer;\n",
              "        display: none;\n",
              "        fill: #1967D2;\n",
              "        height: 32px;\n",
              "        padding: 0 0 0 0;\n",
              "        width: 32px;\n",
              "      }\n",
              "\n",
              "      .colab-df-generate:hover {\n",
              "        background-color: #E2EBFA;\n",
              "        box-shadow: 0px 1px 2px rgba(60, 64, 67, 0.3), 0px 1px 3px 1px rgba(60, 64, 67, 0.15);\n",
              "        fill: #174EA6;\n",
              "      }\n",
              "\n",
              "      [theme=dark] .colab-df-generate {\n",
              "        background-color: #3B4455;\n",
              "        fill: #D2E3FC;\n",
              "      }\n",
              "\n",
              "      [theme=dark] .colab-df-generate:hover {\n",
              "        background-color: #434B5C;\n",
              "        box-shadow: 0px 1px 3px 1px rgba(0, 0, 0, 0.15);\n",
              "        filter: drop-shadow(0px 1px 2px rgba(0, 0, 0, 0.3));\n",
              "        fill: #FFFFFF;\n",
              "      }\n",
              "    </style>\n",
              "    <button class=\"colab-df-generate\" onclick=\"generateWithVariable('group')\"\n",
              "            title=\"Generate code using this dataframe.\"\n",
              "            style=\"display:none;\">\n",
              "\n",
              "  <svg xmlns=\"http://www.w3.org/2000/svg\" height=\"24px\"viewBox=\"0 0 24 24\"\n",
              "       width=\"24px\">\n",
              "    <path d=\"M7,19H8.4L18.45,9,17,7.55,7,17.6ZM5,21V16.75L18.45,3.32a2,2,0,0,1,2.83,0l1.4,1.43a1.91,1.91,0,0,1,.58,1.4,1.91,1.91,0,0,1-.58,1.4L9.25,21ZM18.45,9,17,7.55Zm-12,3A5.31,5.31,0,0,0,4.9,8.1,5.31,5.31,0,0,0,1,6.5,5.31,5.31,0,0,0,4.9,4.9,5.31,5.31,0,0,0,6.5,1,5.31,5.31,0,0,0,8.1,4.9,5.31,5.31,0,0,0,12,6.5,5.46,5.46,0,0,0,6.5,12Z\"/>\n",
              "  </svg>\n",
              "    </button>\n",
              "    <script>\n",
              "      (() => {\n",
              "      const buttonEl =\n",
              "        document.querySelector('#id_2791132f-2d77-410d-b4e0-e6486f93311a button.colab-df-generate');\n",
              "      buttonEl.style.display =\n",
              "        google.colab.kernel.accessAllowed ? 'block' : 'none';\n",
              "\n",
              "      buttonEl.onclick = () => {\n",
              "        google.colab.notebook.generateWithVariable('group');\n",
              "      }\n",
              "      })();\n",
              "    </script>\n",
              "  </div>\n",
              "\n",
              "    </div>\n",
              "  </div>\n"
            ],
            "application/vnd.google.colaboratory.intrinsic+json": {
              "type": "dataframe",
              "variable_name": "group",
              "summary": "{\n  \"name\": \"group\",\n  \"rows\": 4,\n  \"fields\": [\n    {\n      \"column\": \"target_ages\",\n      \"properties\": {\n        \"dtype\": \"category\",\n        \"num_unique_values\": 4,\n        \"samples\": [\n          \"Older Kids\",\n          \"Adults\",\n          \"Kids\"\n        ],\n        \"semantic_type\": \"\",\n        \"description\": \"\"\n      }\n    },\n    {\n      \"column\": \"duration\",\n      \"properties\": {\n        \"dtype\": \"number\",\n        \"std\": 18.392539377791206,\n        \"min\": 66.48689138576779,\n        \"max\": 110.02533172496985,\n        \"num_unique_values\": 4,\n        \"samples\": [\n          92.02464788732394,\n          98.27514450867052,\n          66.48689138576779\n        ],\n        \"semantic_type\": \"\",\n        \"description\": \"\"\n      }\n    }\n  ]\n}"
            }
          },
          "metadata": {},
          "execution_count": 44
        }
      ],
      "source": [
        "\n",
        "#group_by duration and target_ages\n",
        "group_by_= df_hypothesis[['duration','target_ages']].groupby(by='target_ages')\n",
        "#mean of group_by variable\n",
        "group=group_by_.mean().reset_index()\n",
        "group"
      ]
    },
    {
      "cell_type": "code",
      "execution_count": null,
      "metadata": {
        "colab": {
          "base_uri": "https://localhost:8080/"
        },
        "id": "XKDikMVnY5cR",
        "outputId": "9ecfb836-5550-4292-d739-8fcfb6c904ec"
      },
      "outputs": [
        {
          "output_type": "stream",
          "name": "stdout",
          "text": [
            "Mean for movies rated for Kids 66.48689138576779 \n",
            " Mean for  movies rated for older kids 92.02464788732394\n",
            "Std for  movies rated for Older Kids 31.182576758429978 \n",
            " Std for  movies rated for kids 31.739464779840176\n"
          ]
        }
      ],
      "source": [
        "#In A and B variable grouping values\n",
        "A= group_by_.get_group('Kids')\n",
        "A=A['duration']\n",
        "#print(A)\n",
        "\n",
        "B= group_by_.get_group('Older Kids')\n",
        "B=B['duration']\n",
        "#print(B)\n",
        "#mean and std. calutation for kids and older kids variables\n",
        "M1 = A.mean()\n",
        "S1 = A.std()\n",
        "\n",
        "M2= B.mean()\n",
        "S2 = B.std()\n",
        "\n",
        "print('Mean for movies rated for Kids {} \\n Mean for  movies rated for older kids {}'.format(M1,M2))\n",
        "print('Std for  movies rated for Older Kids {} \\n Std for  movies rated for kids {}'.format(S2,S1))"
      ]
    },
    {
      "cell_type": "code",
      "execution_count": null,
      "metadata": {
        "colab": {
          "base_uri": "https://localhost:8080/"
        },
        "id": "2xoxpTe3bawJ",
        "outputId": "f5dee883-779a-4b36-ec68-02e9f468b232"
      },
      "outputs": [
        {
          "output_type": "stream",
          "name": "stdout",
          "text": [
            "nan\n",
            "accept null hypothesis\n"
          ]
        }
      ],
      "source": [
        "from scipy.stats import ttest_ind\n",
        "ttest,pval = ttest_ind(M1, M2)\n",
        "print(pval)\n",
        "if pval<0.05:\n",
        "    print(\"reject null hypothesis\")\n",
        "else:\n",
        "    print(\"accept null hypothesis\")"
      ]
    },
    {
      "cell_type": "code",
      "execution_count": null,
      "metadata": {
        "colab": {
          "base_uri": "https://localhost:8080/"
        },
        "id": "rbgsjNbzchkt",
        "outputId": "b9f1b98d-d918-4673-e3a0-122db0c8d968"
      },
      "outputs": [
        {
          "output_type": "stream",
          "name": "stdout",
          "text": [
            "267 852\n",
            "dof 1117\n",
            "SP_2 = 999.0491470682085\n",
            "SP 31.6077387212089\n",
            "tvalue -11.51992627853396\n"
          ]
        }
      ],
      "source": [
        "#import stats\n",
        "from scipy import stats\n",
        "#length of groups and DOF\n",
        "n1 = len(A)\n",
        "n2= len(B)\n",
        "print(n1,n2)\n",
        "\n",
        "dof = n1+n2-2\n",
        "print('dof',dof)\n",
        "\n",
        "sp_2 = ((n2-1)*S1**2  + (n1-1)*S2**2) / dof\n",
        "print('SP_2 =',sp_2)\n",
        "\n",
        "sp = np.sqrt(sp_2)\n",
        "print('SP',sp)\n",
        "\n",
        "#tvalue\n",
        "t_val = (M1-M2)/(sp * np.sqrt(1/n1 + 1/n2))\n",
        "print('tvalue',t_val)"
      ]
    },
    {
      "cell_type": "code",
      "execution_count": null,
      "metadata": {
        "colab": {
          "base_uri": "https://localhost:8080/"
        },
        "id": "OenoGbo5cmIH",
        "outputId": "1d36b830-5a5c-4d6e-cc72-f528b29d58fc"
      },
      "outputs": [
        {
          "output_type": "execute_result",
          "data": {
            "text/plain": [
              "-1.9620900365868952"
            ]
          },
          "metadata": {},
          "execution_count": 48
        }
      ],
      "source": [
        "#t-distribution\n",
        "stats.t.ppf(0.025,dof)\n"
      ]
    },
    {
      "cell_type": "code",
      "execution_count": null,
      "metadata": {
        "colab": {
          "base_uri": "https://localhost:8080/"
        },
        "id": "CEMut9Od0pyF",
        "outputId": "26277536-3bea-472a-f0c2-74c96598361f"
      },
      "outputs": [
        {
          "output_type": "execute_result",
          "data": {
            "text/plain": [
              "1.9620900365868947"
            ]
          },
          "metadata": {},
          "execution_count": 49
        }
      ],
      "source": [
        "#t-distribution\n",
        "stats.t.ppf(0.975,dof)"
      ]
    },
    {
      "cell_type": "markdown",
      "metadata": {
        "id": "mt8hWAJfczgj"
      },
      "source": [
        "Because the t-value is not in the range, the null hypothesis is rejected.\n",
        "\n",
        "As a result, movies rated for kids and older kids are not at least two hours long."
      ]
    },
    {
      "cell_type": "code",
      "execution_count": null,
      "metadata": {
        "colab": {
          "base_uri": "https://localhost:8080/"
        },
        "id": "Ug-WwBR11QxZ",
        "outputId": "77b88997-713a-4880-81c6-14249b71cd88"
      },
      "outputs": [
        {
          "output_type": "execute_result",
          "data": {
            "text/plain": [
              "show_id         object\n",
              "type            object\n",
              "title           object\n",
              "country         object\n",
              "date_added      object\n",
              "release_year     int64\n",
              "rating          object\n",
              "duration        object\n",
              "listed_in       object\n",
              "description     object\n",
              "dtype: object"
            ]
          },
          "metadata": {},
          "execution_count": 50
        }
      ],
      "source": [
        "df.dtypes"
      ]
    },
    {
      "cell_type": "markdown",
      "metadata": {
        "id": "mbkR07wckfJx"
      },
      "source": [
        "* ### <b>4.7 Title"
      ]
    },
    {
      "cell_type": "markdown",
      "metadata": {
        "id": "r6gZPHk7kqJE"
      },
      "source": [
        "* #### 4.7.1 No of unique title present in title column"
      ]
    },
    {
      "cell_type": "code",
      "execution_count": null,
      "metadata": {
        "colab": {
          "base_uri": "https://localhost:8080/"
        },
        "id": "YyvvBrNhkfm3",
        "outputId": "afc7e9ff-fc4b-4a19-ac8b-df9a045a6f7f"
      },
      "outputs": [
        {
          "output_type": "execute_result",
          "data": {
            "text/plain": [
              "7777"
            ]
          },
          "metadata": {},
          "execution_count": 51
        }
      ],
      "source": [
        "df.title.nunique()"
      ]
    },
    {
      "cell_type": "code",
      "execution_count": null,
      "metadata": {
        "colab": {
          "base_uri": "https://localhost:8080/"
        },
        "id": "8cD4Y3ltk3Fe",
        "outputId": "174c42c6-cdac-4b52-f9b1-cf24ea3b16c1"
      },
      "outputs": [
        {
          "output_type": "execute_result",
          "data": {
            "text/plain": [
              "7777"
            ]
          },
          "metadata": {},
          "execution_count": 52
        }
      ],
      "source": [
        "df.shape[0]"
      ]
    },
    {
      "cell_type": "markdown",
      "metadata": {
        "id": "UAYzjbdHk2Z_"
      },
      "source": [
        "* All the values present in Title are unique"
      ]
    },
    {
      "cell_type": "markdown",
      "metadata": {
        "id": "o0O-Qrh5lMay"
      },
      "source": [
        "* #### 4.7.2 Most occured word in *Title* ??"
      ]
    },
    {
      "cell_type": "code",
      "execution_count": null,
      "metadata": {
        "colab": {
          "base_uri": "https://localhost:8080/",
          "height": 285
        },
        "id": "Wvhm_gZ1lQns",
        "outputId": "0e44933d-77bb-44dc-9507-b6f5a63ec11d"
      },
      "outputs": [
        {
          "output_type": "display_data",
          "data": {
            "text/plain": [
              "<Figure size 640x480 with 1 Axes>"
            ],
            "image/png": "[encoded data removed]"
          },
          "metadata": {}
        }
      ],
      "source": [
        "#subsetting df\n",
        "df_wordcloud = df['title']\n",
        "text = \" \".join(word for word in df_wordcloud)\n",
        "# Create stopword list:\n",
        "stopwords = set(STOPWORDS)\n",
        "# Generate a word cloud image\n",
        "wordcloud = WordCloud(stopwords=stopwords, background_color=\"white\").generate(text)\n",
        "# Display the generated image:\n",
        "# the matplotlib way:\n",
        "plt.imshow(wordcloud, interpolation='bilinear')\n",
        "plt.axis(\"off\")\n",
        "plt.show()"
      ]
    },
    {
      "cell_type": "markdown",
      "metadata": {
        "id": "7ocHSwyQmAvy"
      },
      "source": [
        "1. Why did you pick the specific chart?"
      ]
    },
    {
      "cell_type": "markdown",
      "metadata": {
        "id": "Nu2E0zHTmFMK"
      },
      "source": [
        "Word clouds provide a visually striking way to display text data, with important words or themes emphasized through larger font sizes. This makes it easy to spot the most prominent terms at a glance.By visualizing word frequencies, analysts can identify patterns, trends, or outliers that may warrant further investigation.In text mining and sentiment analysis tasks, word clouds can be used to visualize the most common words associated with specific sentiments or topics."
      ]
    },
    {
      "cell_type": "markdown",
      "metadata": {
        "id": "3YTa2k1Ox1G2"
      },
      "source": [
        "2. What is/are the insight(s) found from the chart?"
      ]
    },
    {
      "cell_type": "markdown",
      "metadata": {
        "id": "d5-vYrgxpkQp"
      },
      "source": [
        "\n",
        "<br>It seems like words like \"Love\", \"Man\", \"World\", \"Story\" , \"Christmas\" are very common in titles.\n",
        "\n",
        "I have suprised to see \"Christmas\" ocuured so many time .\n",
        "The reason maybe those movies released on the month of december, but I don't have any information about the release month of movies that's why I am not able to check my hypothesis.\n"
      ]
    },
    {
      "cell_type": "markdown",
      "metadata": {
        "id": "BOM6qNESyAbz"
      },
      "source": [
        "3. Will the gained insights help creating a positive business impact?"
      ]
    },
    {
      "cell_type": "markdown",
      "metadata": {
        "id": "1N5ZcqKDyXba"
      },
      "source": [
        "Yes, It will help to gain insight regarding popular words which can be further used in marketing."
      ]
    },
    {
      "cell_type": "markdown",
      "metadata": {
        "id": "VyPWlauaTDEp"
      },
      "source": [
        "### 4.8 **Countries** producing most number of contents"
      ]
    },
    {
      "cell_type": "markdown",
      "metadata": {
        "id": "l7mGPykJTL1_"
      },
      "source": [
        "* #### 4.8.1 Checking no of unique values present in Country ?"
      ]
    },
    {
      "cell_type": "code",
      "execution_count": null,
      "metadata": {
        "colab": {
          "base_uri": "https://localhost:8080/"
        },
        "id": "bkFQgMQjTXmQ",
        "outputId": "91b23822-4470-42c5-d8e1-228e62e36b02"
      },
      "outputs": [
        {
          "output_type": "execute_result",
          "data": {
            "text/plain": [
              "681"
            ]
          },
          "metadata": {},
          "execution_count": 54
        }
      ],
      "source": [
        "df.country.nunique()"
      ]
    },
    {
      "cell_type": "markdown",
      "metadata": {
        "id": "vAR-E6CKT6Vl"
      },
      "source": [
        "* As you can see there are total 681 countries which are produce movies / tv shows"
      ]
    },
    {
      "cell_type": "markdown",
      "metadata": {
        "id": "Ek5aCKe4U0rT"
      },
      "source": [
        "* #### 4.8.2 Using *value_counts()*"
      ]
    },
    {
      "cell_type": "code",
      "execution_count": null,
      "metadata": {
        "colab": {
          "base_uri": "https://localhost:8080/",
          "height": 248
        },
        "id": "t6dnPkLAVwaN",
        "outputId": "035e0224-a2e7-45c0-a486-8898f807ee3b"
      },
      "outputs": [
        {
          "output_type": "execute_result",
          "data": {
            "text/plain": [
              "                   0      1               2      3            4       5    \\\n",
              "Country  United States  India  United Kingdom  Japan  South Korea  Canada   \n",
              "counts            2549    923             396    225          183     177   \n",
              "\n",
              "           6       7      8       9    ...                                671  \\\n",
              "Country  Spain  France  Egypt  Turkey  ...  United States, South Korea, Japan   \n",
              "counts     134     115    101     100  ...                                  1   \n",
              "\n",
              "                                                       672  \\\n",
              "Country  Lebanon, United Arab Emirates, France, Switzer...   \n",
              "counts                                                   1   \n",
              "\n",
              "                                673                     674  \\\n",
              "Country  France, Australia, Germany  Ireland, United States   \n",
              "counts                            1                       1   \n",
              "\n",
              "                                    675                           676  \\\n",
              "Country  United States, Canada, Germany  Russia, United States, China   \n",
              "counts                                1                             1   \n",
              "\n",
              "                                         677  \\\n",
              "Country  Italy, Switzerland, France, Germany   \n",
              "counts                                     1   \n",
              "\n",
              "                                           678  \\\n",
              "Country  United States, United Kingdom, Canada   \n",
              "counts                                       1   \n",
              "\n",
              "                                          679  \\\n",
              "Country  United States, United Kingdom, Japan   \n",
              "counts                                      1   \n",
              "\n",
              "                                                       680  \n",
              "Country  Sweden, Czech Republic, United Kingdom, Denmar...  \n",
              "counts                                                   1  \n",
              "\n",
              "[2 rows x 681 columns]"
            ],
            "text/html": [
              "\n",
              "  <div id=\"df-5c8e472b-7320-4120-8615-8217354ca4ee\" class=\"colab-df-container\">\n",
              "    <div>\n",
              "<style scoped>\n",
              "    .dataframe tbody tr th:only-of-type {\n",
              "        vertical-align: middle;\n",
              "    }\n",
              "\n",
              "    .dataframe tbody tr th {\n",
              "        vertical-align: top;\n",
              "    }\n",
              "\n",
              "    .dataframe thead th {\n",
              "        text-align: right;\n",
              "    }\n",
              "</style>\n",
              "<table border=\"1\" class=\"dataframe\">\n",
              "  <thead>\n",
              "    <tr style=\"text-align: right;\">\n",
              "      <th></th>\n",
              "      <th>0</th>\n",
              "      <th>1</th>\n",
              "      <th>2</th>\n",
              "      <th>3</th>\n",
              "      <th>4</th>\n",
              "      <th>5</th>\n",
              "      <th>6</th>\n",
              "      <th>7</th>\n",
              "      <th>8</th>\n",
              "      <th>9</th>\n",
              "      <th>...</th>\n",
              "      <th>671</th>\n",
              "      <th>672</th>\n",
              "      <th>673</th>\n",
              "      <th>674</th>\n",
              "      <th>675</th>\n",
              "      <th>676</th>\n",
              "      <th>677</th>\n",
              "      <th>678</th>\n",
              "      <th>679</th>\n",
              "      <th>680</th>\n",
              "    </tr>\n",
              "  </thead>\n",
              "  <tbody>\n",
              "    <tr>\n",
              "      <th>Country</th>\n",
              "      <td>United States</td>\n",
              "      <td>India</td>\n",
              "      <td>United Kingdom</td>\n",
              "      <td>Japan</td>\n",
              "      <td>South Korea</td>\n",
              "      <td>Canada</td>\n",
              "      <td>Spain</td>\n",
              "      <td>France</td>\n",
              "      <td>Egypt</td>\n",
              "      <td>Turkey</td>\n",
              "      <td>...</td>\n",
              "      <td>United States, South Korea, Japan</td>\n",
              "      <td>Lebanon, United Arab Emirates, France, Switzer...</td>\n",
              "      <td>France, Australia, Germany</td>\n",
              "      <td>Ireland, United States</td>\n",
              "      <td>United States, Canada, Germany</td>\n",
              "      <td>Russia, United States, China</td>\n",
              "      <td>Italy, Switzerland, France, Germany</td>\n",
              "      <td>United States, United Kingdom, Canada</td>\n",
              "      <td>United States, United Kingdom, Japan</td>\n",
              "      <td>Sweden, Czech Republic, United Kingdom, Denmar...</td>\n",
              "    </tr>\n",
              "    <tr>\n",
              "      <th>counts</th>\n",
              "      <td>2549</td>\n",
              "      <td>923</td>\n",
              "      <td>396</td>\n",
              "      <td>225</td>\n",
              "      <td>183</td>\n",
              "      <td>177</td>\n",
              "      <td>134</td>\n",
              "      <td>115</td>\n",
              "      <td>101</td>\n",
              "      <td>100</td>\n",
              "      <td>...</td>\n",
              "      <td>1</td>\n",
              "      <td>1</td>\n",
              "      <td>1</td>\n",
              "      <td>1</td>\n",
              "      <td>1</td>\n",
              "      <td>1</td>\n",
              "      <td>1</td>\n",
              "      <td>1</td>\n",
              "      <td>1</td>\n",
              "      <td>1</td>\n",
              "    </tr>\n",
              "  </tbody>\n",
              "</table>\n",
              "<p>2 rows × 681 columns</p>\n",
              "</div>\n",
              "    <div class=\"colab-df-buttons\">\n",
              "\n",
              "  <div class=\"colab-df-container\">\n",
              "    <button class=\"colab-df-convert\" onclick=\"convertToInteractive('df-5c8e472b-7320-4120-8615-8217354ca4ee')\"\n",
              "            title=\"Convert this dataframe to an interactive table.\"\n",
              "            style=\"display:none;\">\n",
              "\n",
              "  <svg xmlns=\"http://www.w3.org/2000/svg\" height=\"24px\" viewBox=\"0 -960 960 960\">\n",
              "    <path d=\"M120-120v-720h720v720H120Zm60-500h600v-160H180v160Zm220 220h160v-160H400v160Zm0 220h160v-160H400v160ZM180-400h160v-160H180v160Zm440 0h160v-160H620v160ZM180-180h160v-160H180v160Zm440 0h160v-160H620v160Z\"/>\n",
              "  </svg>\n",
              "    </button>\n",
              "\n",
              "  <style>\n",
              "    .colab-df-container {\n",
              "      display:flex;\n",
              "      gap: 12px;\n",
              "    }\n",
              "\n",
              "    .colab-df-convert {\n",
              "      background-color: #E8F0FE;\n",
              "      border: none;\n",
              "      border-radius: 50%;\n",
              "      cursor: pointer;\n",
              "      display: none;\n",
              "      fill: #1967D2;\n",
              "      height: 32px;\n",
              "      padding: 0 0 0 0;\n",
              "      width: 32px;\n",
              "    }\n",
              "\n",
              "    .colab-df-convert:hover {\n",
              "      background-color: #E2EBFA;\n",
              "      box-shadow: 0px 1px 2px rgba(60, 64, 67, 0.3), 0px 1px 3px 1px rgba(60, 64, 67, 0.15);\n",
              "      fill: #174EA6;\n",
              "    }\n",
              "\n",
              "    .colab-df-buttons div {\n",
              "      margin-bottom: 4px;\n",
              "    }\n",
              "\n",
              "    [theme=dark] .colab-df-convert {\n",
              "      background-color: #3B4455;\n",
              "      fill: #D2E3FC;\n",
              "    }\n",
              "\n",
              "    [theme=dark] .colab-df-convert:hover {\n",
              "      background-color: #434B5C;\n",
              "      box-shadow: 0px 1px 3px 1px rgba(0, 0, 0, 0.15);\n",
              "      filter: drop-shadow(0px 1px 2px rgba(0, 0, 0, 0.3));\n",
              "      fill: #FFFFFF;\n",
              "    }\n",
              "  </style>\n",
              "\n",
              "    <script>\n",
              "      const buttonEl =\n",
              "        document.querySelector('#df-5c8e472b-7320-4120-8615-8217354ca4ee button.colab-df-convert');\n",
              "      buttonEl.style.display =\n",
              "        google.colab.kernel.accessAllowed ? 'block' : 'none';\n",
              "\n",
              "      async function convertToInteractive(key) {\n",
              "        const element = document.querySelector('#df-5c8e472b-7320-4120-8615-8217354ca4ee');\n",
              "        const dataTable =\n",
              "          await google.colab.kernel.invokeFunction('convertToInteractive',\n",
              "                                                    [key], {});\n",
              "        if (!dataTable) return;\n",
              "\n",
              "        const docLinkHtml = 'Like what you see? Visit the ' +\n",
              "          '<a target=\"_blank\" href=https://colab.research.google.com/notebooks/data_table.ipynb>data table notebook</a>'\n",
              "          + ' to learn more about interactive tables.';\n",
              "        element.innerHTML = '';\n",
              "        dataTable['output_type'] = 'display_data';\n",
              "        await google.colab.output.renderOutput(dataTable, element);\n",
              "        const docLink = document.createElement('div');\n",
              "        docLink.innerHTML = docLinkHtml;\n",
              "        element.appendChild(docLink);\n",
              "      }\n",
              "    </script>\n",
              "  </div>\n",
              "\n",
              "\n",
              "<div id=\"df-4a753b34-2ffd-4968-b118-865822d35548\">\n",
              "  <button class=\"colab-df-quickchart\" onclick=\"quickchart('df-4a753b34-2ffd-4968-b118-865822d35548')\"\n",
              "            title=\"Suggest charts\"\n",
              "            style=\"display:none;\">\n",
              "\n",
              "<svg xmlns=\"http://www.w3.org/2000/svg\" height=\"24px\"viewBox=\"0 0 24 24\"\n",
              "     width=\"24px\">\n",
              "    <g>\n",
              "        <path d=\"M19 3H5c-1.1 0-2 .9-2 2v14c0 1.1.9 2 2 2h14c1.1 0 2-.9 2-2V5c0-1.1-.9-2-2-2zM9 17H7v-7h2v7zm4 0h-2V7h2v10zm4 0h-2v-4h2v4z\"/>\n",
              "    </g>\n",
              "</svg>\n",
              "  </button>\n",
              "\n",
              "<style>\n",
              "  .colab-df-quickchart {\n",
              "      --bg-color: #E8F0FE;\n",
              "      --fill-color: #1967D2;\n",
              "      --hover-bg-color: #E2EBFA;\n",
              "      --hover-fill-color: #174EA6;\n",
              "      --disabled-fill-color: #AAA;\n",
              "      --disabled-bg-color: #DDD;\n",
              "  }\n",
              "\n",
              "  [theme=dark] .colab-df-quickchart {\n",
              "      --bg-color: #3B4455;\n",
              "      --fill-color: #D2E3FC;\n",
              "      --hover-bg-color: #434B5C;\n",
              "      --hover-fill-color: #FFFFFF;\n",
              "      --disabled-bg-color: #3B4455;\n",
              "      --disabled-fill-color: #666;\n",
              "  }\n",
              "\n",
              "  .colab-df-quickchart {\n",
              "    background-color: var(--bg-color);\n",
              "    border: none;\n",
              "    border-radius: 50%;\n",
              "    cursor: pointer;\n",
              "    display: none;\n",
              "    fill: var(--fill-color);\n",
              "    height: 32px;\n",
              "    padding: 0;\n",
              "    width: 32px;\n",
              "  }\n",
              "\n",
              "  .colab-df-quickchart:hover {\n",
              "    background-color: var(--hover-bg-color);\n",
              "    box-shadow: 0 1px 2px rgba(60, 64, 67, 0.3), 0 1px 3px 1px rgba(60, 64, 67, 0.15);\n",
              "    fill: var(--button-hover-fill-color);\n",
              "  }\n",
              "\n",
              "  .colab-df-quickchart-complete:disabled,\n",
              "  .colab-df-quickchart-complete:disabled:hover {\n",
              "    background-color: var(--disabled-bg-color);\n",
              "    fill: var(--disabled-fill-color);\n",
              "    box-shadow: none;\n",
              "  }\n",
              "\n",
              "  .colab-df-spinner {\n",
              "    border: 2px solid var(--fill-color);\n",
              "    border-color: transparent;\n",
              "    border-bottom-color: var(--fill-color);\n",
              "    animation:\n",
              "      spin 1s steps(1) infinite;\n",
              "  }\n",
              "\n",
              "  @keyframes spin {\n",
              "    0% {\n",
              "      border-color: transparent;\n",
              "      border-bottom-color: var(--fill-color);\n",
              "      border-left-color: var(--fill-color);\n",
              "    }\n",
              "    20% {\n",
              "      border-color: transparent;\n",
              "      border-left-color: var(--fill-color);\n",
              "      border-top-color: var(--fill-color);\n",
              "    }\n",
              "    30% {\n",
              "      border-color: transparent;\n",
              "      border-left-color: var(--fill-color);\n",
              "      border-top-color: var(--fill-color);\n",
              "      border-right-color: var(--fill-color);\n",
              "    }\n",
              "    40% {\n",
              "      border-color: transparent;\n",
              "      border-right-color: var(--fill-color);\n",
              "      border-top-color: var(--fill-color);\n",
              "    }\n",
              "    60% {\n",
              "      border-color: transparent;\n",
              "      border-right-color: var(--fill-color);\n",
              "    }\n",
              "    80% {\n",
              "      border-color: transparent;\n",
              "      border-right-color: var(--fill-color);\n",
              "      border-bottom-color: var(--fill-color);\n",
              "    }\n",
              "    90% {\n",
              "      border-color: transparent;\n",
              "      border-bottom-color: var(--fill-color);\n",
              "    }\n",
              "  }\n",
              "</style>\n",
              "\n",
              "  <script>\n",
              "    async function quickchart(key) {\n",
              "      const quickchartButtonEl =\n",
              "        document.querySelector('#' + key + ' button');\n",
              "      quickchartButtonEl.disabled = true;  // To prevent multiple clicks.\n",
              "      quickchartButtonEl.classList.add('colab-df-spinner');\n",
              "      try {\n",
              "        const charts = await google.colab.kernel.invokeFunction(\n",
              "            'suggestCharts', [key], {});\n",
              "      } catch (error) {\n",
              "        console.error('Error during call to suggestCharts:', error);\n",
              "      }\n",
              "      quickchartButtonEl.classList.remove('colab-df-spinner');\n",
              "      quickchartButtonEl.classList.add('colab-df-quickchart-complete');\n",
              "    }\n",
              "    (() => {\n",
              "      let quickchartButtonEl =\n",
              "        document.querySelector('#df-4a753b34-2ffd-4968-b118-865822d35548 button');\n",
              "      quickchartButtonEl.style.display =\n",
              "        google.colab.kernel.accessAllowed ? 'block' : 'none';\n",
              "    })();\n",
              "  </script>\n",
              "</div>\n",
              "\n",
              "    </div>\n",
              "  </div>\n"
            ],
            "application/vnd.google.colaboratory.intrinsic+json": {
              "type": "dataframe"
            }
          },
          "metadata": {},
          "execution_count": 55
        }
      ],
      "source": [
        "df.country.value_counts().rename_axis('Country').reset_index(name='counts').T"
      ]
    },
    {
      "cell_type": "markdown",
      "metadata": {
        "id": "mcyYQrDnUUTy"
      },
      "source": [
        "* #### 4.8.2 Check no of NaN values"
      ]
    },
    {
      "cell_type": "code",
      "execution_count": null,
      "metadata": {
        "colab": {
          "base_uri": "https://localhost:8080/"
        },
        "id": "ssu21wqxUYl6",
        "outputId": "fe462af3-a0e4-41b5-8379-c0a568784608"
      },
      "outputs": [
        {
          "output_type": "execute_result",
          "data": {
            "text/plain": [
              "506"
            ]
          },
          "metadata": {},
          "execution_count": 56
        }
      ],
      "source": [
        "df.country.isna().sum()"
      ]
    },
    {
      "cell_type": "markdown",
      "metadata": {
        "id": "3dfEPpZtUgiV"
      },
      "source": [
        "* Let's replace those NaN values with mode value"
      ]
    },
    {
      "cell_type": "code",
      "execution_count": null,
      "metadata": {
        "colab": {
          "base_uri": "https://localhost:8080/",
          "height": 35
        },
        "id": "kbbE1wUJWftC",
        "outputId": "bb345738-6b60-4883-e48a-21d77d4915a1"
      },
      "outputs": [
        {
          "output_type": "execute_result",
          "data": {
            "text/plain": [
              "'United States'"
            ],
            "application/vnd.google.colaboratory.intrinsic+json": {
              "type": "string"
            }
          },
          "metadata": {},
          "execution_count": 57
        }
      ],
      "source": [
        "#mode value of country column\n",
        "df.country.mode()[0]"
      ]
    },
    {
      "cell_type": "code",
      "execution_count": null,
      "metadata": {
        "id": "coEdC5gJUlHh"
      },
      "outputs": [],
      "source": [
        "df.country[df.country.isna()] = df.country.mode()[0]"
      ]
    },
    {
      "cell_type": "code",
      "execution_count": null,
      "metadata": {
        "colab": {
          "base_uri": "https://localhost:8080/"
        },
        "id": "O2WAxv8LWdJY",
        "outputId": "91b87174-884e-49b8-f061-f962a007a8b9"
      },
      "outputs": [
        {
          "output_type": "execute_result",
          "data": {
            "text/plain": [
              "Series([], Name: country, dtype: object)"
            ]
          },
          "metadata": {},
          "execution_count": 59
        }
      ],
      "source": [
        "df.country[df.country.isna()]"
      ]
    },
    {
      "cell_type": "code",
      "execution_count": null,
      "metadata": {
        "colab": {
          "base_uri": "https://localhost:8080/"
        },
        "id": "-C5o6OorWZrH",
        "outputId": "f21230ef-1a84-48c9-81f9-571465154c2f"
      },
      "outputs": [
        {
          "output_type": "execute_result",
          "data": {
            "text/plain": [
              "0"
            ]
          },
          "metadata": {},
          "execution_count": 60
        }
      ],
      "source": [
        "df.country.isna().sum()"
      ]
    },
    {
      "cell_type": "markdown",
      "metadata": {
        "id": "9smX8CwVWreZ"
      },
      "source": [
        "* Now there is no NaN values present"
      ]
    },
    {
      "cell_type": "markdown",
      "metadata": {
        "id": "_cHPAb0mXZmR"
      },
      "source": [
        "* #### 4.8.3 Looking for countries and number of netflix productions"
      ]
    },
    {
      "cell_type": "code",
      "execution_count": null,
      "metadata": {
        "id": "PB79-eXHXjK0"
      },
      "outputs": [],
      "source": [
        "country_list=[]\n",
        "tv_show=[]\n",
        "movies=[]\n",
        "for i in range(0,len(df)):\n",
        "  if isinstance(df['country'].iloc[i] , str):\n",
        "    split=df['country'].iloc[i].split(',')\n",
        "    for k in split:\n",
        "      country_list.append(k.strip())\n",
        "      if df['type'].iloc[i]=='TV Show':\n",
        "        tv_show.append(k.strip())\n",
        "      if df['type'].iloc[i]== 'Movie':\n",
        "        movies.append(k.strip())\n",
        "production_country=list(set([(i,country_list.count(i),tv_show.count(i),movies.count(i)) for i in country_list]))"
      ]
    },
    {
      "cell_type": "code",
      "execution_count": null,
      "metadata": {
        "colab": {
          "base_uri": "https://localhost:8080/"
        },
        "id": "wmAZNhaRFb0M",
        "outputId": "3467cecd-c071-4272-d750-c60bc99ab627"
      },
      "outputs": [
        {
          "output_type": "execute_result",
          "data": {
            "text/plain": [
              "[('Thailand', 65, 22, 43),\n",
              " ('', 4, 0, 4),\n",
              " ('Israel', 26, 8, 18),\n",
              " ('Soviet Union', 3, 0, 3),\n",
              " ('Germany', 199, 42, 157)]"
            ]
          },
          "metadata": {},
          "execution_count": 62
        }
      ],
      "source": [
        "production_country[:5]"
      ]
    },
    {
      "cell_type": "markdown",
      "metadata": {
        "id": "lcPEGL1zXiv5"
      },
      "source": [
        "* #### 4.8.4 Creating a new DataFrame *country_df*"
      ]
    },
    {
      "cell_type": "code",
      "execution_count": null,
      "metadata": {
        "id": "Lf0huZJ9XZ_E"
      },
      "outputs": [],
      "source": [
        "country_df= pd.DataFrame(production_country,columns=['country','Productions','TV-Shows','Movies'])\n",
        "country_df=country_df.sort_values('Productions',ascending=False)\n",
        "country_df=country_df.reset_index()\n",
        "country_df=country_df.drop('index',axis=1)"
      ]
    },
    {
      "cell_type": "code",
      "execution_count": null,
      "metadata": {
        "colab": {
          "base_uri": "https://localhost:8080/",
          "height": 206
        },
        "id": "Y84tR2xpXzcI",
        "outputId": "55614ea1-18be-43b8-950b-f29e65d95f0f"
      },
      "outputs": [
        {
          "output_type": "execute_result",
          "data": {
            "text/plain": [
              "          country  Productions  TV-Shows  Movies\n",
              "0   United States         3797      1136    2661\n",
              "1           India          990        75     915\n",
              "2  United Kingdom          722       255     467\n",
              "3          Canada          412       126     286\n",
              "4          France          349        84     265"
            ],
            "text/html": [
              "\n",
              "  <div id=\"df-2dbf3cf9-4f5b-424d-917f-c83e01890d53\" class=\"colab-df-container\">\n",
              "    <div>\n",
              "<style scoped>\n",
              "    .dataframe tbody tr th:only-of-type {\n",
              "        vertical-align: middle;\n",
              "    }\n",
              "\n",
              "    .dataframe tbody tr th {\n",
              "        vertical-align: top;\n",
              "    }\n",
              "\n",
              "    .dataframe thead th {\n",
              "        text-align: right;\n",
              "    }\n",
              "</style>\n",
              "<table border=\"1\" class=\"dataframe\">\n",
              "  <thead>\n",
              "    <tr style=\"text-align: right;\">\n",
              "      <th></th>\n",
              "      <th>country</th>\n",
              "      <th>Productions</th>\n",
              "      <th>TV-Shows</th>\n",
              "      <th>Movies</th>\n",
              "    </tr>\n",
              "  </thead>\n",
              "  <tbody>\n",
              "    <tr>\n",
              "      <th>0</th>\n",
              "      <td>United States</td>\n",
              "      <td>3797</td>\n",
              "      <td>1136</td>\n",
              "      <td>2661</td>\n",
              "    </tr>\n",
              "    <tr>\n",
              "      <th>1</th>\n",
              "      <td>India</td>\n",
              "      <td>990</td>\n",
              "      <td>75</td>\n",
              "      <td>915</td>\n",
              "    </tr>\n",
              "    <tr>\n",
              "      <th>2</th>\n",
              "      <td>United Kingdom</td>\n",
              "      <td>722</td>\n",
              "      <td>255</td>\n",
              "      <td>467</td>\n",
              "    </tr>\n",
              "    <tr>\n",
              "      <th>3</th>\n",
              "      <td>Canada</td>\n",
              "      <td>412</td>\n",
              "      <td>126</td>\n",
              "      <td>286</td>\n",
              "    </tr>\n",
              "    <tr>\n",
              "      <th>4</th>\n",
              "      <td>France</td>\n",
              "      <td>349</td>\n",
              "      <td>84</td>\n",
              "      <td>265</td>\n",
              "    </tr>\n",
              "  </tbody>\n",
              "</table>\n",
              "</div>\n",
              "    <div class=\"colab-df-buttons\">\n",
              "\n",
              "  <div class=\"colab-df-container\">\n",
              "    <button class=\"colab-df-convert\" onclick=\"convertToInteractive('df-2dbf3cf9-4f5b-424d-917f-c83e01890d53')\"\n",
              "            title=\"Convert this dataframe to an interactive table.\"\n",
              "            style=\"display:none;\">\n",
              "\n",
              "  <svg xmlns=\"http://www.w3.org/2000/svg\" height=\"24px\" viewBox=\"0 -960 960 960\">\n",
              "    <path d=\"M120-120v-720h720v720H120Zm60-500h600v-160H180v160Zm220 220h160v-160H400v160Zm0 220h160v-160H400v160ZM180-400h160v-160H180v160Zm440 0h160v-160H620v160ZM180-180h160v-160H180v160Zm440 0h160v-160H620v160Z\"/>\n",
              "  </svg>\n",
              "    </button>\n",
              "\n",
              "  <style>\n",
              "    .colab-df-container {\n",
              "      display:flex;\n",
              "      gap: 12px;\n",
              "    }\n",
              "\n",
              "    .colab-df-convert {\n",
              "      background-color: #E8F0FE;\n",
              "      border: none;\n",
              "      border-radius: 50%;\n",
              "      cursor: pointer;\n",
              "      display: none;\n",
              "      fill: #1967D2;\n",
              "      height: 32px;\n",
              "      padding: 0 0 0 0;\n",
              "      width: 32px;\n",
              "    }\n",
              "\n",
              "    .colab-df-convert:hover {\n",
              "      background-color: #E2EBFA;\n",
              "      box-shadow: 0px 1px 2px rgba(60, 64, 67, 0.3), 0px 1px 3px 1px rgba(60, 64, 67, 0.15);\n",
              "      fill: #174EA6;\n",
              "    }\n",
              "\n",
              "    .colab-df-buttons div {\n",
              "      margin-bottom: 4px;\n",
              "    }\n",
              "\n",
              "    [theme=dark] .colab-df-convert {\n",
              "      background-color: #3B4455;\n",
              "      fill: #D2E3FC;\n",
              "    }\n",
              "\n",
              "    [theme=dark] .colab-df-convert:hover {\n",
              "      background-color: #434B5C;\n",
              "      box-shadow: 0px 1px 3px 1px rgba(0, 0, 0, 0.15);\n",
              "      filter: drop-shadow(0px 1px 2px rgba(0, 0, 0, 0.3));\n",
              "      fill: #FFFFFF;\n",
              "    }\n",
              "  </style>\n",
              "\n",
              "    <script>\n",
              "      const buttonEl =\n",
              "        document.querySelector('#df-2dbf3cf9-4f5b-424d-917f-c83e01890d53 button.colab-df-convert');\n",
              "      buttonEl.style.display =\n",
              "        google.colab.kernel.accessAllowed ? 'block' : 'none';\n",
              "\n",
              "      async function convertToInteractive(key) {\n",
              "        const element = document.querySelector('#df-2dbf3cf9-4f5b-424d-917f-c83e01890d53');\n",
              "        const dataTable =\n",
              "          await google.colab.kernel.invokeFunction('convertToInteractive',\n",
              "                                                    [key], {});\n",
              "        if (!dataTable) return;\n",
              "\n",
              "        const docLinkHtml = 'Like what you see? Visit the ' +\n",
              "          '<a target=\"_blank\" href=https://colab.research.google.com/notebooks/data_table.ipynb>data table notebook</a>'\n",
              "          + ' to learn more about interactive tables.';\n",
              "        element.innerHTML = '';\n",
              "        dataTable['output_type'] = 'display_data';\n",
              "        await google.colab.output.renderOutput(dataTable, element);\n",
              "        const docLink = document.createElement('div');\n",
              "        docLink.innerHTML = docLinkHtml;\n",
              "        element.appendChild(docLink);\n",
              "      }\n",
              "    </script>\n",
              "  </div>\n",
              "\n",
              "\n",
              "<div id=\"df-a97c6cf8-fa3d-442b-a079-1fc471eaf157\">\n",
              "  <button class=\"colab-df-quickchart\" onclick=\"quickchart('df-a97c6cf8-fa3d-442b-a079-1fc471eaf157')\"\n",
              "            title=\"Suggest charts\"\n",
              "            style=\"display:none;\">\n",
              "\n",
              "<svg xmlns=\"http://www.w3.org/2000/svg\" height=\"24px\"viewBox=\"0 0 24 24\"\n",
              "     width=\"24px\">\n",
              "    <g>\n",
              "        <path d=\"M19 3H5c-1.1 0-2 .9-2 2v14c0 1.1.9 2 2 2h14c1.1 0 2-.9 2-2V5c0-1.1-.9-2-2-2zM9 17H7v-7h2v7zm4 0h-2V7h2v10zm4 0h-2v-4h2v4z\"/>\n",
              "    </g>\n",
              "</svg>\n",
              "  </button>\n",
              "\n",
              "<style>\n",
              "  .colab-df-quickchart {\n",
              "      --bg-color: #E8F0FE;\n",
              "      --fill-color: #1967D2;\n",
              "      --hover-bg-color: #E2EBFA;\n",
              "      --hover-fill-color: #174EA6;\n",
              "      --disabled-fill-color: #AAA;\n",
              "      --disabled-bg-color: #DDD;\n",
              "  }\n",
              "\n",
              "  [theme=dark] .colab-df-quickchart {\n",
              "      --bg-color: #3B4455;\n",
              "      --fill-color: #D2E3FC;\n",
              "      --hover-bg-color: #434B5C;\n",
              "      --hover-fill-color: #FFFFFF;\n",
              "      --disabled-bg-color: #3B4455;\n",
              "      --disabled-fill-color: #666;\n",
              "  }\n",
              "\n",
              "  .colab-df-quickchart {\n",
              "    background-color: var(--bg-color);\n",
              "    border: none;\n",
              "    border-radius: 50%;\n",
              "    cursor: pointer;\n",
              "    display: none;\n",
              "    fill: var(--fill-color);\n",
              "    height: 32px;\n",
              "    padding: 0;\n",
              "    width: 32px;\n",
              "  }\n",
              "\n",
              "  .colab-df-quickchart:hover {\n",
              "    background-color: var(--hover-bg-color);\n",
              "    box-shadow: 0 1px 2px rgba(60, 64, 67, 0.3), 0 1px 3px 1px rgba(60, 64, 67, 0.15);\n",
              "    fill: var(--button-hover-fill-color);\n",
              "  }\n",
              "\n",
              "  .colab-df-quickchart-complete:disabled,\n",
              "  .colab-df-quickchart-complete:disabled:hover {\n",
              "    background-color: var(--disabled-bg-color);\n",
              "    fill: var(--disabled-fill-color);\n",
              "    box-shadow: none;\n",
              "  }\n",
              "\n",
              "  .colab-df-spinner {\n",
              "    border: 2px solid var(--fill-color);\n",
              "    border-color: transparent;\n",
              "    border-bottom-color: var(--fill-color);\n",
              "    animation:\n",
              "      spin 1s steps(1) infinite;\n",
              "  }\n",
              "\n",
              "  @keyframes spin {\n",
              "    0% {\n",
              "      border-color: transparent;\n",
              "      border-bottom-color: var(--fill-color);\n",
              "      border-left-color: var(--fill-color);\n",
              "    }\n",
              "    20% {\n",
              "      border-color: transparent;\n",
              "      border-left-color: var(--fill-color);\n",
              "      border-top-color: var(--fill-color);\n",
              "    }\n",
              "    30% {\n",
              "      border-color: transparent;\n",
              "      border-left-color: var(--fill-color);\n",
              "      border-top-color: var(--fill-color);\n",
              "      border-right-color: var(--fill-color);\n",
              "    }\n",
              "    40% {\n",
              "      border-color: transparent;\n",
              "      border-right-color: var(--fill-color);\n",
              "      border-top-color: var(--fill-color);\n",
              "    }\n",
              "    60% {\n",
              "      border-color: transparent;\n",
              "      border-right-color: var(--fill-color);\n",
              "    }\n",
              "    80% {\n",
              "      border-color: transparent;\n",
              "      border-right-color: var(--fill-color);\n",
              "      border-bottom-color: var(--fill-color);\n",
              "    }\n",
              "    90% {\n",
              "      border-color: transparent;\n",
              "      border-bottom-color: var(--fill-color);\n",
              "    }\n",
              "  }\n",
              "</style>\n",
              "\n",
              "  <script>\n",
              "    async function quickchart(key) {\n",
              "      const quickchartButtonEl =\n",
              "        document.querySelector('#' + key + ' button');\n",
              "      quickchartButtonEl.disabled = true;  // To prevent multiple clicks.\n",
              "      quickchartButtonEl.classList.add('colab-df-spinner');\n",
              "      try {\n",
              "        const charts = await google.colab.kernel.invokeFunction(\n",
              "            'suggestCharts', [key], {});\n",
              "      } catch (error) {\n",
              "        console.error('Error during call to suggestCharts:', error);\n",
              "      }\n",
              "      quickchartButtonEl.classList.remove('colab-df-spinner');\n",
              "      quickchartButtonEl.classList.add('colab-df-quickchart-complete');\n",
              "    }\n",
              "    (() => {\n",
              "      let quickchartButtonEl =\n",
              "        document.querySelector('#df-a97c6cf8-fa3d-442b-a079-1fc471eaf157 button');\n",
              "      quickchartButtonEl.style.display =\n",
              "        google.colab.kernel.accessAllowed ? 'block' : 'none';\n",
              "    })();\n",
              "  </script>\n",
              "</div>\n",
              "\n",
              "  <div id=\"id_c61d6ac5-b45c-4068-ad74-f361c02649c0\">\n",
              "    <style>\n",
              "      .colab-df-generate {\n",
              "        background-color: #E8F0FE;\n",
              "        border: none;\n",
              "        border-radius: 50%;\n",
              "        cursor: pointer;\n",
              "        display: none;\n",
              "        fill: #1967D2;\n",
              "        height: 32px;\n",
              "        padding: 0 0 0 0;\n",
              "        width: 32px;\n",
              "      }\n",
              "\n",
              "      .colab-df-generate:hover {\n",
              "        background-color: #E2EBFA;\n",
              "        box-shadow: 0px 1px 2px rgba(60, 64, 67, 0.3), 0px 1px 3px 1px rgba(60, 64, 67, 0.15);\n",
              "        fill: #174EA6;\n",
              "      }\n",
              "\n",
              "      [theme=dark] .colab-df-generate {\n",
              "        background-color: #3B4455;\n",
              "        fill: #D2E3FC;\n",
              "      }\n",
              "\n",
              "      [theme=dark] .colab-df-generate:hover {\n",
              "        background-color: #434B5C;\n",
              "        box-shadow: 0px 1px 3px 1px rgba(0, 0, 0, 0.15);\n",
              "        filter: drop-shadow(0px 1px 2px rgba(0, 0, 0, 0.3));\n",
              "        fill: #FFFFFF;\n",
              "      }\n",
              "    </style>\n",
              "    <button class=\"colab-df-generate\" onclick=\"generateWithVariable('top_countries')\"\n",
              "            title=\"Generate code using this dataframe.\"\n",
              "            style=\"display:none;\">\n",
              "\n",
              "  <svg xmlns=\"http://www.w3.org/2000/svg\" height=\"24px\"viewBox=\"0 0 24 24\"\n",
              "       width=\"24px\">\n",
              "    <path d=\"M7,19H8.4L18.45,9,17,7.55,7,17.6ZM5,21V16.75L18.45,3.32a2,2,0,0,1,2.83,0l1.4,1.43a1.91,1.91,0,0,1,.58,1.4,1.91,1.91,0,0,1-.58,1.4L9.25,21ZM18.45,9,17,7.55Zm-12,3A5.31,5.31,0,0,0,4.9,8.1,5.31,5.31,0,0,0,1,6.5,5.31,5.31,0,0,0,4.9,4.9,5.31,5.31,0,0,0,6.5,1,5.31,5.31,0,0,0,8.1,4.9,5.31,5.31,0,0,0,12,6.5,5.46,5.46,0,0,0,6.5,12Z\"/>\n",
              "  </svg>\n",
              "    </button>\n",
              "    <script>\n",
              "      (() => {\n",
              "      const buttonEl =\n",
              "        document.querySelector('#id_c61d6ac5-b45c-4068-ad74-f361c02649c0 button.colab-df-generate');\n",
              "      buttonEl.style.display =\n",
              "        google.colab.kernel.accessAllowed ? 'block' : 'none';\n",
              "\n",
              "      buttonEl.onclick = () => {\n",
              "        google.colab.notebook.generateWithVariable('top_countries');\n",
              "      }\n",
              "      })();\n",
              "    </script>\n",
              "  </div>\n",
              "\n",
              "    </div>\n",
              "  </div>\n"
            ],
            "application/vnd.google.colaboratory.intrinsic+json": {
              "type": "dataframe",
              "variable_name": "top_countries",
              "summary": "{\n  \"name\": \"top_countries\",\n  \"rows\": 5,\n  \"fields\": [\n    {\n      \"column\": \"country\",\n      \"properties\": {\n        \"dtype\": \"string\",\n        \"num_unique_values\": 5,\n        \"samples\": [\n          \"India\",\n          \"France\",\n          \"United Kingdom\"\n        ],\n        \"semantic_type\": \"\",\n        \"description\": \"\"\n      }\n    },\n    {\n      \"column\": \"Productions\",\n      \"properties\": {\n        \"dtype\": \"number\",\n        \"std\": 1444,\n        \"min\": 349,\n        \"max\": 3797,\n        \"num_unique_values\": 5,\n        \"samples\": [\n          990,\n          349,\n          722\n        ],\n        \"semantic_type\": \"\",\n        \"description\": \"\"\n      }\n    },\n    {\n      \"column\": \"TV-Shows\",\n      \"properties\": {\n        \"dtype\": \"number\",\n        \"std\": 453,\n        \"min\": 75,\n        \"max\": 1136,\n        \"num_unique_values\": 5,\n        \"samples\": [\n          75,\n          84,\n          255\n        ],\n        \"semantic_type\": \"\",\n        \"description\": \"\"\n      }\n    },\n    {\n      \"column\": \"Movies\",\n      \"properties\": {\n        \"dtype\": \"number\",\n        \"std\": 1008,\n        \"min\": 265,\n        \"max\": 2661,\n        \"num_unique_values\": 5,\n        \"samples\": [\n          915,\n          265,\n          467\n        ],\n        \"semantic_type\": \"\",\n        \"description\": \"\"\n      }\n    }\n  ]\n}"
            }
          },
          "metadata": {},
          "execution_count": 64
        }
      ],
      "source": [
        "#Top 5 countries\n",
        "top_countries=country_df.head()\n",
        "top_countries"
      ]
    },
    {
      "cell_type": "code",
      "execution_count": null,
      "metadata": {
        "colab": {
          "base_uri": "https://localhost:8080/",
          "height": 174
        },
        "id": "sBsr9ZeAYhG2",
        "outputId": "e9b57128-de0e-4b51-8c63-ded3970e0bad"
      },
      "outputs": [
        {
          "output_type": "execute_result",
          "data": {
            "text/plain": [
              "                         0      1               2       3       4\n",
              "country      United States  India  United Kingdom  Canada  France\n",
              "Productions           3797    990             722     412     349\n",
              "TV-Shows              1136     75             255     126      84\n",
              "Movies                2661    915             467     286     265"
            ],
            "text/html": [
              "\n",
              "  <div id=\"df-0fb578c0-e5d4-4a16-9cba-0b389f43c4e0\" class=\"colab-df-container\">\n",
              "    <div>\n",
              "<style scoped>\n",
              "    .dataframe tbody tr th:only-of-type {\n",
              "        vertical-align: middle;\n",
              "    }\n",
              "\n",
              "    .dataframe tbody tr th {\n",
              "        vertical-align: top;\n",
              "    }\n",
              "\n",
              "    .dataframe thead th {\n",
              "        text-align: right;\n",
              "    }\n",
              "</style>\n",
              "<table border=\"1\" class=\"dataframe\">\n",
              "  <thead>\n",
              "    <tr style=\"text-align: right;\">\n",
              "      <th></th>\n",
              "      <th>0</th>\n",
              "      <th>1</th>\n",
              "      <th>2</th>\n",
              "      <th>3</th>\n",
              "      <th>4</th>\n",
              "    </tr>\n",
              "  </thead>\n",
              "  <tbody>\n",
              "    <tr>\n",
              "      <th>country</th>\n",
              "      <td>United States</td>\n",
              "      <td>India</td>\n",
              "      <td>United Kingdom</td>\n",
              "      <td>Canada</td>\n",
              "      <td>France</td>\n",
              "    </tr>\n",
              "    <tr>\n",
              "      <th>Productions</th>\n",
              "      <td>3797</td>\n",
              "      <td>990</td>\n",
              "      <td>722</td>\n",
              "      <td>412</td>\n",
              "      <td>349</td>\n",
              "    </tr>\n",
              "    <tr>\n",
              "      <th>TV-Shows</th>\n",
              "      <td>1136</td>\n",
              "      <td>75</td>\n",
              "      <td>255</td>\n",
              "      <td>126</td>\n",
              "      <td>84</td>\n",
              "    </tr>\n",
              "    <tr>\n",
              "      <th>Movies</th>\n",
              "      <td>2661</td>\n",
              "      <td>915</td>\n",
              "      <td>467</td>\n",
              "      <td>286</td>\n",
              "      <td>265</td>\n",
              "    </tr>\n",
              "  </tbody>\n",
              "</table>\n",
              "</div>\n",
              "    <div class=\"colab-df-buttons\">\n",
              "\n",
              "  <div class=\"colab-df-container\">\n",
              "    <button class=\"colab-df-convert\" onclick=\"convertToInteractive('df-0fb578c0-e5d4-4a16-9cba-0b389f43c4e0')\"\n",
              "            title=\"Convert this dataframe to an interactive table.\"\n",
              "            style=\"display:none;\">\n",
              "\n",
              "  <svg xmlns=\"http://www.w3.org/2000/svg\" height=\"24px\" viewBox=\"0 -960 960 960\">\n",
              "    <path d=\"M120-120v-720h720v720H120Zm60-500h600v-160H180v160Zm220 220h160v-160H400v160Zm0 220h160v-160H400v160ZM180-400h160v-160H180v160Zm440 0h160v-160H620v160ZM180-180h160v-160H180v160Zm440 0h160v-160H620v160Z\"/>\n",
              "  </svg>\n",
              "    </button>\n",
              "\n",
              "  <style>\n",
              "    .colab-df-container {\n",
              "      display:flex;\n",
              "      gap: 12px;\n",
              "    }\n",
              "\n",
              "    .colab-df-convert {\n",
              "      background-color: #E8F0FE;\n",
              "      border: none;\n",
              "      border-radius: 50%;\n",
              "      cursor: pointer;\n",
              "      display: none;\n",
              "      fill: #1967D2;\n",
              "      height: 32px;\n",
              "      padding: 0 0 0 0;\n",
              "      width: 32px;\n",
              "    }\n",
              "\n",
              "    .colab-df-convert:hover {\n",
              "      background-color: #E2EBFA;\n",
              "      box-shadow: 0px 1px 2px rgba(60, 64, 67, 0.3), 0px 1px 3px 1px rgba(60, 64, 67, 0.15);\n",
              "      fill: #174EA6;\n",
              "    }\n",
              "\n",
              "    .colab-df-buttons div {\n",
              "      margin-bottom: 4px;\n",
              "    }\n",
              "\n",
              "    [theme=dark] .colab-df-convert {\n",
              "      background-color: #3B4455;\n",
              "      fill: #D2E3FC;\n",
              "    }\n",
              "\n",
              "    [theme=dark] .colab-df-convert:hover {\n",
              "      background-color: #434B5C;\n",
              "      box-shadow: 0px 1px 3px 1px rgba(0, 0, 0, 0.15);\n",
              "      filter: drop-shadow(0px 1px 2px rgba(0, 0, 0, 0.3));\n",
              "      fill: #FFFFFF;\n",
              "    }\n",
              "  </style>\n",
              "\n",
              "    <script>\n",
              "      const buttonEl =\n",
              "        document.querySelector('#df-0fb578c0-e5d4-4a16-9cba-0b389f43c4e0 button.colab-df-convert');\n",
              "      buttonEl.style.display =\n",
              "        google.colab.kernel.accessAllowed ? 'block' : 'none';\n",
              "\n",
              "      async function convertToInteractive(key) {\n",
              "        const element = document.querySelector('#df-0fb578c0-e5d4-4a16-9cba-0b389f43c4e0');\n",
              "        const dataTable =\n",
              "          await google.colab.kernel.invokeFunction('convertToInteractive',\n",
              "                                                    [key], {});\n",
              "        if (!dataTable) return;\n",
              "\n",
              "        const docLinkHtml = 'Like what you see? Visit the ' +\n",
              "          '<a target=\"_blank\" href=https://colab.research.google.com/notebooks/data_table.ipynb>data table notebook</a>'\n",
              "          + ' to learn more about interactive tables.';\n",
              "        element.innerHTML = '';\n",
              "        dataTable['output_type'] = 'display_data';\n",
              "        await google.colab.output.renderOutput(dataTable, element);\n",
              "        const docLink = document.createElement('div');\n",
              "        docLink.innerHTML = docLinkHtml;\n",
              "        element.appendChild(docLink);\n",
              "      }\n",
              "    </script>\n",
              "  </div>\n",
              "\n",
              "\n",
              "<div id=\"df-bedb5ffe-1078-41f0-99f4-6881ac4ccd34\">\n",
              "  <button class=\"colab-df-quickchart\" onclick=\"quickchart('df-bedb5ffe-1078-41f0-99f4-6881ac4ccd34')\"\n",
              "            title=\"Suggest charts\"\n",
              "            style=\"display:none;\">\n",
              "\n",
              "<svg xmlns=\"http://www.w3.org/2000/svg\" height=\"24px\"viewBox=\"0 0 24 24\"\n",
              "     width=\"24px\">\n",
              "    <g>\n",
              "        <path d=\"M19 3H5c-1.1 0-2 .9-2 2v14c0 1.1.9 2 2 2h14c1.1 0 2-.9 2-2V5c0-1.1-.9-2-2-2zM9 17H7v-7h2v7zm4 0h-2V7h2v10zm4 0h-2v-4h2v4z\"/>\n",
              "    </g>\n",
              "</svg>\n",
              "  </button>\n",
              "\n",
              "<style>\n",
              "  .colab-df-quickchart {\n",
              "      --bg-color: #E8F0FE;\n",
              "      --fill-color: #1967D2;\n",
              "      --hover-bg-color: #E2EBFA;\n",
              "      --hover-fill-color: #174EA6;\n",
              "      --disabled-fill-color: #AAA;\n",
              "      --disabled-bg-color: #DDD;\n",
              "  }\n",
              "\n",
              "  [theme=dark] .colab-df-quickchart {\n",
              "      --bg-color: #3B4455;\n",
              "      --fill-color: #D2E3FC;\n",
              "      --hover-bg-color: #434B5C;\n",
              "      --hover-fill-color: #FFFFFF;\n",
              "      --disabled-bg-color: #3B4455;\n",
              "      --disabled-fill-color: #666;\n",
              "  }\n",
              "\n",
              "  .colab-df-quickchart {\n",
              "    background-color: var(--bg-color);\n",
              "    border: none;\n",
              "    border-radius: 50%;\n",
              "    cursor: pointer;\n",
              "    display: none;\n",
              "    fill: var(--fill-color);\n",
              "    height: 32px;\n",
              "    padding: 0;\n",
              "    width: 32px;\n",
              "  }\n",
              "\n",
              "  .colab-df-quickchart:hover {\n",
              "    background-color: var(--hover-bg-color);\n",
              "    box-shadow: 0 1px 2px rgba(60, 64, 67, 0.3), 0 1px 3px 1px rgba(60, 64, 67, 0.15);\n",
              "    fill: var(--button-hover-fill-color);\n",
              "  }\n",
              "\n",
              "  .colab-df-quickchart-complete:disabled,\n",
              "  .colab-df-quickchart-complete:disabled:hover {\n",
              "    background-color: var(--disabled-bg-color);\n",
              "    fill: var(--disabled-fill-color);\n",
              "    box-shadow: none;\n",
              "  }\n",
              "\n",
              "  .colab-df-spinner {\n",
              "    border: 2px solid var(--fill-color);\n",
              "    border-color: transparent;\n",
              "    border-bottom-color: var(--fill-color);\n",
              "    animation:\n",
              "      spin 1s steps(1) infinite;\n",
              "  }\n",
              "\n",
              "  @keyframes spin {\n",
              "    0% {\n",
              "      border-color: transparent;\n",
              "      border-bottom-color: var(--fill-color);\n",
              "      border-left-color: var(--fill-color);\n",
              "    }\n",
              "    20% {\n",
              "      border-color: transparent;\n",
              "      border-left-color: var(--fill-color);\n",
              "      border-top-color: var(--fill-color);\n",
              "    }\n",
              "    30% {\n",
              "      border-color: transparent;\n",
              "      border-left-color: var(--fill-color);\n",
              "      border-top-color: var(--fill-color);\n",
              "      border-right-color: var(--fill-color);\n",
              "    }\n",
              "    40% {\n",
              "      border-color: transparent;\n",
              "      border-right-color: var(--fill-color);\n",
              "      border-top-color: var(--fill-color);\n",
              "    }\n",
              "    60% {\n",
              "      border-color: transparent;\n",
              "      border-right-color: var(--fill-color);\n",
              "    }\n",
              "    80% {\n",
              "      border-color: transparent;\n",
              "      border-right-color: var(--fill-color);\n",
              "      border-bottom-color: var(--fill-color);\n",
              "    }\n",
              "    90% {\n",
              "      border-color: transparent;\n",
              "      border-bottom-color: var(--fill-color);\n",
              "    }\n",
              "  }\n",
              "</style>\n",
              "\n",
              "  <script>\n",
              "    async function quickchart(key) {\n",
              "      const quickchartButtonEl =\n",
              "        document.querySelector('#' + key + ' button');\n",
              "      quickchartButtonEl.disabled = true;  // To prevent multiple clicks.\n",
              "      quickchartButtonEl.classList.add('colab-df-spinner');\n",
              "      try {\n",
              "        const charts = await google.colab.kernel.invokeFunction(\n",
              "            'suggestCharts', [key], {});\n",
              "      } catch (error) {\n",
              "        console.error('Error during call to suggestCharts:', error);\n",
              "      }\n",
              "      quickchartButtonEl.classList.remove('colab-df-spinner');\n",
              "      quickchartButtonEl.classList.add('colab-df-quickchart-complete');\n",
              "    }\n",
              "    (() => {\n",
              "      let quickchartButtonEl =\n",
              "        document.querySelector('#df-bedb5ffe-1078-41f0-99f4-6881ac4ccd34 button');\n",
              "      quickchartButtonEl.style.display =\n",
              "        google.colab.kernel.accessAllowed ? 'block' : 'none';\n",
              "    })();\n",
              "  </script>\n",
              "</div>\n",
              "\n",
              "    </div>\n",
              "  </div>\n"
            ],
            "application/vnd.google.colaboratory.intrinsic+json": {
              "type": "dataframe",
              "summary": "{\n  \"name\": \"top_countries\",\n  \"rows\": 4,\n  \"fields\": [\n    {\n      \"column\": 0,\n      \"properties\": {\n        \"dtype\": \"string\",\n        \"num_unique_values\": 4,\n        \"samples\": [\n          3797,\n          2661,\n          \"United States\"\n        ],\n        \"semantic_type\": \"\",\n        \"description\": \"\"\n      }\n    },\n    {\n      \"column\": 1,\n      \"properties\": {\n        \"dtype\": \"string\",\n        \"num_unique_values\": 4,\n        \"samples\": [\n          990,\n          915,\n          \"India\"\n        ],\n        \"semantic_type\": \"\",\n        \"description\": \"\"\n      }\n    },\n    {\n      \"column\": 2,\n      \"properties\": {\n        \"dtype\": \"string\",\n        \"num_unique_values\": 4,\n        \"samples\": [\n          722,\n          467,\n          \"United Kingdom\"\n        ],\n        \"semantic_type\": \"\",\n        \"description\": \"\"\n      }\n    },\n    {\n      \"column\": 3,\n      \"properties\": {\n        \"dtype\": \"string\",\n        \"num_unique_values\": 4,\n        \"samples\": [\n          412,\n          286,\n          \"Canada\"\n        ],\n        \"semantic_type\": \"\",\n        \"description\": \"\"\n      }\n    },\n    {\n      \"column\": 4,\n      \"properties\": {\n        \"dtype\": \"string\",\n        \"num_unique_values\": 4,\n        \"samples\": [\n          349,\n          265,\n          \"France\"\n        ],\n        \"semantic_type\": \"\",\n        \"description\": \"\"\n      }\n    }\n  ]\n}"
            }
          },
          "metadata": {},
          "execution_count": 65
        }
      ],
      "source": [
        "top_countries.T"
      ]
    },
    {
      "cell_type": "code",
      "execution_count": null,
      "metadata": {
        "colab": {
          "base_uri": "https://localhost:8080/",
          "height": 636
        },
        "id": "7Wz228xTZCZS",
        "outputId": "26b52be3-175f-449e-d1c1-83a49e6df28e"
      },
      "outputs": [
        {
          "output_type": "execute_result",
          "data": {
            "text/plain": [
              "<Axes: xlabel='country'>"
            ]
          },
          "metadata": {},
          "execution_count": 66
        },
        {
          "output_type": "display_data",
          "data": {
            "text/plain": [
              "<Figure size 640x480 with 1 Axes>"
            ],
            "image/png": "[encoded data removed]"
          },
          "metadata": {}
        }
      ],
      "source": [
        "top_countries.head(9).plot(x=\"country\", y=['Productions','TV-Shows','Movies'], kind=\"bar\")"
      ]
    },
    {
      "cell_type": "markdown",
      "metadata": {
        "id": "Cd7csjv2nOnK"
      },
      "source": [
        "1. Why did you pick the specific chart?"
      ]
    },
    {
      "cell_type": "markdown",
      "metadata": {
        "id": "qgQlVNgEnYXN"
      },
      "source": [
        "Grouped bar charts can be used to visualize relationships and patterns between different variables or factors. By grouping bars according to categories or subcategories.The visual separation of bars within each group makes it easy to see variations in values across the categories."
      ]
    },
    {
      "cell_type": "markdown",
      "metadata": {
        "id": "DboKFnZzzTg3"
      },
      "source": [
        "2. What is/are the insight(s) found from the chart?"
      ]
    },
    {
      "cell_type": "markdown",
      "metadata": {
        "id": "eexhypv1zYu6"
      },
      "source": [
        "The graph shows different countries and the count of productions,TV shows and movies.The count was maximum for the US and minimum for the France."
      ]
    },
    {
      "cell_type": "markdown",
      "metadata": {
        "id": "fHb8TsfCerfV"
      },
      "source": [
        "* ### 4.9 **Type**"
      ]
    },
    {
      "cell_type": "code",
      "execution_count": null,
      "metadata": {
        "colab": {
          "base_uri": "https://localhost:8080/",
          "height": 602
        },
        "id": "hU_C3KVie00i",
        "outputId": "81189c07-4797-4d8e-e9b6-947fa719da16"
      },
      "outputs": [
        {
          "output_type": "display_data",
          "data": {
            "text/plain": [
              "<Figure size 1400x700 with 1 Axes>"
            ],
            "image/png": "[encoded data removed]"
          },
          "metadata": {}
        }
      ],
      "source": [
        "#Plotting pie chart on type feature\n",
        "plt.figure(figsize=(14, 7))\n",
        "labels=['TV Show', 'Movie']\n",
        "plt.pie(df['type'].value_counts().sort_values(),labels=labels,explode=[0.01,0.01],\n",
        "        autopct='%1.2f%%', startangle=90)\n",
        "plt.title('Type of Netflix Content')\n",
        "plt.axis('equal')\n",
        "plt.show()"
      ]
    },
    {
      "cell_type": "markdown",
      "metadata": {
        "id": "cyQf2cepb8lE"
      },
      "source": [
        "1. Why did you pick the specific chart?"
      ]
    },
    {
      "cell_type": "markdown",
      "metadata": {
        "id": "quf5oq9jcAH6"
      },
      "source": [
        "Pie charts are effective for showing the proportional relationship between different categories or parts of a whole. Each slice of the pie represents a proportion of the total, making it easy to see the relative size of each category.Pie charts are useful for summarizing categorical data with a small number of categories. They provide a concise overview of the distribution of data and can quickly convey the main insights or trends present in the dataset."
      ]
    },
    {
      "cell_type": "markdown",
      "metadata": {
        "id": "KkhkagV0cAem"
      },
      "source": [
        "2. What is/are the insight(s) found from the chart?"
      ]
    },
    {
      "cell_type": "markdown",
      "metadata": {
        "id": "ZQPERNq5cDos"
      },
      "source": [
        "The percentage count for movies is more than TV shows."
      ]
    },
    {
      "cell_type": "markdown",
      "metadata": {
        "id": "rSQvN9iqcEAq"
      },
      "source": [
        "3. Will the gained insights help creating a positive business impact?"
      ]
    },
    {
      "cell_type": "markdown",
      "metadata": {
        "id": "qkxCWjAeF1gk"
      },
      "source": [
        "* #### Most of the contents are Movies\n",
        "* #### Less than ⅓ content are Tv Shows\n"
      ]
    },
    {
      "cell_type": "markdown",
      "metadata": {
        "id": "-zPsX-beyNwO"
      },
      "source": [
        "* ### 4.10 **duration**"
      ]
    },
    {
      "cell_type": "markdown",
      "metadata": {
        "id": "6IRDTd5cybrC"
      },
      "source": [
        "* #### 4.10.1 Checking NaN values"
      ]
    },
    {
      "cell_type": "code",
      "execution_count": null,
      "metadata": {
        "colab": {
          "base_uri": "https://localhost:8080/"
        },
        "id": "GFBdWbvSyfTK",
        "outputId": "faba7e5b-845e-43ee-bd55-0ce91eaef846"
      },
      "outputs": [
        {
          "output_type": "execute_result",
          "data": {
            "text/plain": [
              "0"
            ]
          },
          "metadata": {},
          "execution_count": 68
        }
      ],
      "source": [
        "df.duration.isna().sum()"
      ]
    },
    {
      "cell_type": "markdown",
      "metadata": {
        "id": "5rRH5sWNyfvX"
      },
      "source": [
        "* There is no NaN value present."
      ]
    },
    {
      "cell_type": "markdown",
      "metadata": {
        "id": "CAJ3DAbeynrN"
      },
      "source": [
        "* #### 4.10.2 Checking datatype"
      ]
    },
    {
      "cell_type": "code",
      "execution_count": null,
      "metadata": {
        "colab": {
          "base_uri": "https://localhost:8080/"
        },
        "id": "1dZgC2dbysVE",
        "outputId": "f44af163-b48c-4239-9f4a-f6e00758f03e"
      },
      "outputs": [
        {
          "output_type": "execute_result",
          "data": {
            "text/plain": [
              "str"
            ]
          },
          "metadata": {},
          "execution_count": 69
        }
      ],
      "source": [
        "type(df.duration.iloc[0][0])"
      ]
    },
    {
      "cell_type": "markdown",
      "metadata": {
        "id": "naBqa9Qey0Qq"
      },
      "source": [
        "* #### 4.10.3 How many unique values present in duration column ??"
      ]
    },
    {
      "cell_type": "code",
      "execution_count": null,
      "metadata": {
        "colab": {
          "base_uri": "https://localhost:8080/"
        },
        "id": "_bu0WDj4y9JQ",
        "outputId": "fc42b1a3-fc94-4f64-c53b-d0b411c75bf8"
      },
      "outputs": [
        {
          "output_type": "execute_result",
          "data": {
            "text/plain": [
              "216"
            ]
          },
          "metadata": {},
          "execution_count": 70
        }
      ],
      "source": [
        "df.duration.nunique()"
      ]
    },
    {
      "cell_type": "markdown",
      "metadata": {
        "id": "DEPtJvifzBK5"
      },
      "source": [
        "* #### 4.10.4 Using *value_count()* method"
      ]
    },
    {
      "cell_type": "code",
      "execution_count": null,
      "metadata": {
        "colab": {
          "base_uri": "https://localhost:8080/",
          "height": 127
        },
        "id": "cLYJkUOWzFe6",
        "outputId": "aca2c028-d523-4b2e-b0d0-afc83a99b6e2"
      },
      "outputs": [
        {
          "output_type": "execute_result",
          "data": {
            "text/plain": [
              "duration  1 Season  2 Seasons  3 Seasons  90 min  93 min  94 min  91 min  \\\n",
              "count         1608        378        183     136     131     125     125   \n",
              "\n",
              "duration  95 min  92 min  97 min  ...  193 min  13 min  214 min  8 min  \\\n",
              "count        119     118     117  ...        1       1        1      1   \n",
              "\n",
              "duration  13 Seasons  9 min  182 min  224 min  233 min  191 min  \n",
              "count              1      1        1        1        1        1  \n",
              "\n",
              "[1 rows x 216 columns]"
            ],
            "text/html": [
              "\n",
              "  <div id=\"df-62aa7576-f60e-49d6-b62a-52bafc867649\" class=\"colab-df-container\">\n",
              "    <div>\n",
              "<style scoped>\n",
              "    .dataframe tbody tr th:only-of-type {\n",
              "        vertical-align: middle;\n",
              "    }\n",
              "\n",
              "    .dataframe tbody tr th {\n",
              "        vertical-align: top;\n",
              "    }\n",
              "\n",
              "    .dataframe thead th {\n",
              "        text-align: right;\n",
              "    }\n",
              "</style>\n",
              "<table border=\"1\" class=\"dataframe\">\n",
              "  <thead>\n",
              "    <tr style=\"text-align: right;\">\n",
              "      <th>duration</th>\n",
              "      <th>1 Season</th>\n",
              "      <th>2 Seasons</th>\n",
              "      <th>3 Seasons</th>\n",
              "      <th>90 min</th>\n",
              "      <th>93 min</th>\n",
              "      <th>94 min</th>\n",
              "      <th>91 min</th>\n",
              "      <th>95 min</th>\n",
              "      <th>92 min</th>\n",
              "      <th>97 min</th>\n",
              "      <th>...</th>\n",
              "      <th>193 min</th>\n",
              "      <th>13 min</th>\n",
              "      <th>214 min</th>\n",
              "      <th>8 min</th>\n",
              "      <th>13 Seasons</th>\n",
              "      <th>9 min</th>\n",
              "      <th>182 min</th>\n",
              "      <th>224 min</th>\n",
              "      <th>233 min</th>\n",
              "      <th>191 min</th>\n",
              "    </tr>\n",
              "  </thead>\n",
              "  <tbody>\n",
              "    <tr>\n",
              "      <th>count</th>\n",
              "      <td>1608</td>\n",
              "      <td>378</td>\n",
              "      <td>183</td>\n",
              "      <td>136</td>\n",
              "      <td>131</td>\n",
              "      <td>125</td>\n",
              "      <td>125</td>\n",
              "      <td>119</td>\n",
              "      <td>118</td>\n",
              "      <td>117</td>\n",
              "      <td>...</td>\n",
              "      <td>1</td>\n",
              "      <td>1</td>\n",
              "      <td>1</td>\n",
              "      <td>1</td>\n",
              "      <td>1</td>\n",
              "      <td>1</td>\n",
              "      <td>1</td>\n",
              "      <td>1</td>\n",
              "      <td>1</td>\n",
              "      <td>1</td>\n",
              "    </tr>\n",
              "  </tbody>\n",
              "</table>\n",
              "<p>1 rows × 216 columns</p>\n",
              "</div>\n",
              "    <div class=\"colab-df-buttons\">\n",
              "\n",
              "  <div class=\"colab-df-container\">\n",
              "    <button class=\"colab-df-convert\" onclick=\"convertToInteractive('df-62aa7576-f60e-49d6-b62a-52bafc867649')\"\n",
              "            title=\"Convert this dataframe to an interactive table.\"\n",
              "            style=\"display:none;\">\n",
              "\n",
              "  <svg xmlns=\"http://www.w3.org/2000/svg\" height=\"24px\" viewBox=\"0 -960 960 960\">\n",
              "    <path d=\"M120-120v-720h720v720H120Zm60-500h600v-160H180v160Zm220 220h160v-160H400v160Zm0 220h160v-160H400v160ZM180-400h160v-160H180v160Zm440 0h160v-160H620v160ZM180-180h160v-160H180v160Zm440 0h160v-160H620v160Z\"/>\n",
              "  </svg>\n",
              "    </button>\n",
              "\n",
              "  <style>\n",
              "    .colab-df-container {\n",
              "      display:flex;\n",
              "      gap: 12px;\n",
              "    }\n",
              "\n",
              "    .colab-df-convert {\n",
              "      background-color: #E8F0FE;\n",
              "      border: none;\n",
              "      border-radius: 50%;\n",
              "      cursor: pointer;\n",
              "      display: none;\n",
              "      fill: #1967D2;\n",
              "      height: 32px;\n",
              "      padding: 0 0 0 0;\n",
              "      width: 32px;\n",
              "    }\n",
              "\n",
              "    .colab-df-convert:hover {\n",
              "      background-color: #E2EBFA;\n",
              "      box-shadow: 0px 1px 2px rgba(60, 64, 67, 0.3), 0px 1px 3px 1px rgba(60, 64, 67, 0.15);\n",
              "      fill: #174EA6;\n",
              "    }\n",
              "\n",
              "    .colab-df-buttons div {\n",
              "      margin-bottom: 4px;\n",
              "    }\n",
              "\n",
              "    [theme=dark] .colab-df-convert {\n",
              "      background-color: #3B4455;\n",
              "      fill: #D2E3FC;\n",
              "    }\n",
              "\n",
              "    [theme=dark] .colab-df-convert:hover {\n",
              "      background-color: #434B5C;\n",
              "      box-shadow: 0px 1px 3px 1px rgba(0, 0, 0, 0.15);\n",
              "      filter: drop-shadow(0px 1px 2px rgba(0, 0, 0, 0.3));\n",
              "      fill: #FFFFFF;\n",
              "    }\n",
              "  </style>\n",
              "\n",
              "    <script>\n",
              "      const buttonEl =\n",
              "        document.querySelector('#df-62aa7576-f60e-49d6-b62a-52bafc867649 button.colab-df-convert');\n",
              "      buttonEl.style.display =\n",
              "        google.colab.kernel.accessAllowed ? 'block' : 'none';\n",
              "\n",
              "      async function convertToInteractive(key) {\n",
              "        const element = document.querySelector('#df-62aa7576-f60e-49d6-b62a-52bafc867649');\n",
              "        const dataTable =\n",
              "          await google.colab.kernel.invokeFunction('convertToInteractive',\n",
              "                                                    [key], {});\n",
              "        if (!dataTable) return;\n",
              "\n",
              "        const docLinkHtml = 'Like what you see? Visit the ' +\n",
              "          '<a target=\"_blank\" href=https://colab.research.google.com/notebooks/data_table.ipynb>data table notebook</a>'\n",
              "          + ' to learn more about interactive tables.';\n",
              "        element.innerHTML = '';\n",
              "        dataTable['output_type'] = 'display_data';\n",
              "        await google.colab.output.renderOutput(dataTable, element);\n",
              "        const docLink = document.createElement('div');\n",
              "        docLink.innerHTML = docLinkHtml;\n",
              "        element.appendChild(docLink);\n",
              "      }\n",
              "    </script>\n",
              "  </div>\n",
              "\n",
              "\n",
              "    </div>\n",
              "  </div>\n"
            ],
            "application/vnd.google.colaboratory.intrinsic+json": {
              "type": "dataframe"
            }
          },
          "metadata": {},
          "execution_count": 71
        }
      ],
      "source": [
        "df.duration.value_counts().to_frame().T"
      ]
    },
    {
      "cell_type": "markdown",
      "metadata": {
        "id": "jQFm_gFTziwX"
      },
      "source": [
        "![image.png](data:image/png;base64,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)"
      ]
    },
    {
      "cell_type": "markdown",
      "metadata": {
        "id": "m-6cUos0zisw"
      },
      "source": [
        "![image.png](data:image/png;base64,iVBORw0KGgoAAAANSUhEUgAAAcUAAABlCAYAAAA8qvjeAAAAAXNSR0IArs4c6QAAAARnQU1BAACxjwv8YQUAAAAJcEhZcwAADsMAAA7DAcdvqGQAACUDSURBVHhe7Z0LXFXF9sdXebuUFT0pK8wUTAPUFB9BmpDPTCVD0HzgA1HB9yNTe+ATyBQ1FU3EB0IpaKaSmWVgKVoqZAqpgFpQWtybSUXyT9v/+c2ZDfsczgEOoN3uXd/P53w4e87sPa81s2atmdncoAmIYRiGYRi6Uf1lGIZhmP95WCkyDMMwjIKVIsMwDMMoWCkyDMMwjIKVIsMwDMMoWCkyDMMwjIKVIsMwDMMoWCkyDMMwjIKVIsMwDMMoWCkyDMMwjIKVIsMwDMMoWCkyDMMwjIKVIsMwDMMoWCkyDMMwjIKVIsMwDMMoWCkyDMMwjIKVIsMwDMMoWCkyDMMwjKLaSvHzz7+gho0aU1LyFhVSnosXL1Kf5/vSxImT6ffff1ehzN+JqrTztSQ3N4/ad/D5y9L/T+H1BW/IekB9MIwlkA/005Wr3iJN01SoOXpfQtzq8u23+bRly7vqygTS++KLw9S7dx+Zh85dulFa2r5y/bYmMnz58mVau3Y9PdOjl0yj6WMeFDRkGB1IT7dZ3urCliLDMMx/CW+9FUtffnlMXdUuMHImTJxEeWfMldp3331P4bPm0I11bqSYmOUUFTmf7r//fvVrzSkuLqaXX3mNIqNeJw8PN4qLi6XXX4+kX375hYYODaYtW9+tVcXISpGpkHbt2tLZMzkUGNBXhTB/BS9Ne5H2f5ZGrq4uKoRhynPp0iVa9dZqqTCuF//6178oPz+f+vcLpGe6d6PWrVvTTTfdpH4to7oyvHfvJ/Tuu9toxvSX6PWoSHra14f8eveixIR4euaZ7rRoUTSdOnVKxa45rBQZhmH+C7jnnnvoSW9v2rPnI9r1we5adyvaoqSkhH777TdhKdZRIbXHn3/+SefOfUNubo9Rp85P0403lqmsunXr0nPP+dEPP/xIZ8+eU6E15y9Rimisw4ePUHBwiPQNN370MRowcDB99tl+WQkALgCPZo+XW0vCGhfiz5o9l65evapCScxUCqhL1+60ImalCimP7lOHH3rnzpRSH/jTnbrKmcgff/xBR44ckXlBGt5PPkUJiW+bpQMwM4pevET6znE/PvB1w+cN37cO8or0srO/ln54pKOnh+v/+7//k/F++ukn8u8bSCNHhUrhsgRlwj3ffPutCrFOcfHvFLd2XWk6bdt5y3xevPizimFCXyeE33/VqtUynt4Glj56a2uKluk83rI1jR03QZbTkgsXLtDsOXNlGnrZcS+eYQnuDwsbK2UCdY82uXLlD/WrOVUtK+p4h6Gt7V2LgDxCLocMHS7Laau8WDPH2nnU6wvo/fd3yfwj3ttvb5Lyg7ROnMgqLZ+t+raF5XqMLssHDx6S7aiXD/WAdSVr9WuNqsqyLeyp36q2mV5X48ZPLJUbW8+1rNeK8o92+Oijj2VfQ/0jPu7D/cZnVrXfVkZRUREtXxFDT3X0NSsv6twI2haygzFs7rz5Um6QP5T3q6++KlePtrj55ptp9OiR1NrTk5YtW0E5OTnql4rRZVwf9/R6Mco36qSVZ1s5LmPMQHkS335H5rv/CwNlnJdemiHDba3/G2UYluyo0WGyrJmZX6oYpvZM3rJV5mPDhni64YYbaNy4MfR+yg5q8PDDKlZ5HETZa4vrrhRRaPiA0QB/XLlCC994nZYvW0q3iEINF0oyLm6tFN6HH65PTZo8KisMykoHDXVF3JclBPmXX35VoUQ5ublyRgGBqIx16zbQ4iVvUv/+/aQP/N5776GXps+kOXPm0YyZr1CPHs/IPMHMny2U74cf7lF3mpQvBsh3332P+vULpISNG2jZm0vIyeleKdDr1m8wE2J0zIiIKCFAb9OECeNo1coV1PCRBvTitJfkAIG4d911F/n6+lBGRqYsg5Gff75E6QcOUpvWnvRAvXoqtDw//lhIo0PD6I03FlHXrp1pw/q1NGTIYNq0KYlCw8bI3y2ZHxFJmzYn0cQJ4+lNUQbUK3z027a9p2KUB4N/+KxZcu3C37+PLP+0F6fKgWV48Aj5V+e06JQDBgZRauo+GjUqROYJeUMeJ06aTP/+979VTFOng0xA8WO94NVXX5Z5Qzr6REmnqmWFHKEDT5s2XSgpLxnPuBaRKpRJRaBt1qxZK+XyjjvuoNejIkrTwsaCSZOmlJuopKTsEgPhSnpx6mSaMX0aPf54Czm7RZ32DehH58UkAXnQZb6mayKQoTlz50tZxlpLx44dKDp6iWjbiEoHb3tl2RJ76tce+dwt+hvqCvLxmpAD5OvFF6fITR5jxow3WzNDOwwaPERaK0uXRMs6wLoT1p8WvLFQ5hHg75vLllPYmHH0cP36sv6RV7QH7k9Jed/uflsRKA8mufHxCdSnz3Nm5R0RMorOnDmrYprIzcuT9QNFGh29kGbPCpflDRoy3K41wnpijIAS+fnnnyl2TVylGxxRL8uXx0gZhzwa60WftIHGjV3lWNmwYUPq1aunbBNYpcHBw+iVV2bKOCEhI2S41xNPyOuKuP3222nc2DFCkTuYuXuhyJcuXSbdogEBfaVStAXqePXqWHJ3d6PHmjZRobWAaNxqcejQ59ojDV2r9JkwYZJWXFws7/v666+1dk94a5OnvKgJq0iGASHUWvisOVqLxz01oRw0MUDL6+f9AzTROWQcPAPPcvdooXm2bqeJAViGi0FTW7BgoVlca+Tk5GpPtu+ode36jHbmzBkVqsnn4HnI1/HjJ1Sopp0/f0Hr8WwvbfqMlzUxwMiwrVvf1To85aMdOXpUXutcunRJE4Kl9e3bTxMzXxmm11G//gM0YeLLMIDfBwwYrInOKO8DeB7KJWa48lpHD9+16wMVUh6UP2blKhlv375PVaiJU6dOyTLPmxch6xTo+fJ9uot26vRpGQZEh9RER9Z69e6jXbjwgwzT425OSpbXiO/l3UF7551N8loH9SasDS0h4W15jbYdPTqsXBrI6549H2mujZvKPONaj4u609MFCBfWgln69pRVzMhlWeZHRMn7dL7//nvN3z9QEwO0JiZcKrQ8hYWF2vDhIzQxYZLyaQRlQL6ENSuvjbJpKRvnvvlGyhzKYpR55BFyC7lDv6gIYYHKskGGgS7LlvWLfAolJdtCDKoq1Dr2yLI1qlq/9rTZb78VazNffkUbHDS0XNrHjh2T/XThomh5jecibeQBedHBc+bMnSefgbwAYU1LmROWWmk/AEJ5aCEjR8v2QTsBe/qtNfB8lAdj2f4DB1SoCZQB7Y0y6jKFtkV6lnnT+76wNlWIbYzygWfMnjNXlvf993epGGUyg7g6GGuRT8ihMW297xnHgp9++kl7ro+/2f3AcowAelrGMEsZRvutX7+h9F49TUuZtgbaFe1rrY5rSo0txU6dnqbx48da/WDmcP/996mYJvZ+kioskqs0fNhQ6RPW+ec//0kBff3pH//4B32Smkp16tShdm3b0KlTp+WMCVy6VCQtwtGjRgrr6k46ffq0DMcs46vjx6lZs2ZyRl8ZXt5ewhItM8UffPABql/fmdq0aUONGjVSoUSOjo7y+vfiYmlFgeef70Of7kslz1at5LUO4j76aGO6cvWKmGiYWzbdunal++5zUlck8uhI7h7u9Ouvv5bOZBu7ulLLlo/TwUOHSl2oon2kewx5aGWRnhHsCvv4473UWbRFmzatVagJFxcX6ty5E6UfPEiFheZum8GDBtKjjRurK9PsDRbDcVGXGRkZKtQ6sAKNLjoPUZ6P9uymgQNfkNenT+fQZ/sPlEsDMz9vUf+wjD/ZmyrbFOsBh48clRa6UV70NQMj1SlrvrDmjFbpAw88QFu2bKapwpqDvNni3nvvlZYHdtNBPo1gxvzQQw9Jb4cRtNUjDRqoKxOwgs+cPUsDB7xgJvOQcZQZ/eHgwc9VqH089VQHcjHILPIJOfr998vSeqqI6siyNSqrX3varG7dW2j+vLkUv2Ed3XmneV+uLyw89FO9L+pg+eHsuXOl1hvq9dVXXpbPQF7gaYL1iTK90L+//F0H4wWsbMhzxlFzma9Kv7XG99+fp7R9+6TsPtGunQo14e7uTt27d6cD+9Ppu+++U6Gm9cCuXbqY5Q1yBHlCevaAZwwZEkSNhIzC6rK17IL6Qrvcdttt0po1pq33PYwFWdnZKrR2wVgAGezatQvFrVlLixcvpQ8+2E2hoaPkeGgLWIiTJk+lkydPScvW28tL/VI71FgpokCTJk6w+gkdPVIKpQ46KdwGDz74oDDzy2/Z1ZVTvlCCMPsbi8H0zjuF8lO+8YKCfPrt19/oySe95aB07KvjUjjhBvr665NSiRob1ha33HKz1XjIK37TgeVex7CwawT5Q74+SU2T7gf4/+GWtYZlWSEMdercKIX9V1EegIHoaV9fMxcqFMbB9EOyXHDx2uKnny7KxWYxV5f3HziQXvoRszjpCsLvxoELYPHaEriWMNhnf11+fRDUd3YW9e8ly9rKs410EUGQhVWlYpg4K5QAlPujTcoUos6tt94qBsNG0kWD9ZVv1aBqLa6eHx17ygrZwUCMAVFYt9IdtHlzkhyM9AG0KogZrcwnlBvWO159NVy6io2Dmg7aGms7RlAXGHwxOBnziw8meVBk+K2igdYWcHVayjI2PMB9VtXB1B5ZNlLV+q2OfOJ+LB1g+QSuTbhz4Yo3uhLRjzo97SvLGRDQnzp17iaVANbhjHUprE/KzcmVCgb9zBJdxvRxRqcq/dYaP/xwQfbhpk0eLdc2uEa/Q3sbXcaY5FvmDW53pId6MC4hVQWsv8Hti8kY1uasyRbqHW0F+YMcGtsFH/x2yy230DcWSzq1ie5GvVR0idbErRWKuDf1fLaHrGtroByxsWukQly8eCG1b/+kzbjVxfY0+RqAweWqmOWhoY27iGzxwAP1pAChY/SRs5Ysqv9wfTmgYr0RHQQDL2YyECg3dzd1Z8VAoVoD+aqsgiFIWFPAQrY+E4cixywPg6GlcgB33323+maO5Wzey6sdvbV6tVwngZ8c24wzv/xSWt0VKXsMJhBgfLCByBbGQRITgLvuvktdlcdyNq6DTjJ3zmyhqNtRfPxGuXEBH4AJEtaAjBbUP+pULmK/qHxVJa49ZUWdjRkTKq1YdDhs7oLlDWCxYN2ymYeHvLbF8RMnaO7c+fJe4ODgQG3FJKV3r15yzdOSuqJ+jLINhXNeWA7INzYi2OJnYU1hDRD1aw9OTmWWjBH0i8osxerIspGq1q+98ol4WCfFLkoAa7N582bUpUuncmXCkaHkpE20dt16OTlbsvRN+UG9YK27Tx8/oWD/lFYvJrj2jJ9V7beWXL0q0hPyb89uTFhrt912q7oyR/dUWTvmUBHwxkDJJCVtIZ+OHaUxYgTtD+WMSRs21tjix8If1bdrQ8OGj5Cnpyft2vUBeQhL2nJSaQT7SDDuY82xbZs2KrR2qbGlaA9y5iMEHEIDBVkZsChatGhOWVnZciZ5IiuLmjdrJmcXLVu2pLy8M9K1CqXZvJkH3WdjgKgtMHvF5oOFC6OlmzD9wKdiBnpSuqBmzHipnNDZC1y6LR83uVDhEv7008/kdZMmFS8iQ7lBycFdhTOFtj4YQHTOnz9PF8UM3pI/xQCCtkEntQWEtm/f52nHjm2UmXFEuhihED/5JJXmzYsgHLa9SbklMRhVxu0qrarEtbesGLifFtbE24kb6diXR2nTO4nULzBAWBPH6eWXX5NyZQsMGFOnTBNW4r/lRokTx7+kk1+fkG45dMqqgLq67/775aYtyIm1vOKzZEm03QqxJtSWLFelfu1pM1hF2OwGqxx1Avk6fSqbtm5JogEvvGDmydHBJpDIiHl09MjntOfDD2jatKlSkc6Y+TLt339AKMIb5YTrqpBrgwF7zcDkGun/WQ3LvzaBPIWMCJYWfczKVaItflC/mHBwuJmcnZ2ltYW2s9Ym+OB84bUCcpjy/i45AYK1HLtmbYW7ZvUJDlzr9k4Sqsp1VYqYZTdq1JDOnDkjXZ6WwBePcFiD+gCB3aRwr8ElcvLkSTkrhTUHlweULMx8/NaiRYtrPqhAUaWnH5Rrl2Gho2VH1y04zLq+//57+b26wI+PNSa4mI4d+0rOiLCrz3JtxRLH2x2lQOWczpGWiRG4G+bMnScGvqDStVkdDPqWFBR8JxXmY4+Vd60CzOZw9EV3YyFvOEy7ZPEielbk/YLoeJhFwxrHpMbo7tKBFYMJDXbTYt0OkwGsqViLCyvD2JntKSueh6MGsCAA6hcDb2TkfAoePkyuRem73qyRLSZjcKmNDAmWa3coj84PP5Z3R1sDsopywp1mTT4w4UMeYbFdT2pDlqtav/a02blz56T8BwrF2rtXTylfuvfGJAtlkxgoUFg4r7z6mnQvIv9QkKGjR9Hi6IUyDtrp1lvrkqsIx/hhrc2+zc+X1qlx7bsm3H9/PXrkkQZyecfS7YnyYgc93JvG9cprBZagsBsVk4yVK9+Sbavj4PBP2e+wpm905erAnY7jJMbd97UNFCA8FbBo4zesl65c7N7GxNoa2Km/7d0t11RRX1elCLAGADfBxoREs4LDdYT1GjSaj09HFUrUoEEDeuihB+W5I6wnopEBBApmN9yNeM0QNhdca9DpoHiRV+N2d8x2UoUA4YPwkpKqnWOyRnNhGcMV/N72HXLNDW6PysC6EmbrH+/9RAo/8qMD9yu23Ds7P1RujQTnAI2dAW/D2LRps3QPNhOTD2tgUoOBDi5TdHAddH64QWFhop6wqaGDmIFu3brNbK0GecNgjLrq6POU3LyAZ7Z/0rtcXMgHzjwZXbn2lBUDfd26t9IHuz80kzVYwigDrA5M1Gyhn336TdxrTAcDa8LGRPkdMlkZHTq0l6+9wplXowsbCgJhFy78II9uXE9qQ5arWr/2tBlm/7CuL4u6MXqTMC7gXBzqHu5LyN7tt98mXfVpaZ9KF6ARHG2A3MALgWd279ZVTky2bN1qJre6zGMS18rT9mY2e8DeCPRbTBa+OHxYhZrIysqi3bt3y8mDca38WoEJRY9nuktPDo5XGCcFkAG4pLH+jLHAKAcXL/5M69atFxbvTdT0saYq1AQ8fcY2rC6QGShAAIsWS0Y4ugUX+06LIzLXk+uuFOEKnDJlMu3YsZNGh46Ri+iYiYSK74ligBgZMoIeF1afzj333E3NmzenoxkZ0oLUZ1dwocKaQeM1a+YhB9ZrDSwF7JTDWh/ONSLf+EyePFWe+cMGIGyOMQ589vKgGGjQYbZufZeaCMUCxV8ZEO7BgwZJKxp1ikOycL3i0H9Y2Di5NhI8Yni5HZQ4UzhqdChtF22Bz9BhwXI9E2uYttaqMCnBDtXVsWto+oyZcjaJOsCZPaT5Qv9+UqnDapg0eaK8Z+TIUGkJ4XfkDYeyvbyeoMCAANlpMTiHjQktjYsD73jmuHET5MBi3CFqT1khK4MHD5TPwLPwTOQX+X5HDITY+YbB2BaYGGCCgJks3E/wSqAc/n37yQEEg1pV1luwBo5ND7uF8hgcNFTWNfIydux4OSDjrJdR5q8HtSHLVa1fe9pMnyDh/qioBTIeNu+8MGCQsLCy5cCpr7/iuQGBfeV9I0eFSblBG+G5eFcmJiNeamdiezFBCwsbTTExq2jq1Gkyr7rMI42xQv7gfaoNkC/svG/atInoF1Np8ZKlpeUdETKa7nC8g0YIJWDZH68VGCuxY9/aznzsjoX84YUPGIP1esFGMmyCwk5QvV6QX4wL2LGKcduat6+qQOFB8UEBhoi2x7hiVOC2Xj6gv7TiWv6TieuuFFHwvv7P0/r1cfJ66osv0QRRQGzMWBsXKwaKMClUOpjl6VYglCAaGOA5LdXsWl9nvB74i46+aOEC6WZEB3/1tVlSWe/c8R4FBQ2Wrj64YqoLytulS2f53VfMrqFcqgIGqLVxa+Qh5z17PpaHsmNj4+SRmY3x66y6hrCdGdvO58+PlJtA4ObD2hAO5doCbTMmLJQiI+YLpZot30qE9oNFALeGca0NaSJtHMHAIXzkad++z2QeV62MKZ3gAD3uE2JCAHcannmrmOUvX/5muZcLV7WskBG0V+zqVfSzsAjwFppRo0KlZwGyNmpkiIxjCwwA0YvekK5TdFIMoHgP49w5s8TgukxuAjt39pyZlWQNXeZRP6hj1DVkB0cQ3ly6mMaPq3gj1bWiprJsT/1Wtc0wQQoPf02kP0h6jhAvMfEdGjZsqJDNBPlezTOizouKTG5v3Ld+XRy1aN5MHtbHQXx4HGBxQMb0pQfUL+oZ7Ql3KfIaHj5bTmy2JG+WRxIqkgV7QXlXxqyg/v0D5YsbUA4od1wnJsZLN+/1BBuVcAzOEtTLhPHj5Dr578IaR71g0oB2wBgNudXrBRMpLCVAOY6fMImSkpNleHXQ3aaYuPj5+ZWmoStwTMYqcqNeS24QGvuvsVEZm2Dm/cbCaFq3bk2FrzaqLnBh4dVM2BQBq5RhGIYxcd0tRaZiMDPCGg3WXp2vw5oDwzAMUwYrxf8QcKwEaw9wY2H9AbtQ/wqXGsMwzP8yrBT/g9iwYaNcSJ4/b851343IMAzD8JoiwzAMw5TCliLDMAzDKFgpMgzDMIyClSLDMAzDKFgpMgzDMIyClSLDMAzDKFgpMgzDMIyClSLDMAzDKFgpMgzDMIyClSLDMAzDKFgpMgzDMIyClSLDMAzDKFgpMgzDMIyClSLDMAzDKFgpMgzDMIyClSLDMAzDKFgpMgzDMIyClSLDMAzDKFgpMgzDMIyClSLDMAzDKFgpMgzDMIyClSLDMAzDKFgpMgzDMIyClSLDMAzDKFgpMgzDMIyClSLDMAzDKFgpMgzDMIyClSLDMAzDKFgpMgzDMIyClSLDMAzDKFgpMgzDMIyClSLDMAzDKFgpMgzDMIyClSLDMAzDKFgpMgzDMIyClSLDMAzDKFgpMgzDMIyClSLDMAzDKG7QBOp7Ncim5U/50aICdWmVYNp6Zjq1UlcMwzAM859KzSzFogLKrVAhMgzDMMzfh5pZipmLqal/DJX4RNAXawPISQUzDMMwzN+RGlmKheeyqQRfHnVlhcgwDMP87amRUsw/d1D+9W3iLP8yDMMwzN+ZGijFQso5DjvRgdwfqUU78UImbY4aQz29Pahho8bi40Fte46hiC2ZVHhVxbFC4f44mhjUnVrIexpTU28/Co1KpowLKoI1ivIoNXE2hfqV3dewkSd18RPp7cymImvpXS2i3L3maTX07E4Dp8RRal6RimSFcuUS6QRNpti9eVbSKaTNwxEnhDaL/Bdl76SIUD9q62FKr0WXIJq4+qDN+ig8kmwWv6GHN/UMjaLNRwpVDIZhGMYaNVhTzKSIRoEUSz605NMIctoVSYve2kkZF4WarNeSug8No7H9fcjVUUWvCgXJNLz7TEotFt/vciF3ZwehhAopN7vQ5KZ1Caat26dTq7q4UFwtoO0T/GjiLpNCcnRxo/ri95KCbMoVeaG6bjR2fRJNaS2eZaDkyGLyHxpDWUirrhO5u5gUe+l9AodO0fRZbC+Da7iEMqL8yH91nvjuQE5uLnRfHeM9DuS7YDet7WtuOefvmknDxyZTLi70tIoLKEspUYfWk2jr+jByLy0XlKI3TU/zopBxt9PmZXuoyNp9nSLoo1UBVF/kQSd/Swh1mZYm60uvCyrMo6wLsgbJdWQSpUxvKXLKMAzDlANKsVrkJ2kDGrpqjzTspnXuLP66e2nP9u6tPfusl9ZEhotPqzDtvXwVv1J+1DYNw33u2rB3LG66lK7NRxrimc8nGH+7rB2N7GZKq/Ms7ZP8yypccOWylrNjhtYZv7mP0DYZb7uSpS3roNJan6VduqLCFT9+PMt0X0MfbVmWCgSHI01l6xypHbikwhTfvjPC9Jv7LO2AIRuXM6LVs1ppoxMs0jqfqr2mytVk/Ida2SP1usDHXXs+JsPsvksZK7Tn1W+vfWZI7HySNkzmQZT3nApTXEqPVPkI0DZY/MYwDMOYqL77ND+P0uUXYTW1j6UvjqVTyvbtlJKSTiePKsvs4h6aOCyKMmCNVUoB5aXhrxd187FYo3T0oikvDxIWqBuVZGULO0rxTTLNl1abD0WtCydfWJY6dRzItVcErQxvKayrNAqPO2iyNkH2QUoVlqijcxhNGeRGjgZLCzh1CqYRXvhWQBmnylyOhefyTM/o1I28LSzg+v2n08xmjuTqkkEii4pCem9ZjLQQXV/cSCsHWqRVz4dmr4sgX/G1ZGckxR83BZvRI5LWhbY0u8+xpcj3cHwroc2HSxMT2c2jVPxt25WebiBDSnH0mkQzB8K6LaHsLHajMgzDWKPaSrHwYhG5uzhKF+Pb4T7kZBzs72pJY9fHUgh0W14czd9WlcOMjuTcDH/TaE10AmV8U6rCJA4+4XQyXSjdiK6l7szCw/soA196BdAzNvb6uLbvTe7ib0nyIcoyBRE1gxt2Nx37NIzcLRSiCWdqLPMiMKzbOd6rEkmIpEV786jQLIsuFLT9KH0kJgYhQg9LCg/Rh1LR+9CIPm4yqBzOvWnwQHwpoKT9BgWn8O30hKiZ8jRu6iP/lhjzcJezLCulxdGixEzKN5uMOJDv3BP0Rcp2iupR5hBmGIZhyqi2UnTqEUEpHx2lk2ZrbgbqepHfCyYlkpGWWWbd2cSFngsLkAogd8ts8vf1kBtE/KdEUfzObIsB3kR+rtQ4RPujaYCfH/W09plgstSoOJtybG26KSmioosFlLX/IG1PXEzhod1p2Gr1mwGHDgE0001Yo8WZtDykO7V9DJtexlD46mRKzyukEsuNLwW5ypp2ocb15BcrOJBHC5OCyz9ZQJZbdVzr26HAXHrT2L6owTza/GogPeWBDUeBNHFeAm0/XlA+fwzDMIwZNTqSURn3Obmavly9bPpbCY7dIuizlGgK6eRk2ghSXEgZ2+IofIKfGOA9qG1IDKVb064X8yjreLb1j75Jx5KrhZS+ejL5ezamho95UgtPX+oZFEQTX42h+A9FInepeEbquFHI9lRKnN6LWqnfi/L2UHzUTBrYxZuatg2k8C3KxQqullhP2xa/XLIvfjkcqXtkKqUsDSbfeiZXcsmFTNq+djZN9POlpi28afgy27tWGYZh/tepkVIsKSqqdevD0a0XzYxNp5NfH6VPt0fT7OFCAckBvoQK9y6mgQMWU4aF5nAP301nz+RU8omlfrq1Jiy9iO7eNDAKu2UdybVZVwoaF0azl8bT1o9E2jlHaWUfFdeSOk7kPTKath7NoZPpuylxwXQK6uZicnFezKT4aX4Uuk1p7joO9u3yvP2Omu8KreNI7r2m09r0E3TySyjIcArp05KcsAtVTDJSFwfRgDcza6h8GYZh/jupplLMo3i/xtT0cc8yBWCF/FzT4X6H6rzxxsGR6jfrRUGvCAUkBvhjKdPlhhSsUaaqpTfHB0zrdFmHs8u5HSsia8NkisX+HJdgSvwS64AraPakSRTUy4tauQgrtU4h5Z8xxa0Ih3ou5N03mGav3E3HctJp5UC4i0soddchk7vY2ZW88VfUl03XrYh/4pjJDVy/qbPV9cPq4uDoLBTkIJq5KIm+OHaUUl4xuWlz49LK1lcZhmGYUqqpFF3Is7NpvTD1nQ8p15q1WJBMyxNgjzhTUGcbm0yMnE6ggX5+1NY/zurzHN18yEdufikptU5dvXqTdNDu2kjvQclZoSRtNjXF4fXAGGVhFlJultr4Y2UXqaQgTW2QMVJEqbP9qGcXT5q+14qdJSxI304mpVPqLnZ6grrJoDRas638JhpJwQ7amIgvzhTYvgr1VAG5G4KoZ09v8l9rpTJgQXbsaNqIU8x2IsMwjDWq7T51D5hMvnDJZc6m0Hlp5utUF9IofJjpEL5Drxk01uLgvFUauJBrXjYVZi6ml1ZnlnvLS/6mKIrAkYW6g5RyFDwqrKCBeHYmhQeOofhsc3ux6HgChY5NoJLiQnJ4thu1ktlwIld3tYt074eUbmFiFh1PpunIu7ouw5FcXR3kwfnNUbNpe56FYik6SIvmJ8ivrTp5KcvYiZ4bFyYVd+4bgyk00eItOXo9ia8OnSZTP71c1aS+i4t80UFG9AxafsSiYFcLRL6jpIXoMEQpR4ZhGMaMGv2XDKtvhTG8ccWxRzhtXTCIXEvf1FIxJUeihEUnLEV5hbU+Z7nGVuHbaYrzKH5aIIWrN9rgLKMrNJLxLS59V9DayK5lb365sJOGd55senOOSMHyzTQObgEU0jKLlgsl5jAuiU5OUmcsoFhGdy+1FEvTMrx1x7FHNKUs7WX+lplqv9GGKCQph2a2VsEGCreEUNtpIsLIJDo7XT8DYnzjjkB/K5AIzz+eJ13MDm5h9HbSJPO3AjEMwzCSGv6TYcHFbNr+1gqK3bFPKSGhzNp3pMAhY6ifj0u5g/GVcuEgxa9IoKRDh8qUhlA+vr0HUcjQAGpl7WgD3kealkzLN+yg9AxhbepKukNvGhwcTP1am+w2M4pEvmNW0PLkPeoVbRb5zo6hp/wWU77zJEpJNZxnFGll7Yqj2OS0srSqUma9XHurUk/VVYomCvcnCIWeTOlflL1+zsmtIz03dIRp0429bcIwDPM/Qs2VIsMwDMP8l3BNzykyDMMwzN8JVooMwzAMo2ClyDAMwzAKVooMwzAMo2ClyDAMwzAKVooMwzAMIyH6f/v6MwE6pzQmAAAAAElFTkSuQmCC)"
      ]
    },
    {
      "cell_type": "markdown",
      "metadata": {
        "id": "gwwqP_5B0iGX"
      },
      "source": [
        "* #### 4.10.4 define *convert_seasons_to_min*"
      ]
    },
    {
      "cell_type": "code",
      "execution_count": null,
      "metadata": {
        "id": "-qr8GUhS1X-l"
      },
      "outputs": [],
      "source": [
        "def convert_seasons_to_min(value):\n",
        "  \"\"\"\n",
        "  This function will calculate no of total mins as per season no.\n",
        "  Here our assumptions are\n",
        "    1. on average 5 episodes are there in a season.\n",
        "    2. each episode avg time is 55 mins.\n",
        "  \"\"\"\n",
        "  no_of_avg_episode = 5\n",
        "  if \"Seasons\" in value:\n",
        "    #containing more than 1 seasons\n",
        "    value = value.replace(\"Seasons\",'')\n",
        "    value = value.replace(\" \",\"\")\n",
        "    total_seasons = int(value)\n",
        "    each_season_mins = ( no_of_avg_episode * 55 )\n",
        "    total_mins = (total_seasons * each_season_mins)\n",
        "    return total_mins\n",
        "\n",
        "  elif \"Season\" in value:\n",
        "    # containing only 1 season\n",
        "    value = value.replace(\"Season\",'')\n",
        "    value = value.replace(\" \",\"\")\n",
        "    total_mins = (no_of_avg_episode * 55)\n",
        "    return total_mins"
      ]
    },
    {
      "cell_type": "code",
      "execution_count": null,
      "metadata": {
        "colab": {
          "base_uri": "https://localhost:8080/"
        },
        "id": "KbbRzfMs3rEB",
        "outputId": "ac2c1465-4a43-4fb6-f691-30605aac39f1"
      },
      "outputs": [
        {
          "output_type": "execute_result",
          "data": {
            "text/plain": [
              "1100"
            ]
          },
          "metadata": {},
          "execution_count": 73
        }
      ],
      "source": [
        "#Checking the function\n",
        "convert_seasons_to_min(\"4 Seasons\")"
      ]
    },
    {
      "cell_type": "markdown",
      "metadata": {
        "id": "LXfuNCCR4C8v"
      },
      "source": [
        "**\"4 Seasons\"** : <br>\n",
        "4 Seasons = (4*5) or 20 episodes<br>\n",
        "Each episode avg. time is 55 mins.<br>\n",
        "Total time (in minutes. ) = (55*20) min<br> = 1100 mins\n",
        "                         "
      ]
    },
    {
      "cell_type": "markdown",
      "metadata": {
        "id": "dl2EuWeI0Z7Z"
      },
      "source": [
        "* #### 4.10.5 define *all_the_duration_in_minutes*"
      ]
    },
    {
      "cell_type": "code",
      "execution_count": null,
      "metadata": {
        "id": "d1BBVk8o0nFK"
      },
      "outputs": [],
      "source": [
        "def all_the_duration_in_minutes():\n",
        "  \"\"\"\n",
        "  This function will convert all the duration\n",
        "  whether it's in minutes or season format to minute\n",
        "  \"\"\"\n",
        "  # replaced all the min with null string\n",
        "  df['duration'] = df.duration.str.replace(\" min\" , \"\")\n",
        "  # this time_list will contain all the value\n",
        "  time_list =[]\n",
        "  for time in df.duration.values:\n",
        "    if \"Season\" in time:\n",
        "      #time is containing Season\n",
        "      # calling convert_seasons_to_min function to convert\n",
        "      # season to total min\n",
        "      time = convert_seasons_to_min(time)\n",
        "    else:\n",
        "      #replacing single space with \"\"\n",
        "      time = time.replace(\" \",\"\")\n",
        "    #appending time (it's not containing words like min or seasons)\n",
        "    time_list.append(time)\n",
        "\n",
        "  #converting all the time into integer format\n",
        "  time_list = [ int(Time) for Time in time_list]\n",
        "\n",
        "  #Assigning time_list to df.duration\n",
        "  df.duration = time_list"
      ]
    },
    {
      "cell_type": "code",
      "execution_count": null,
      "metadata": {
        "colab": {
          "base_uri": "https://localhost:8080/",
          "height": 127
        },
        "id": "EKg1SnIR0wpR",
        "outputId": "81a0bc05-ffde-45e7-d449-9a52fa02067d"
      },
      "outputs": [
        {
          "output_type": "execute_result",
          "data": {
            "text/plain": [
              "duration  1 Season  2 Seasons  3 Seasons  90 min  93 min  94 min  91 min  \\\n",
              "count         1608        378        183     136     131     125     125   \n",
              "\n",
              "duration  95 min  92 min  97 min  ...  193 min  13 min  214 min  8 min  \\\n",
              "count        119     118     117  ...        1       1        1      1   \n",
              "\n",
              "duration  13 Seasons  9 min  182 min  224 min  233 min  191 min  \n",
              "count              1      1        1        1        1        1  \n",
              "\n",
              "[1 rows x 216 columns]"
            ],
            "text/html": [
              "\n",
              "  <div id=\"df-d8bf4038-83b7-4cf9-a9fc-52c14dcae105\" class=\"colab-df-container\">\n",
              "    <div>\n",
              "<style scoped>\n",
              "    .dataframe tbody tr th:only-of-type {\n",
              "        vertical-align: middle;\n",
              "    }\n",
              "\n",
              "    .dataframe tbody tr th {\n",
              "        vertical-align: top;\n",
              "    }\n",
              "\n",
              "    .dataframe thead th {\n",
              "        text-align: right;\n",
              "    }\n",
              "</style>\n",
              "<table border=\"1\" class=\"dataframe\">\n",
              "  <thead>\n",
              "    <tr style=\"text-align: right;\">\n",
              "      <th>duration</th>\n",
              "      <th>1 Season</th>\n",
              "      <th>2 Seasons</th>\n",
              "      <th>3 Seasons</th>\n",
              "      <th>90 min</th>\n",
              "      <th>93 min</th>\n",
              "      <th>94 min</th>\n",
              "      <th>91 min</th>\n",
              "      <th>95 min</th>\n",
              "      <th>92 min</th>\n",
              "      <th>97 min</th>\n",
              "      <th>...</th>\n",
              "      <th>193 min</th>\n",
              "      <th>13 min</th>\n",
              "      <th>214 min</th>\n",
              "      <th>8 min</th>\n",
              "      <th>13 Seasons</th>\n",
              "      <th>9 min</th>\n",
              "      <th>182 min</th>\n",
              "      <th>224 min</th>\n",
              "      <th>233 min</th>\n",
              "      <th>191 min</th>\n",
              "    </tr>\n",
              "  </thead>\n",
              "  <tbody>\n",
              "    <tr>\n",
              "      <th>count</th>\n",
              "      <td>1608</td>\n",
              "      <td>378</td>\n",
              "      <td>183</td>\n",
              "      <td>136</td>\n",
              "      <td>131</td>\n",
              "      <td>125</td>\n",
              "      <td>125</td>\n",
              "      <td>119</td>\n",
              "      <td>118</td>\n",
              "      <td>117</td>\n",
              "      <td>...</td>\n",
              "      <td>1</td>\n",
              "      <td>1</td>\n",
              "      <td>1</td>\n",
              "      <td>1</td>\n",
              "      <td>1</td>\n",
              "      <td>1</td>\n",
              "      <td>1</td>\n",
              "      <td>1</td>\n",
              "      <td>1</td>\n",
              "      <td>1</td>\n",
              "    </tr>\n",
              "  </tbody>\n",
              "</table>\n",
              "<p>1 rows × 216 columns</p>\n",
              "</div>\n",
              "    <div class=\"colab-df-buttons\">\n",
              "\n",
              "  <div class=\"colab-df-container\">\n",
              "    <button class=\"colab-df-convert\" onclick=\"convertToInteractive('df-d8bf4038-83b7-4cf9-a9fc-52c14dcae105')\"\n",
              "            title=\"Convert this dataframe to an interactive table.\"\n",
              "            style=\"display:none;\">\n",
              "\n",
              "  <svg xmlns=\"http://www.w3.org/2000/svg\" height=\"24px\" viewBox=\"0 -960 960 960\">\n",
              "    <path d=\"M120-120v-720h720v720H120Zm60-500h600v-160H180v160Zm220 220h160v-160H400v160Zm0 220h160v-160H400v160ZM180-400h160v-160H180v160Zm440 0h160v-160H620v160ZM180-180h160v-160H180v160Zm440 0h160v-160H620v160Z\"/>\n",
              "  </svg>\n",
              "    </button>\n",
              "\n",
              "  <style>\n",
              "    .colab-df-container {\n",
              "      display:flex;\n",
              "      gap: 12px;\n",
              "    }\n",
              "\n",
              "    .colab-df-convert {\n",
              "      background-color: #E8F0FE;\n",
              "      border: none;\n",
              "      border-radius: 50%;\n",
              "      cursor: pointer;\n",
              "      display: none;\n",
              "      fill: #1967D2;\n",
              "      height: 32px;\n",
              "      padding: 0 0 0 0;\n",
              "      width: 32px;\n",
              "    }\n",
              "\n",
              "    .colab-df-convert:hover {\n",
              "      background-color: #E2EBFA;\n",
              "      box-shadow: 0px 1px 2px rgba(60, 64, 67, 0.3), 0px 1px 3px 1px rgba(60, 64, 67, 0.15);\n",
              "      fill: #174EA6;\n",
              "    }\n",
              "\n",
              "    .colab-df-buttons div {\n",
              "      margin-bottom: 4px;\n",
              "    }\n",
              "\n",
              "    [theme=dark] .colab-df-convert {\n",
              "      background-color: #3B4455;\n",
              "      fill: #D2E3FC;\n",
              "    }\n",
              "\n",
              "    [theme=dark] .colab-df-convert:hover {\n",
              "      background-color: #434B5C;\n",
              "      box-shadow: 0px 1px 3px 1px rgba(0, 0, 0, 0.15);\n",
              "      filter: drop-shadow(0px 1px 2px rgba(0, 0, 0, 0.3));\n",
              "      fill: #FFFFFF;\n",
              "    }\n",
              "  </style>\n",
              "\n",
              "    <script>\n",
              "      const buttonEl =\n",
              "        document.querySelector('#df-d8bf4038-83b7-4cf9-a9fc-52c14dcae105 button.colab-df-convert');\n",
              "      buttonEl.style.display =\n",
              "        google.colab.kernel.accessAllowed ? 'block' : 'none';\n",
              "\n",
              "      async function convertToInteractive(key) {\n",
              "        const element = document.querySelector('#df-d8bf4038-83b7-4cf9-a9fc-52c14dcae105');\n",
              "        const dataTable =\n",
              "          await google.colab.kernel.invokeFunction('convertToInteractive',\n",
              "                                                    [key], {});\n",
              "        if (!dataTable) return;\n",
              "\n",
              "        const docLinkHtml = 'Like what you see? Visit the ' +\n",
              "          '<a target=\"_blank\" href=https://colab.research.google.com/notebooks/data_table.ipynb>data table notebook</a>'\n",
              "          + ' to learn more about interactive tables.';\n",
              "        element.innerHTML = '';\n",
              "        dataTable['output_type'] = 'display_data';\n",
              "        await google.colab.output.renderOutput(dataTable, element);\n",
              "        const docLink = document.createElement('div');\n",
              "        docLink.innerHTML = docLinkHtml;\n",
              "        element.appendChild(docLink);\n",
              "      }\n",
              "    </script>\n",
              "  </div>\n",
              "\n",
              "\n",
              "    </div>\n",
              "  </div>\n"
            ],
            "application/vnd.google.colaboratory.intrinsic+json": {
              "type": "dataframe"
            }
          },
          "metadata": {},
          "execution_count": 75
        }
      ],
      "source": [
        "df.duration.value_counts().to_frame().T"
      ]
    },
    {
      "cell_type": "code",
      "execution_count": null,
      "metadata": {
        "id": "CavtSiQaYMYS"
      },
      "outputs": [],
      "source": [
        "all_the_duration_in_minutes()"
      ]
    },
    {
      "cell_type": "code",
      "execution_count": null,
      "metadata": {
        "colab": {
          "base_uri": "https://localhost:8080/",
          "height": 110
        },
        "id": "8J-rja1IYOV5",
        "outputId": "5d3dd406-1007-4242-b9b8-918a2dcfbb1f"
      },
      "outputs": [
        {
          "output_type": "execute_result",
          "data": {
            "text/plain": [
              "duration  275   550   825   90    93    94    91    95    92    97    ...  \\\n",
              "count     1608   378   183   136   131   125   125   119   118   117  ...   \n",
              "\n",
              "duration  193   13    214   8     3575  9     182   224   233   191   \n",
              "count        1     1     1     1     1     1     1     1     1     1  \n",
              "\n",
              "[1 rows x 216 columns]"
            ],
            "text/html": [
              "\n",
              "  <div id=\"df-034bf204-9b01-4566-a889-fed3405d33f5\" class=\"colab-df-container\">\n",
              "    <div>\n",
              "<style scoped>\n",
              "    .dataframe tbody tr th:only-of-type {\n",
              "        vertical-align: middle;\n",
              "    }\n",
              "\n",
              "    .dataframe tbody tr th {\n",
              "        vertical-align: top;\n",
              "    }\n",
              "\n",
              "    .dataframe thead th {\n",
              "        text-align: right;\n",
              "    }\n",
              "</style>\n",
              "<table border=\"1\" class=\"dataframe\">\n",
              "  <thead>\n",
              "    <tr style=\"text-align: right;\">\n",
              "      <th>duration</th>\n",
              "      <th>275</th>\n",
              "      <th>550</th>\n",
              "      <th>825</th>\n",
              "      <th>90</th>\n",
              "      <th>93</th>\n",
              "      <th>94</th>\n",
              "      <th>91</th>\n",
              "      <th>95</th>\n",
              "      <th>92</th>\n",
              "      <th>97</th>\n",
              "      <th>...</th>\n",
              "      <th>193</th>\n",
              "      <th>13</th>\n",
              "      <th>214</th>\n",
              "      <th>8</th>\n",
              "      <th>3575</th>\n",
              "      <th>9</th>\n",
              "      <th>182</th>\n",
              "      <th>224</th>\n",
              "      <th>233</th>\n",
              "      <th>191</th>\n",
              "    </tr>\n",
              "  </thead>\n",
              "  <tbody>\n",
              "    <tr>\n",
              "      <th>count</th>\n",
              "      <td>1608</td>\n",
              "      <td>378</td>\n",
              "      <td>183</td>\n",
              "      <td>136</td>\n",
              "      <td>131</td>\n",
              "      <td>125</td>\n",
              "      <td>125</td>\n",
              "      <td>119</td>\n",
              "      <td>118</td>\n",
              "      <td>117</td>\n",
              "      <td>...</td>\n",
              "      <td>1</td>\n",
              "      <td>1</td>\n",
              "      <td>1</td>\n",
              "      <td>1</td>\n",
              "      <td>1</td>\n",
              "      <td>1</td>\n",
              "      <td>1</td>\n",
              "      <td>1</td>\n",
              "      <td>1</td>\n",
              "      <td>1</td>\n",
              "    </tr>\n",
              "  </tbody>\n",
              "</table>\n",
              "<p>1 rows × 216 columns</p>\n",
              "</div>\n",
              "    <div class=\"colab-df-buttons\">\n",
              "\n",
              "  <div class=\"colab-df-container\">\n",
              "    <button class=\"colab-df-convert\" onclick=\"convertToInteractive('df-034bf204-9b01-4566-a889-fed3405d33f5')\"\n",
              "            title=\"Convert this dataframe to an interactive table.\"\n",
              "            style=\"display:none;\">\n",
              "\n",
              "  <svg xmlns=\"http://www.w3.org/2000/svg\" height=\"24px\" viewBox=\"0 -960 960 960\">\n",
              "    <path d=\"M120-120v-720h720v720H120Zm60-500h600v-160H180v160Zm220 220h160v-160H400v160Zm0 220h160v-160H400v160ZM180-400h160v-160H180v160Zm440 0h160v-160H620v160ZM180-180h160v-160H180v160Zm440 0h160v-160H620v160Z\"/>\n",
              "  </svg>\n",
              "    </button>\n",
              "\n",
              "  <style>\n",
              "    .colab-df-container {\n",
              "      display:flex;\n",
              "      gap: 12px;\n",
              "    }\n",
              "\n",
              "    .colab-df-convert {\n",
              "      background-color: #E8F0FE;\n",
              "      border: none;\n",
              "      border-radius: 50%;\n",
              "      cursor: pointer;\n",
              "      display: none;\n",
              "      fill: #1967D2;\n",
              "      height: 32px;\n",
              "      padding: 0 0 0 0;\n",
              "      width: 32px;\n",
              "    }\n",
              "\n",
              "    .colab-df-convert:hover {\n",
              "      background-color: #E2EBFA;\n",
              "      box-shadow: 0px 1px 2px rgba(60, 64, 67, 0.3), 0px 1px 3px 1px rgba(60, 64, 67, 0.15);\n",
              "      fill: #174EA6;\n",
              "    }\n",
              "\n",
              "    .colab-df-buttons div {\n",
              "      margin-bottom: 4px;\n",
              "    }\n",
              "\n",
              "    [theme=dark] .colab-df-convert {\n",
              "      background-color: #3B4455;\n",
              "      fill: #D2E3FC;\n",
              "    }\n",
              "\n",
              "    [theme=dark] .colab-df-convert:hover {\n",
              "      background-color: #434B5C;\n",
              "      box-shadow: 0px 1px 3px 1px rgba(0, 0, 0, 0.15);\n",
              "      filter: drop-shadow(0px 1px 2px rgba(0, 0, 0, 0.3));\n",
              "      fill: #FFFFFF;\n",
              "    }\n",
              "  </style>\n",
              "\n",
              "    <script>\n",
              "      const buttonEl =\n",
              "        document.querySelector('#df-034bf204-9b01-4566-a889-fed3405d33f5 button.colab-df-convert');\n",
              "      buttonEl.style.display =\n",
              "        google.colab.kernel.accessAllowed ? 'block' : 'none';\n",
              "\n",
              "      async function convertToInteractive(key) {\n",
              "        const element = document.querySelector('#df-034bf204-9b01-4566-a889-fed3405d33f5');\n",
              "        const dataTable =\n",
              "          await google.colab.kernel.invokeFunction('convertToInteractive',\n",
              "                                                    [key], {});\n",
              "        if (!dataTable) return;\n",
              "\n",
              "        const docLinkHtml = 'Like what you see? Visit the ' +\n",
              "          '<a target=\"_blank\" href=https://colab.research.google.com/notebooks/data_table.ipynb>data table notebook</a>'\n",
              "          + ' to learn more about interactive tables.';\n",
              "        element.innerHTML = '';\n",
              "        dataTable['output_type'] = 'display_data';\n",
              "        await google.colab.output.renderOutput(dataTable, element);\n",
              "        const docLink = document.createElement('div');\n",
              "        docLink.innerHTML = docLinkHtml;\n",
              "        element.appendChild(docLink);\n",
              "      }\n",
              "    </script>\n",
              "  </div>\n",
              "\n",
              "\n",
              "    </div>\n",
              "  </div>\n"
            ],
            "application/vnd.google.colaboratory.intrinsic+json": {
              "type": "dataframe"
            }
          },
          "metadata": {},
          "execution_count": 77
        }
      ],
      "source": [
        "df.duration.value_counts().to_frame().T"
      ]
    },
    {
      "cell_type": "markdown",
      "metadata": {
        "id": "RqQqc3Hc6Qek"
      },
      "source": [
        "* #### 4.10.6 Analysis on the duration of the movies"
      ]
    },
    {
      "cell_type": "code",
      "execution_count": null,
      "metadata": {
        "colab": {
          "base_uri": "https://localhost:8080/",
          "height": 490
        },
        "id": "S43jBkqr6RVW",
        "outputId": "325ae030-4b1e-41fc-bb78-5bf1680352d2"
      },
      "outputs": [
        {
          "output_type": "execute_result",
          "data": {
            "text/plain": [
              "<Axes: xlabel='duration', ylabel='Density'>"
            ]
          },
          "metadata": {},
          "execution_count": 78
        },
        {
          "output_type": "display_data",
          "data": {
            "text/plain": [
              "<Figure size 800x500 with 1 Axes>"
            ],
            "image/png": "[encoded data removed]"
          },
          "metadata": {}
        }
      ],
      "source": [
        "sns.set(style=\"darkgrid\")\n",
        "plt.figure(figsize = (8,5))\n",
        "sns.kdeplot(data = df.duration[df['type'] == 'Movie'] , shade=True)"
      ]
    },
    {
      "cell_type": "markdown",
      "metadata": {
        "id": "mZDIndatcOa4"
      },
      "source": [
        "1. Why did you pick the specific chart?"
      ]
    },
    {
      "cell_type": "markdown",
      "metadata": {
        "id": "zdJGBGqjcR2z"
      },
      "source": [
        "Kernel density estimation involves smoothing the data to create a continuous curve that approximates the underlying distribution. This can help reduce the impact of noise and provide a clearer visualization of the overall shape of the distribution."
      ]
    },
    {
      "cell_type": "markdown",
      "metadata": {
        "id": "O-mGXxahcSg4"
      },
      "source": [
        "2. What is/are the insight(s) found from the chart?"
      ]
    },
    {
      "cell_type": "markdown",
      "metadata": {
        "id": "arIEZNaBo4he"
      },
      "source": [
        "Most content are about 70 to 120 min duration for movies"
      ]
    },
    {
      "cell_type": "markdown",
      "metadata": {
        "id": "55UJgPPc7bwy"
      },
      "source": [
        "* #### 4.10.7 Analysis on the duration of the TV-Shows"
      ]
    },
    {
      "cell_type": "code",
      "execution_count": null,
      "metadata": {
        "colab": {
          "base_uri": "https://localhost:8080/"
        },
        "id": "5d2fWA_d7fkP",
        "outputId": "dffff0ea-8e6a-4204-ec00-488aabfca8d0"
      },
      "outputs": [
        {
          "output_type": "execute_result",
          "data": {
            "text/plain": [
              "type\n",
              "Movie      5377\n",
              "TV Show    2400\n",
              "Name: count, dtype: int64"
            ]
          },
          "metadata": {},
          "execution_count": 79
        }
      ],
      "source": [
        "df['type'].value_counts()"
      ]
    },
    {
      "cell_type": "code",
      "execution_count": null,
      "metadata": {
        "colab": {
          "base_uri": "https://localhost:8080/",
          "height": 490
        },
        "id": "hMJ1WtO37fgY",
        "outputId": "bfa32259-ad32-463a-df00-3d819219b43f"
      },
      "outputs": [
        {
          "output_type": "execute_result",
          "data": {
            "text/plain": [
              "<Axes: xlabel='duration', ylabel='Density'>"
            ]
          },
          "metadata": {},
          "execution_count": 80
        },
        {
          "output_type": "display_data",
          "data": {
            "text/plain": [
              "<Figure size 1200x500 with 1 Axes>"
            ],
            "image/png": "[encoded data removed]"
          },
          "metadata": {}
        }
      ],
      "source": [
        "sns.set(style=\"darkgrid\")\n",
        "plt.figure(figsize = (12,5))\n",
        "sns.kdeplot(data = df.duration[df['type'] == 'TV Show'] , shade=True)"
      ]
    },
    {
      "cell_type": "markdown",
      "metadata": {
        "id": "mCqI8W_bqfXg"
      },
      "source": [
        "1. Why did you pick the specific chart?"
      ]
    },
    {
      "cell_type": "markdown",
      "metadata": {
        "id": "mV67YKYwrorf"
      },
      "source": [
        "Kernel density estimation involves smoothing the data to create a continuous curve that approximates the underlying distribution. This can help reduce the impact of noise and provide a clearer visualization of the overall shape of the distribution."
      ]
    },
    {
      "cell_type": "markdown",
      "metadata": {
        "id": "E96S7f5F1lLQ"
      },
      "source": [
        "2. What is/are the insight(s) found from the chart?"
      ]
    },
    {
      "cell_type": "markdown",
      "metadata": {
        "id": "1WJtxBHj1Tlb"
      },
      "source": [
        "Most content are about 300 to 820 min duration for TV shows. Most of the contents got ratings like\n",
        "* TV-MA (For Mature Audiences)\n",
        "* TV-14 ( May be unsuitable for children under 14 )\n",
        "* TV-PG ( Parental Guidance Suggested  )\n",
        "* NR ( Not Rated )"
      ]
    },
    {
      "cell_type": "markdown",
      "metadata": {
        "id": "-b5sKZZUGVW6"
      },
      "source": [
        "### 4.11 **listed_in**"
      ]
    },
    {
      "cell_type": "markdown",
      "metadata": {
        "id": "m15D_RCFGk_6"
      },
      "source": [
        "* #### 4.11.1 How many unique values present in listed_in ??"
      ]
    },
    {
      "cell_type": "code",
      "execution_count": null,
      "metadata": {
        "colab": {
          "base_uri": "https://localhost:8080/"
        },
        "id": "MldEtY_pGZyE",
        "outputId": "9d1928bf-16f4-4854-ea9f-d559e3d65861"
      },
      "outputs": [
        {
          "output_type": "execute_result",
          "data": {
            "text/plain": [
              "491"
            ]
          },
          "metadata": {},
          "execution_count": 81
        }
      ],
      "source": [
        "df.listed_in.nunique()"
      ]
    },
    {
      "cell_type": "markdown",
      "metadata": {
        "id": "ZK8ekNscGgcT"
      },
      "source": [
        "There are all total 491 unique values present"
      ]
    },
    {
      "cell_type": "markdown",
      "metadata": {
        "id": "EeWbfwb-G0iY"
      },
      "source": [
        "* #### 4.11.2 How many NaN values present in *listed_in* ?"
      ]
    },
    {
      "cell_type": "code",
      "execution_count": null,
      "metadata": {
        "colab": {
          "base_uri": "https://localhost:8080/"
        },
        "id": "UTZMtKHiG1G9",
        "outputId": "b62297bb-881a-4e95-8463-a45583082007"
      },
      "outputs": [
        {
          "output_type": "execute_result",
          "data": {
            "text/plain": [
              "0"
            ]
          },
          "metadata": {},
          "execution_count": 82
        }
      ],
      "source": [
        "df.listed_in.isna().sum()"
      ]
    },
    {
      "cell_type": "markdown",
      "metadata": {
        "id": "EUIa2mRXHAuh"
      },
      "source": [
        "There is no NaN values present"
      ]
    },
    {
      "cell_type": "markdown",
      "metadata": {
        "id": "vM9_K803Gr6f"
      },
      "source": [
        "* #### 4.11.2 Value_counts()"
      ]
    },
    {
      "cell_type": "code",
      "execution_count": null,
      "metadata": {
        "colab": {
          "base_uri": "https://localhost:8080/",
          "height": 251
        },
        "id": "5VsIMBGuGxCc",
        "outputId": "8e54cb50-cc5b-4735-fe0e-0b1bda6104d4"
      },
      "outputs": [
        {
          "output_type": "execute_result",
          "data": {
            "text/plain": [
              "listed_in  Documentaries  Stand-Up Comedy  Dramas, International Movies  \\\n",
              "count                334              321                           320   \n",
              "\n",
              "listed_in  Comedies, Dramas, International Movies  \\\n",
              "count                                         243   \n",
              "\n",
              "listed_in  Dramas, Independent Movies, International Movies  Kids' TV  \\\n",
              "count                                                   215       204   \n",
              "\n",
              "listed_in  Children & Family Movies  Documentaries, International Movies  \\\n",
              "count                           177                                  172   \n",
              "\n",
              "listed_in  Children & Family Movies, Comedies  Comedies, International Movies  \\\n",
              "count                                     169                             161   \n",
              "\n",
              "listed_in  ...  TV Horror, TV Mysteries, Teen TV Shows  \\\n",
              "count      ...                                       1   \n",
              "\n",
              "listed_in  Action & Adventure, International Movies, Thrillers  \\\n",
              "count                                                      1     \n",
              "\n",
              "listed_in  Anime Series, TV Horror, TV Thrillers  \\\n",
              "count                                          1   \n",
              "\n",
              "listed_in  Action & Adventure, Faith & Spirituality, Sci-Fi & Fantasy  \\\n",
              "count                                                      1            \n",
              "\n",
              "listed_in  TV Dramas, TV Sci-Fi & Fantasy, Teen TV Shows  \\\n",
              "count                                                  1   \n",
              "\n",
              "listed_in  Anime Series, Crime TV Shows, TV Thrillers  \\\n",
              "count                                               1   \n",
              "\n",
              "listed_in  Crime TV Shows, Romantic TV Shows, Spanish-Language TV Shows  \\\n",
              "count                                                      1              \n",
              "\n",
              "listed_in  Crime TV Shows, International TV Shows, Reality TV  \\\n",
              "count                                                      1    \n",
              "\n",
              "listed_in  International Movies, Romantic Movies, Sci-Fi & Fantasy  \\\n",
              "count                                                      1         \n",
              "\n",
              "listed_in  International TV Shows, Spanish-Language TV Shows, Stand-Up Comedy & Talk Shows  \n",
              "count                                                      1                                \n",
              "\n",
              "[1 rows x 491 columns]"
            ],
            "text/html": [
              "\n",
              "  <div id=\"df-1e22df27-e1d8-4d57-ad42-7c98fe1e5726\" class=\"colab-df-container\">\n",
              "    <div>\n",
              "<style scoped>\n",
              "    .dataframe tbody tr th:only-of-type {\n",
              "        vertical-align: middle;\n",
              "    }\n",
              "\n",
              "    .dataframe tbody tr th {\n",
              "        vertical-align: top;\n",
              "    }\n",
              "\n",
              "    .dataframe thead th {\n",
              "        text-align: right;\n",
              "    }\n",
              "</style>\n",
              "<table border=\"1\" class=\"dataframe\">\n",
              "  <thead>\n",
              "    <tr style=\"text-align: right;\">\n",
              "      <th>listed_in</th>\n",
              "      <th>Documentaries</th>\n",
              "      <th>Stand-Up Comedy</th>\n",
              "      <th>Dramas, International Movies</th>\n",
              "      <th>Comedies, Dramas, International Movies</th>\n",
              "      <th>Dramas, Independent Movies, International Movies</th>\n",
              "      <th>Kids' TV</th>\n",
              "      <th>Children &amp; Family Movies</th>\n",
              "      <th>Documentaries, International Movies</th>\n",
              "      <th>Children &amp; Family Movies, Comedies</th>\n",
              "      <th>Comedies, International Movies</th>\n",
              "      <th>...</th>\n",
              "      <th>TV Horror, TV Mysteries, Teen TV Shows</th>\n",
              "      <th>Action &amp; Adventure, International Movies, Thrillers</th>\n",
              "      <th>Anime Series, TV Horror, TV Thrillers</th>\n",
              "      <th>Action &amp; Adventure, Faith &amp; Spirituality, Sci-Fi &amp; Fantasy</th>\n",
              "      <th>TV Dramas, TV Sci-Fi &amp; Fantasy, Teen TV Shows</th>\n",
              "      <th>Anime Series, Crime TV Shows, TV Thrillers</th>\n",
              "      <th>Crime TV Shows, Romantic TV Shows, Spanish-Language TV Shows</th>\n",
              "      <th>Crime TV Shows, International TV Shows, Reality TV</th>\n",
              "      <th>International Movies, Romantic Movies, Sci-Fi &amp; Fantasy</th>\n",
              "      <th>International TV Shows, Spanish-Language TV Shows, Stand-Up Comedy &amp; Talk Shows</th>\n",
              "    </tr>\n",
              "  </thead>\n",
              "  <tbody>\n",
              "    <tr>\n",
              "      <th>count</th>\n",
              "      <td>334</td>\n",
              "      <td>321</td>\n",
              "      <td>320</td>\n",
              "      <td>243</td>\n",
              "      <td>215</td>\n",
              "      <td>204</td>\n",
              "      <td>177</td>\n",
              "      <td>172</td>\n",
              "      <td>169</td>\n",
              "      <td>161</td>\n",
              "      <td>...</td>\n",
              "      <td>1</td>\n",
              "      <td>1</td>\n",
              "      <td>1</td>\n",
              "      <td>1</td>\n",
              "      <td>1</td>\n",
              "      <td>1</td>\n",
              "      <td>1</td>\n",
              "      <td>1</td>\n",
              "      <td>1</td>\n",
              "      <td>1</td>\n",
              "    </tr>\n",
              "  </tbody>\n",
              "</table>\n",
              "<p>1 rows × 491 columns</p>\n",
              "</div>\n",
              "    <div class=\"colab-df-buttons\">\n",
              "\n",
              "  <div class=\"colab-df-container\">\n",
              "    <button class=\"colab-df-convert\" onclick=\"convertToInteractive('df-1e22df27-e1d8-4d57-ad42-7c98fe1e5726')\"\n",
              "            title=\"Convert this dataframe to an interactive table.\"\n",
              "            style=\"display:none;\">\n",
              "\n",
              "  <svg xmlns=\"http://www.w3.org/2000/svg\" height=\"24px\" viewBox=\"0 -960 960 960\">\n",
              "    <path d=\"M120-120v-720h720v720H120Zm60-500h600v-160H180v160Zm220 220h160v-160H400v160Zm0 220h160v-160H400v160ZM180-400h160v-160H180v160Zm440 0h160v-160H620v160ZM180-180h160v-160H180v160Zm440 0h160v-160H620v160Z\"/>\n",
              "  </svg>\n",
              "    </button>\n",
              "\n",
              "  <style>\n",
              "    .colab-df-container {\n",
              "      display:flex;\n",
              "      gap: 12px;\n",
              "    }\n",
              "\n",
              "    .colab-df-convert {\n",
              "      background-color: #E8F0FE;\n",
              "      border: none;\n",
              "      border-radius: 50%;\n",
              "      cursor: pointer;\n",
              "      display: none;\n",
              "      fill: #1967D2;\n",
              "      height: 32px;\n",
              "      padding: 0 0 0 0;\n",
              "      width: 32px;\n",
              "    }\n",
              "\n",
              "    .colab-df-convert:hover {\n",
              "      background-color: #E2EBFA;\n",
              "      box-shadow: 0px 1px 2px rgba(60, 64, 67, 0.3), 0px 1px 3px 1px rgba(60, 64, 67, 0.15);\n",
              "      fill: #174EA6;\n",
              "    }\n",
              "\n",
              "    .colab-df-buttons div {\n",
              "      margin-bottom: 4px;\n",
              "    }\n",
              "\n",
              "    [theme=dark] .colab-df-convert {\n",
              "      background-color: #3B4455;\n",
              "      fill: #D2E3FC;\n",
              "    }\n",
              "\n",
              "    [theme=dark] .colab-df-convert:hover {\n",
              "      background-color: #434B5C;\n",
              "      box-shadow: 0px 1px 3px 1px rgba(0, 0, 0, 0.15);\n",
              "      filter: drop-shadow(0px 1px 2px rgba(0, 0, 0, 0.3));\n",
              "      fill: #FFFFFF;\n",
              "    }\n",
              "  </style>\n",
              "\n",
              "    <script>\n",
              "      const buttonEl =\n",
              "        document.querySelector('#df-1e22df27-e1d8-4d57-ad42-7c98fe1e5726 button.colab-df-convert');\n",
              "      buttonEl.style.display =\n",
              "        google.colab.kernel.accessAllowed ? 'block' : 'none';\n",
              "\n",
              "      async function convertToInteractive(key) {\n",
              "        const element = document.querySelector('#df-1e22df27-e1d8-4d57-ad42-7c98fe1e5726');\n",
              "        const dataTable =\n",
              "          await google.colab.kernel.invokeFunction('convertToInteractive',\n",
              "                                                    [key], {});\n",
              "        if (!dataTable) return;\n",
              "\n",
              "        const docLinkHtml = 'Like what you see? Visit the ' +\n",
              "          '<a target=\"_blank\" href=https://colab.research.google.com/notebooks/data_table.ipynb>data table notebook</a>'\n",
              "          + ' to learn more about interactive tables.';\n",
              "        element.innerHTML = '';\n",
              "        dataTable['output_type'] = 'display_data';\n",
              "        await google.colab.output.renderOutput(dataTable, element);\n",
              "        const docLink = document.createElement('div');\n",
              "        docLink.innerHTML = docLinkHtml;\n",
              "        element.appendChild(docLink);\n",
              "      }\n",
              "    </script>\n",
              "  </div>\n",
              "\n",
              "\n",
              "    </div>\n",
              "  </div>\n"
            ],
            "application/vnd.google.colaboratory.intrinsic+json": {
              "type": "dataframe"
            }
          },
          "metadata": {},
          "execution_count": 83
        }
      ],
      "source": [
        "df.listed_in.value_counts().to_frame().T"
      ]
    },
    {
      "cell_type": "markdown",
      "metadata": {
        "id": "Z_1czbpjIj3A"
      },
      "source": [
        "* #### 4.11.3 Making **Categories**"
      ]
    },
    {
      "cell_type": "code",
      "execution_count": null,
      "metadata": {
        "colab": {
          "base_uri": "https://localhost:8080/"
        },
        "id": "j-RQeXZJHf9F",
        "outputId": "3cdab839-b5ab-4864-8ca5-988ddcb23ce4"
      },
      "outputs": [
        {
          "output_type": "execute_result",
          "data": {
            "text/plain": [
              "['International TV Shows',\n",
              " 'TV Dramas',\n",
              " 'TV Sci-Fi & Fantasy',\n",
              " 'Dramas',\n",
              " 'International Movies']"
            ]
          },
          "metadata": {},
          "execution_count": 84
        }
      ],
      "source": [
        "categories = \", \".join(df['listed_in']).split(\", \")\n",
        "categories[:5]"
      ]
    },
    {
      "cell_type": "code",
      "execution_count": null,
      "metadata": {
        "colab": {
          "base_uri": "https://localhost:8080/"
        },
        "id": "TWTwZi66HlqR",
        "outputId": "267b45d5-24ae-4cc0-e5ee-986466b2acac"
      },
      "outputs": [
        {
          "output_type": "execute_result",
          "data": {
            "text/plain": [
              "17051"
            ]
          },
          "metadata": {},
          "execution_count": 85
        }
      ],
      "source": [
        "len(categories)"
      ]
    },
    {
      "cell_type": "code",
      "execution_count": null,
      "metadata": {
        "colab": {
          "base_uri": "https://localhost:8080/"
        },
        "id": "mj50Q-aEHofO",
        "outputId": "fc3c2057-d213-4413-8cf1-0df09a44f455"
      },
      "outputs": [
        {
          "output_type": "execute_result",
          "data": {
            "text/plain": [
              "42"
            ]
          },
          "metadata": {},
          "execution_count": 86
        }
      ],
      "source": [
        "len(set(categories))"
      ]
    },
    {
      "cell_type": "markdown",
      "metadata": {
        "id": "4I5Eqcn5IFVb"
      },
      "source": [
        "There are **42 unique categories**  present & in this dataset **all the categories occured in total 17051 times**"
      ]
    },
    {
      "cell_type": "markdown",
      "metadata": {
        "id": "LHBTw8Q0N5ig"
      },
      "source": [
        "Creating a dictionary **( *category_wise_count* )** where for each category there will be a value which basically tells us how many times that particular category occured"
      ]
    },
    {
      "cell_type": "code",
      "execution_count": null,
      "metadata": {
        "id": "N-r1fsiPKCCA"
      },
      "outputs": [],
      "source": [
        "category_wise_count = {}\n",
        "for category in set(categories):\n",
        "  category_wise_count[category] = categories.count(category)"
      ]
    },
    {
      "cell_type": "code",
      "execution_count": null,
      "metadata": {
        "colab": {
          "base_uri": "https://localhost:8080/"
        },
        "id": "XV4UUwNjKSRy",
        "outputId": "b83204fd-7542-4940-8ec5-a541e5089493"
      },
      "outputs": [
        {
          "output_type": "execute_result",
          "data": {
            "text/plain": [
              "{'Sports Movies': 196,\n",
              " 'Horror Movies': 312,\n",
              " 'International Movies': 2437,\n",
              " 'Sci-Fi & Fantasy': 218,\n",
              " 'Spanish-Language TV Shows': 146,\n",
              " 'Classic Movies': 103,\n",
              " 'TV Comedies': 518,\n",
              " 'Anime Features': 57,\n",
              " 'TV Thrillers': 50,\n",
              " 'Movies': 56,\n",
              " 'Faith & Spirituality': 57,\n",
              " 'Action & Adventure': 721,\n",
              " 'Reality TV': 222,\n",
              " 'Anime Series': 147,\n",
              " 'Music & Musicals': 321,\n",
              " 'TV Sci-Fi & Fantasy': 75,\n",
              " 'TV Mysteries': 90,\n",
              " 'Science & Nature TV': 85,\n",
              " 'Children & Family Movies': 532,\n",
              " 'LGBTQ Movies': 90,\n",
              " 'Romantic Movies': 531,\n",
              " 'Documentaries': 786,\n",
              " 'TV Dramas': 703,\n",
              " 'Independent Movies': 673,\n",
              " 'Stand-Up Comedy': 329,\n",
              " 'Korean TV Shows': 150,\n",
              " 'Stand-Up Comedy & Talk Shows': 52,\n",
              " 'Classic & Cult TV': 25,\n",
              " 'TV Horror': 69,\n",
              " 'Dramas': 2106,\n",
              " 'International TV Shows': 1198,\n",
              " 'TV Shows': 12,\n",
              " 'Docuseries': 352,\n",
              " 'Thrillers': 491,\n",
              " 'Teen TV Shows': 60,\n",
              " 'Comedies': 1471,\n",
              " 'TV Action & Adventure': 149,\n",
              " \"Kids' TV\": 412,\n",
              " 'Romantic TV Shows': 333,\n",
              " 'British TV Shows': 231,\n",
              " 'Cult Movies': 59,\n",
              " 'Crime TV Shows': 426}"
            ]
          },
          "metadata": {},
          "execution_count": 88
        }
      ],
      "source": [
        "category_wise_count"
      ]
    },
    {
      "cell_type": "markdown",
      "metadata": {
        "id": "x6drMdlZQprs"
      },
      "source": [
        "* Sorting *category_wise_count* by value"
      ]
    },
    {
      "cell_type": "code",
      "execution_count": null,
      "metadata": {
        "colab": {
          "base_uri": "https://localhost:8080/"
        },
        "id": "1cUbkf8mRsTo",
        "outputId": "72e97938-e29f-48ee-ae41-77b5a235781b"
      },
      "outputs": [
        {
          "output_type": "execute_result",
          "data": {
            "text/plain": [
              "[('TV Shows', 12),\n",
              " ('Classic & Cult TV', 25),\n",
              " ('TV Thrillers', 50),\n",
              " ('Stand-Up Comedy & Talk Shows', 52)]"
            ]
          },
          "metadata": {},
          "execution_count": 89
        }
      ],
      "source": [
        "sorted_category_wise_count = sorted(category_wise_count.items(), key=lambda x: x[1])\n",
        "sorted_category_wise_count[:4]"
      ]
    },
    {
      "cell_type": "markdown",
      "metadata": {
        "id": "GAWhjwjiTadC"
      },
      "source": [
        "* Top 5 least occurred category"
      ]
    },
    {
      "cell_type": "code",
      "execution_count": null,
      "metadata": {
        "colab": {
          "base_uri": "https://localhost:8080/"
        },
        "id": "w2qi01MyTKu1",
        "outputId": "f006dc4f-d06c-45d8-8a6b-88969fc8f802"
      },
      "outputs": [
        {
          "output_type": "execute_result",
          "data": {
            "text/plain": [
              "[('TV Shows', 12),\n",
              " ('Classic & Cult TV', 25),\n",
              " ('TV Thrillers', 50),\n",
              " ('Stand-Up Comedy & Talk Shows', 52),\n",
              " ('Movies', 56)]"
            ]
          },
          "metadata": {},
          "execution_count": 90
        }
      ],
      "source": [
        "sorted_category_wise_count[:5]"
      ]
    },
    {
      "cell_type": "markdown",
      "metadata": {
        "id": "CmrKf197TVjq"
      },
      "source": [
        "* Top 5 most occurred category"
      ]
    },
    {
      "cell_type": "code",
      "execution_count": null,
      "metadata": {
        "colab": {
          "base_uri": "https://localhost:8080/"
        },
        "id": "ZBe-T_qGTN86",
        "outputId": "36fe5941-2673-4ada-8d43-a488af2deb2b"
      },
      "outputs": [
        {
          "output_type": "execute_result",
          "data": {
            "text/plain": [
              "[('Documentaries', 786),\n",
              " ('International TV Shows', 1198),\n",
              " ('Comedies', 1471),\n",
              " ('Dramas', 2106),\n",
              " ('International Movies', 2437)]"
            ]
          },
          "metadata": {},
          "execution_count": 91
        }
      ],
      "source": [
        "sorted_category_wise_count[-5:]"
      ]
    },
    {
      "cell_type": "markdown",
      "metadata": {
        "id": "yO08y96NTy5A"
      },
      "source": [
        "* Top 10 most occurred categories"
      ]
    },
    {
      "cell_type": "code",
      "execution_count": null,
      "metadata": {
        "id": "_S04a0eXTeNP"
      },
      "outputs": [],
      "source": [
        "top_10_most_occurred_categories = sorted_category_wise_count[-10:]"
      ]
    },
    {
      "cell_type": "code",
      "execution_count": null,
      "metadata": {
        "colab": {
          "base_uri": "https://localhost:8080/"
        },
        "id": "ON5u6i2lUEnu",
        "outputId": "bb57baff-c6a8-4a4b-c37b-eeb6777cd970"
      },
      "outputs": [
        {
          "output_type": "execute_result",
          "data": {
            "text/plain": [
              "[('Romantic Movies', 531),\n",
              " ('Children & Family Movies', 532),\n",
              " ('Independent Movies', 673),\n",
              " ('TV Dramas', 703),\n",
              " ('Action & Adventure', 721),\n",
              " ('Documentaries', 786),\n",
              " ('International TV Shows', 1198),\n",
              " ('Comedies', 1471),\n",
              " ('Dramas', 2106),\n",
              " ('International Movies', 2437)]"
            ]
          },
          "metadata": {},
          "execution_count": 93
        }
      ],
      "source": [
        "top_10_most_occurred_categories"
      ]
    },
    {
      "cell_type": "code",
      "execution_count": null,
      "metadata": {
        "id": "lj3-L_bMUEjW"
      },
      "outputs": [],
      "source": [
        "top_10_most_occurred_category_name = []\n",
        "top_10_most_occurred_category_count = []\n",
        "for tup in top_10_most_occurred_categories:\n",
        "  top_10_most_occurred_category_name.append(tup[0])\n",
        "  top_10_most_occurred_category_count.append(tup[1])"
      ]
    },
    {
      "cell_type": "code",
      "execution_count": null,
      "metadata": {
        "colab": {
          "base_uri": "https://localhost:8080/"
        },
        "id": "OA73zfInUWDC",
        "outputId": "c155bf99-b2fb-4bf4-f739-ab4143984600"
      },
      "outputs": [
        {
          "output_type": "execute_result",
          "data": {
            "text/plain": [
              "['Romantic Movies',\n",
              " 'Children & Family Movies',\n",
              " 'Independent Movies',\n",
              " 'TV Dramas',\n",
              " 'Action & Adventure',\n",
              " 'Documentaries',\n",
              " 'International TV Shows',\n",
              " 'Comedies',\n",
              " 'Dramas',\n",
              " 'International Movies']"
            ]
          },
          "metadata": {},
          "execution_count": 95
        }
      ],
      "source": [
        "top_10_most_occurred_category_name"
      ]
    },
    {
      "cell_type": "code",
      "execution_count": null,
      "metadata": {
        "colab": {
          "base_uri": "https://localhost:8080/"
        },
        "id": "DvI5xZtyUbRa",
        "outputId": "d74766eb-cc85-4dd3-8518-b715aa9dc6c9"
      },
      "outputs": [
        {
          "output_type": "execute_result",
          "data": {
            "text/plain": [
              "[531, 532, 673, 703, 721, 786, 1198, 1471, 2106, 2437]"
            ]
          },
          "metadata": {},
          "execution_count": 96
        }
      ],
      "source": [
        "top_10_most_occurred_category_count"
      ]
    },
    {
      "cell_type": "markdown",
      "metadata": {
        "id": "YZ9t5ttoYg2s"
      },
      "source": [
        "* #### 4.11.4 **TOP 10 Most Occurred Category By Count**"
      ]
    },
    {
      "cell_type": "code",
      "execution_count": null,
      "metadata": {
        "colab": {
          "base_uri": "https://localhost:8080/",
          "height": 608
        },
        "id": "IpQs0eVjKgxi",
        "outputId": "9f8bcd01-eedc-4196-fafe-42bbd849b5f0"
      },
      "outputs": [
        {
          "output_type": "execute_result",
          "data": {
            "text/plain": [
              "<Figure size 1600x800 with 0 Axes>"
            ]
          },
          "metadata": {},
          "execution_count": 97
        },
        {
          "output_type": "display_data",
          "data": {
            "text/plain": [
              "<Figure size 1600x800 with 1 Axes>"
            ],
            "image/png": "[encoded data removed]"
          },
          "metadata": {}
        },
        {
          "output_type": "display_data",
          "data": {
            "text/plain": [
              "<Figure size 1600x800 with 0 Axes>"
            ]
          },
          "metadata": {}
        }
      ],
      "source": [
        "plt.figure( figsize = (16,8))\n",
        "color=['lightpink', 'violet', 'green', 'blue', 'cyan' , \"lightblue\" ,'red', 'pink', 'yellow', 'orange']\n",
        "plt.barh(top_10_most_occurred_category_name , top_10_most_occurred_category_count ,\n",
        "        color= color)\n",
        "plt.title(\"Top 10 Most Popular Categories\",fontsize = 19)\n",
        "plt.xlabel(\"Count\", fontsize = 14 )\n",
        "plt.ylabel(\"Category Name\" , fontsize = 14 )\n",
        "plt.figure( figsize = (16,8))"
      ]
    },
    {
      "cell_type": "markdown",
      "metadata": {
        "id": "chpQzp1wcdUe"
      },
      "source": [
        "1. Why did you pick the specific chart?"
      ]
    },
    {
      "cell_type": "markdown",
      "metadata": {
        "id": "OeNFyUNRcgSU"
      },
      "source": [
        "Bar charts can be used to display the frequency distribution of categorical data, showing how often each category occurs within the dataset. This is useful for understanding the distribution of responses or occurrences across different categories."
      ]
    },
    {
      "cell_type": "markdown",
      "metadata": {
        "id": "VO_MPVEVcgpp"
      },
      "source": [
        "What is/are the insight(s) found from the chart?"
      ]
    },
    {
      "cell_type": "markdown",
      "metadata": {
        "id": "qKGE_rVzcjzp"
      },
      "source": [
        "2. The most prefered category is international content and least prefered is children,family and romantic content."
      ]
    },
    {
      "cell_type": "markdown",
      "metadata": {
        "id": "T4u1gccacoD2"
      },
      "source": [
        "3. Will the gained insights help creating a positive business impact?"
      ]
    },
    {
      "cell_type": "markdown",
      "metadata": {
        "id": "efnQRv7cc3ou"
      },
      "source": [
        "Yes, it helps in creating a positive business impact. Production companies or makers can make movies or TV shows based on popularity."
      ]
    },
    {
      "cell_type": "markdown",
      "metadata": {
        "id": "nT1lyXak0bkH"
      },
      "source": [
        "* #### 4.11.5 Creating a new column **no_of_category**"
      ]
    },
    {
      "cell_type": "markdown",
      "metadata": {
        "id": "O2obADyhzE97"
      },
      "source": [
        "* Datatype of listed_in values"
      ]
    },
    {
      "cell_type": "code",
      "execution_count": null,
      "metadata": {
        "colab": {
          "base_uri": "https://localhost:8080/"
        },
        "id": "LEdXq751yoII",
        "outputId": "5979ed0a-ca6b-4868-d0a5-cc4361235a67"
      },
      "outputs": [
        {
          "output_type": "execute_result",
          "data": {
            "text/plain": [
              "str"
            ]
          },
          "metadata": {},
          "execution_count": 98
        }
      ],
      "source": [
        "type(df.listed_in.iloc[0])"
      ]
    },
    {
      "cell_type": "code",
      "execution_count": null,
      "metadata": {
        "colab": {
          "base_uri": "https://localhost:8080/",
          "height": 35
        },
        "id": "Ff7pkziozWIG",
        "outputId": "3f893269-d38f-44e6-8cca-54e6435f675f"
      },
      "outputs": [
        {
          "output_type": "execute_result",
          "data": {
            "text/plain": [
              "'International TV Shows, TV Dramas, TV Sci-Fi & Fantasy'"
            ],
            "application/vnd.google.colaboratory.intrinsic+json": {
              "type": "string"
            }
          },
          "metadata": {},
          "execution_count": 99
        }
      ],
      "source": [
        "(df.listed_in.iloc[0])"
      ]
    },
    {
      "cell_type": "code",
      "execution_count": null,
      "metadata": {
        "colab": {
          "base_uri": "https://localhost:8080/"
        },
        "id": "L4HHJr2YzWEF",
        "outputId": "68325f7d-a6ac-401c-8775-04b60c151703"
      },
      "outputs": [
        {
          "output_type": "execute_result",
          "data": {
            "text/plain": [
              "['International TV Shows', ' TV Dramas', ' TV Sci-Fi & Fantasy']"
            ]
          },
          "metadata": {},
          "execution_count": 100
        }
      ],
      "source": [
        "(df.listed_in.iloc[0]).split(\",\")"
      ]
    },
    {
      "cell_type": "code",
      "execution_count": null,
      "metadata": {
        "colab": {
          "base_uri": "https://localhost:8080/"
        },
        "id": "k524PpHvzeOz",
        "outputId": "6ccdd506-9261-4f01-c051-f09216a4c439"
      },
      "outputs": [
        {
          "output_type": "execute_result",
          "data": {
            "text/plain": [
              "3"
            ]
          },
          "metadata": {},
          "execution_count": 101
        }
      ],
      "source": [
        "len((df.listed_in.iloc[0]).split(\",\"))"
      ]
    },
    {
      "cell_type": "code",
      "execution_count": null,
      "metadata": {
        "id": "Y6aPYhjczSAW"
      },
      "outputs": [],
      "source": [
        "no_of_category = []\n",
        "for categories in df.listed_in.values:\n",
        "  len_categories = len(categories.split(\",\"))\n",
        "  no_of_category.append(len_categories)"
      ]
    },
    {
      "cell_type": "code",
      "execution_count": null,
      "metadata": {
        "id": "PtJ1jmHq0j3a"
      },
      "outputs": [],
      "source": [
        "df['no_of_category'] = no_of_category"
      ]
    },
    {
      "cell_type": "code",
      "execution_count": null,
      "metadata": {
        "colab": {
          "base_uri": "https://localhost:8080/",
          "height": 206
        },
        "id": "C-53wUTw0nfL",
        "outputId": "a6da1b1a-f99c-4c0a-91e8-af93dd4e2f07"
      },
      "outputs": [
        {
          "output_type": "execute_result",
          "data": {
            "text/plain": [
              "                                           listed_in  no_of_category\n",
              "0  International TV Shows, TV Dramas, TV Sci-Fi &...               3\n",
              "1                       Dramas, International Movies               2\n",
              "2                Horror Movies, International Movies               2\n",
              "3  Action & Adventure, Independent Movies, Sci-Fi...               3\n",
              "4                                             Dramas               1"
            ],
            "text/html": [
              "\n",
              "  <div id=\"df-6e33142f-f0a7-4efb-a6a1-69f34cc223b2\" class=\"colab-df-container\">\n",
              "    <div>\n",
              "<style scoped>\n",
              "    .dataframe tbody tr th:only-of-type {\n",
              "        vertical-align: middle;\n",
              "    }\n",
              "\n",
              "    .dataframe tbody tr th {\n",
              "        vertical-align: top;\n",
              "    }\n",
              "\n",
              "    .dataframe thead th {\n",
              "        text-align: right;\n",
              "    }\n",
              "</style>\n",
              "<table border=\"1\" class=\"dataframe\">\n",
              "  <thead>\n",
              "    <tr style=\"text-align: right;\">\n",
              "      <th></th>\n",
              "      <th>listed_in</th>\n",
              "      <th>no_of_category</th>\n",
              "    </tr>\n",
              "  </thead>\n",
              "  <tbody>\n",
              "    <tr>\n",
              "      <th>0</th>\n",
              "      <td>International TV Shows, TV Dramas, TV Sci-Fi &amp;...</td>\n",
              "      <td>3</td>\n",
              "    </tr>\n",
              "    <tr>\n",
              "      <th>1</th>\n",
              "      <td>Dramas, International Movies</td>\n",
              "      <td>2</td>\n",
              "    </tr>\n",
              "    <tr>\n",
              "      <th>2</th>\n",
              "      <td>Horror Movies, International Movies</td>\n",
              "      <td>2</td>\n",
              "    </tr>\n",
              "    <tr>\n",
              "      <th>3</th>\n",
              "      <td>Action &amp; Adventure, Independent Movies, Sci-Fi...</td>\n",
              "      <td>3</td>\n",
              "    </tr>\n",
              "    <tr>\n",
              "      <th>4</th>\n",
              "      <td>Dramas</td>\n",
              "      <td>1</td>\n",
              "    </tr>\n",
              "  </tbody>\n",
              "</table>\n",
              "</div>\n",
              "    <div class=\"colab-df-buttons\">\n",
              "\n",
              "  <div class=\"colab-df-container\">\n",
              "    <button class=\"colab-df-convert\" onclick=\"convertToInteractive('df-6e33142f-f0a7-4efb-a6a1-69f34cc223b2')\"\n",
              "            title=\"Convert this dataframe to an interactive table.\"\n",
              "            style=\"display:none;\">\n",
              "\n",
              "  <svg xmlns=\"http://www.w3.org/2000/svg\" height=\"24px\" viewBox=\"0 -960 960 960\">\n",
              "    <path d=\"M120-120v-720h720v720H120Zm60-500h600v-160H180v160Zm220 220h160v-160H400v160Zm0 220h160v-160H400v160ZM180-400h160v-160H180v160Zm440 0h160v-160H620v160ZM180-180h160v-160H180v160Zm440 0h160v-160H620v160Z\"/>\n",
              "  </svg>\n",
              "    </button>\n",
              "\n",
              "  <style>\n",
              "    .colab-df-container {\n",
              "      display:flex;\n",
              "      gap: 12px;\n",
              "    }\n",
              "\n",
              "    .colab-df-convert {\n",
              "      background-color: #E8F0FE;\n",
              "      border: none;\n",
              "      border-radius: 50%;\n",
              "      cursor: pointer;\n",
              "      display: none;\n",
              "      fill: #1967D2;\n",
              "      height: 32px;\n",
              "      padding: 0 0 0 0;\n",
              "      width: 32px;\n",
              "    }\n",
              "\n",
              "    .colab-df-convert:hover {\n",
              "      background-color: #E2EBFA;\n",
              "      box-shadow: 0px 1px 2px rgba(60, 64, 67, 0.3), 0px 1px 3px 1px rgba(60, 64, 67, 0.15);\n",
              "      fill: #174EA6;\n",
              "    }\n",
              "\n",
              "    .colab-df-buttons div {\n",
              "      margin-bottom: 4px;\n",
              "    }\n",
              "\n",
              "    [theme=dark] .colab-df-convert {\n",
              "      background-color: #3B4455;\n",
              "      fill: #D2E3FC;\n",
              "    }\n",
              "\n",
              "    [theme=dark] .colab-df-convert:hover {\n",
              "      background-color: #434B5C;\n",
              "      box-shadow: 0px 1px 3px 1px rgba(0, 0, 0, 0.15);\n",
              "      filter: drop-shadow(0px 1px 2px rgba(0, 0, 0, 0.3));\n",
              "      fill: #FFFFFF;\n",
              "    }\n",
              "  </style>\n",
              "\n",
              "    <script>\n",
              "      const buttonEl =\n",
              "        document.querySelector('#df-6e33142f-f0a7-4efb-a6a1-69f34cc223b2 button.colab-df-convert');\n",
              "      buttonEl.style.display =\n",
              "        google.colab.kernel.accessAllowed ? 'block' : 'none';\n",
              "\n",
              "      async function convertToInteractive(key) {\n",
              "        const element = document.querySelector('#df-6e33142f-f0a7-4efb-a6a1-69f34cc223b2');\n",
              "        const dataTable =\n",
              "          await google.colab.kernel.invokeFunction('convertToInteractive',\n",
              "                                                    [key], {});\n",
              "        if (!dataTable) return;\n",
              "\n",
              "        const docLinkHtml = 'Like what you see? Visit the ' +\n",
              "          '<a target=\"_blank\" href=https://colab.research.google.com/notebooks/data_table.ipynb>data table notebook</a>'\n",
              "          + ' to learn more about interactive tables.';\n",
              "        element.innerHTML = '';\n",
              "        dataTable['output_type'] = 'display_data';\n",
              "        await google.colab.output.renderOutput(dataTable, element);\n",
              "        const docLink = document.createElement('div');\n",
              "        docLink.innerHTML = docLinkHtml;\n",
              "        element.appendChild(docLink);\n",
              "      }\n",
              "    </script>\n",
              "  </div>\n",
              "\n",
              "\n",
              "<div id=\"df-d7d6f1e7-4349-478d-914b-973dd168952a\">\n",
              "  <button class=\"colab-df-quickchart\" onclick=\"quickchart('df-d7d6f1e7-4349-478d-914b-973dd168952a')\"\n",
              "            title=\"Suggest charts\"\n",
              "            style=\"display:none;\">\n",
              "\n",
              "<svg xmlns=\"http://www.w3.org/2000/svg\" height=\"24px\"viewBox=\"0 0 24 24\"\n",
              "     width=\"24px\">\n",
              "    <g>\n",
              "        <path d=\"M19 3H5c-1.1 0-2 .9-2 2v14c0 1.1.9 2 2 2h14c1.1 0 2-.9 2-2V5c0-1.1-.9-2-2-2zM9 17H7v-7h2v7zm4 0h-2V7h2v10zm4 0h-2v-4h2v4z\"/>\n",
              "    </g>\n",
              "</svg>\n",
              "  </button>\n",
              "\n",
              "<style>\n",
              "  .colab-df-quickchart {\n",
              "      --bg-color: #E8F0FE;\n",
              "      --fill-color: #1967D2;\n",
              "      --hover-bg-color: #E2EBFA;\n",
              "      --hover-fill-color: #174EA6;\n",
              "      --disabled-fill-color: #AAA;\n",
              "      --disabled-bg-color: #DDD;\n",
              "  }\n",
              "\n",
              "  [theme=dark] .colab-df-quickchart {\n",
              "      --bg-color: #3B4455;\n",
              "      --fill-color: #D2E3FC;\n",
              "      --hover-bg-color: #434B5C;\n",
              "      --hover-fill-color: #FFFFFF;\n",
              "      --disabled-bg-color: #3B4455;\n",
              "      --disabled-fill-color: #666;\n",
              "  }\n",
              "\n",
              "  .colab-df-quickchart {\n",
              "    background-color: var(--bg-color);\n",
              "    border: none;\n",
              "    border-radius: 50%;\n",
              "    cursor: pointer;\n",
              "    display: none;\n",
              "    fill: var(--fill-color);\n",
              "    height: 32px;\n",
              "    padding: 0;\n",
              "    width: 32px;\n",
              "  }\n",
              "\n",
              "  .colab-df-quickchart:hover {\n",
              "    background-color: var(--hover-bg-color);\n",
              "    box-shadow: 0 1px 2px rgba(60, 64, 67, 0.3), 0 1px 3px 1px rgba(60, 64, 67, 0.15);\n",
              "    fill: var(--button-hover-fill-color);\n",
              "  }\n",
              "\n",
              "  .colab-df-quickchart-complete:disabled,\n",
              "  .colab-df-quickchart-complete:disabled:hover {\n",
              "    background-color: var(--disabled-bg-color);\n",
              "    fill: var(--disabled-fill-color);\n",
              "    box-shadow: none;\n",
              "  }\n",
              "\n",
              "  .colab-df-spinner {\n",
              "    border: 2px solid var(--fill-color);\n",
              "    border-color: transparent;\n",
              "    border-bottom-color: var(--fill-color);\n",
              "    animation:\n",
              "      spin 1s steps(1) infinite;\n",
              "  }\n",
              "\n",
              "  @keyframes spin {\n",
              "    0% {\n",
              "      border-color: transparent;\n",
              "      border-bottom-color: var(--fill-color);\n",
              "      border-left-color: var(--fill-color);\n",
              "    }\n",
              "    20% {\n",
              "      border-color: transparent;\n",
              "      border-left-color: var(--fill-color);\n",
              "      border-top-color: var(--fill-color);\n",
              "    }\n",
              "    30% {\n",
              "      border-color: transparent;\n",
              "      border-left-color: var(--fill-color);\n",
              "      border-top-color: var(--fill-color);\n",
              "      border-right-color: var(--fill-color);\n",
              "    }\n",
              "    40% {\n",
              "      border-color: transparent;\n",
              "      border-right-color: var(--fill-color);\n",
              "      border-top-color: var(--fill-color);\n",
              "    }\n",
              "    60% {\n",
              "      border-color: transparent;\n",
              "      border-right-color: var(--fill-color);\n",
              "    }\n",
              "    80% {\n",
              "      border-color: transparent;\n",
              "      border-right-color: var(--fill-color);\n",
              "      border-bottom-color: var(--fill-color);\n",
              "    }\n",
              "    90% {\n",
              "      border-color: transparent;\n",
              "      border-bottom-color: var(--fill-color);\n",
              "    }\n",
              "  }\n",
              "</style>\n",
              "\n",
              "  <script>\n",
              "    async function quickchart(key) {\n",
              "      const quickchartButtonEl =\n",
              "        document.querySelector('#' + key + ' button');\n",
              "      quickchartButtonEl.disabled = true;  // To prevent multiple clicks.\n",
              "      quickchartButtonEl.classList.add('colab-df-spinner');\n",
              "      try {\n",
              "        const charts = await google.colab.kernel.invokeFunction(\n",
              "            'suggestCharts', [key], {});\n",
              "      } catch (error) {\n",
              "        console.error('Error during call to suggestCharts:', error);\n",
              "      }\n",
              "      quickchartButtonEl.classList.remove('colab-df-spinner');\n",
              "      quickchartButtonEl.classList.add('colab-df-quickchart-complete');\n",
              "    }\n",
              "    (() => {\n",
              "      let quickchartButtonEl =\n",
              "        document.querySelector('#df-d7d6f1e7-4349-478d-914b-973dd168952a button');\n",
              "      quickchartButtonEl.style.display =\n",
              "        google.colab.kernel.accessAllowed ? 'block' : 'none';\n",
              "    })();\n",
              "  </script>\n",
              "</div>\n",
              "\n",
              "    </div>\n",
              "  </div>\n"
            ],
            "application/vnd.google.colaboratory.intrinsic+json": {
              "type": "dataframe",
              "summary": "{\n  \"name\": \"df[['listed_in' , 'no_of_category']]\",\n  \"rows\": 5,\n  \"fields\": [\n    {\n      \"column\": \"listed_in\",\n      \"properties\": {\n        \"dtype\": \"string\",\n        \"num_unique_values\": 5,\n        \"samples\": [\n          \"Dramas, International Movies\",\n          \"Dramas\",\n          \"Horror Movies, International Movies\"\n        ],\n        \"semantic_type\": \"\",\n        \"description\": \"\"\n      }\n    },\n    {\n      \"column\": \"no_of_category\",\n      \"properties\": {\n        \"dtype\": \"number\",\n        \"std\": 0,\n        \"min\": 1,\n        \"max\": 3,\n        \"num_unique_values\": 3,\n        \"samples\": [\n          3,\n          2,\n          1\n        ],\n        \"semantic_type\": \"\",\n        \"description\": \"\"\n      }\n    }\n  ]\n}"
            }
          },
          "metadata": {},
          "execution_count": 104
        }
      ],
      "source": [
        "df[['listed_in' , 'no_of_category']].head()"
      ]
    },
    {
      "cell_type": "markdown",
      "metadata": {
        "id": "2wc3T1hyyfRc"
      },
      "source": [
        "* #### 4.11.6 Histogram of *no_of_category* using *listed_in*"
      ]
    },
    {
      "cell_type": "code",
      "execution_count": null,
      "metadata": {
        "colab": {
          "base_uri": "https://localhost:8080/"
        },
        "id": "vGE4EK1V2No9",
        "outputId": "f7d84024-fdc4-4ab8-cc58-2043efa277bd"
      },
      "outputs": [
        {
          "output_type": "execute_result",
          "data": {
            "text/plain": [
              "array([3, 2, 1])"
            ]
          },
          "metadata": {},
          "execution_count": 105
        }
      ],
      "source": [
        "df.no_of_category.unique()"
      ]
    },
    {
      "cell_type": "code",
      "execution_count": null,
      "metadata": {
        "colab": {
          "base_uri": "https://localhost:8080/"
        },
        "id": "LLMHWyA32RNz",
        "outputId": "362bccbe-81dd-4438-fff7-d9684e0c5d89"
      },
      "outputs": [
        {
          "output_type": "execute_result",
          "data": {
            "text/plain": [
              "no_of_category\n",
              "3    3295\n",
              "2    2684\n",
              "1    1798\n",
              "Name: count, dtype: int64"
            ]
          },
          "metadata": {},
          "execution_count": 106
        }
      ],
      "source": [
        "df.no_of_category.value_counts()"
      ]
    },
    {
      "cell_type": "code",
      "execution_count": null,
      "metadata": {
        "colab": {
          "base_uri": "https://localhost:8080/",
          "height": 490
        },
        "id": "_BBH6uYW2nD4",
        "outputId": "5403ccae-660d-44e5-8b32-cf4db024e915"
      },
      "outputs": [
        {
          "output_type": "execute_result",
          "data": {
            "text/plain": [
              "Text(0, 0.5, 'Count')"
            ]
          },
          "metadata": {},
          "execution_count": 107
        },
        {
          "output_type": "display_data",
          "data": {
            "text/plain": [
              "<Figure size 800x500 with 1 Axes>"
            ],
            "image/png": "[encoded data removed]"
          },
          "metadata": {}
        }
      ],
      "source": [
        "sns.set(style=\"darkgrid\")\n",
        "plt.figure(figsize = (8,5))\n",
        "plt.hist(df.no_of_category , bins=[1,2,3,4] , range = (1 ,4) , rwidth = 0.85, color ='lightblue')\n",
        "plt.xlabel(\"No of categories\")\n",
        "plt.ylabel(\"Count\")"
      ]
    },
    {
      "cell_type": "markdown",
      "metadata": {
        "id": "g9IaEleEc5dQ"
      },
      "source": [
        "1. Why did you pick the specific chart?"
      ]
    },
    {
      "cell_type": "markdown",
      "metadata": {
        "id": "DqwzSJzGc9rs"
      },
      "source": [
        "Histograms are particularly well-suited for visualizing continuous numerical data. They provide a smooth representation of the distribution without the need to discretize the data into categories or bins."
      ]
    },
    {
      "cell_type": "markdown",
      "metadata": {
        "id": "UyIQ-GLSc-JG"
      },
      "source": [
        "2. What is/are the insight(s) found from the chart?"
      ]
    },
    {
      "cell_type": "markdown",
      "metadata": {
        "id": "4qRm-6bydB3j"
      },
      "source": [
        "The max number of frequency count is 3000+ and least is 1800."
      ]
    },
    {
      "cell_type": "markdown",
      "metadata": {
        "id": "Pmji8Uhx623k"
      },
      "source": [
        "* ### 4.12 Creating a new column **date_added_month** using *date_added* column"
      ]
    },
    {
      "cell_type": "code",
      "execution_count": null,
      "metadata": {
        "colab": {
          "base_uri": "https://localhost:8080/"
        },
        "id": "he4D9Onb7F4d",
        "outputId": "bfa7cbc8-97b8-4f85-e009-48761568adc3"
      },
      "outputs": [
        {
          "output_type": "execute_result",
          "data": {
            "text/plain": [
              "0      August 14, 2020\n",
              "1    December 23, 2016\n",
              "2    December 20, 2018\n",
              "Name: date_added, dtype: object"
            ]
          },
          "metadata": {},
          "execution_count": 108
        }
      ],
      "source": [
        "df.date_added.head(3)"
      ]
    },
    {
      "cell_type": "code",
      "execution_count": null,
      "metadata": {
        "colab": {
          "base_uri": "https://localhost:8080/",
          "height": 206
        },
        "id": "89h-KYZ_CKlF",
        "outputId": "be2ec380-f7e5-4dac-b257-51a1ad748d7b"
      },
      "outputs": [
        {
          "output_type": "execute_result",
          "data": {
            "text/plain": [
              "          date_added date_added_month\n",
              "0    August 14, 2020           August\n",
              "1  December 23, 2016         December\n",
              "2  December 20, 2018         December\n",
              "3  November 16, 2017         November\n",
              "4    January 1, 2020          January"
            ],
            "text/html": [
              "\n",
              "  <div id=\"df-69ebad68-6cab-4e42-a9d5-299e4eb75e93\" class=\"colab-df-container\">\n",
              "    <div>\n",
              "<style scoped>\n",
              "    .dataframe tbody tr th:only-of-type {\n",
              "        vertical-align: middle;\n",
              "    }\n",
              "\n",
              "    .dataframe tbody tr th {\n",
              "        vertical-align: top;\n",
              "    }\n",
              "\n",
              "    .dataframe thead th {\n",
              "        text-align: right;\n",
              "    }\n",
              "</style>\n",
              "<table border=\"1\" class=\"dataframe\">\n",
              "  <thead>\n",
              "    <tr style=\"text-align: right;\">\n",
              "      <th></th>\n",
              "      <th>date_added</th>\n",
              "      <th>date_added_month</th>\n",
              "    </tr>\n",
              "  </thead>\n",
              "  <tbody>\n",
              "    <tr>\n",
              "      <th>0</th>\n",
              "      <td>August 14, 2020</td>\n",
              "      <td>August</td>\n",
              "    </tr>\n",
              "    <tr>\n",
              "      <th>1</th>\n",
              "      <td>December 23, 2016</td>\n",
              "      <td>December</td>\n",
              "    </tr>\n",
              "    <tr>\n",
              "      <th>2</th>\n",
              "      <td>December 20, 2018</td>\n",
              "      <td>December</td>\n",
              "    </tr>\n",
              "    <tr>\n",
              "      <th>3</th>\n",
              "      <td>November 16, 2017</td>\n",
              "      <td>November</td>\n",
              "    </tr>\n",
              "    <tr>\n",
              "      <th>4</th>\n",
              "      <td>January 1, 2020</td>\n",
              "      <td>January</td>\n",
              "    </tr>\n",
              "  </tbody>\n",
              "</table>\n",
              "</div>\n",
              "    <div class=\"colab-df-buttons\">\n",
              "\n",
              "  <div class=\"colab-df-container\">\n",
              "    <button class=\"colab-df-convert\" onclick=\"convertToInteractive('df-69ebad68-6cab-4e42-a9d5-299e4eb75e93')\"\n",
              "            title=\"Convert this dataframe to an interactive table.\"\n",
              "            style=\"display:none;\">\n",
              "\n",
              "  <svg xmlns=\"http://www.w3.org/2000/svg\" height=\"24px\" viewBox=\"0 -960 960 960\">\n",
              "    <path d=\"M120-120v-720h720v720H120Zm60-500h600v-160H180v160Zm220 220h160v-160H400v160Zm0 220h160v-160H400v160ZM180-400h160v-160H180v160Zm440 0h160v-160H620v160ZM180-180h160v-160H180v160Zm440 0h160v-160H620v160Z\"/>\n",
              "  </svg>\n",
              "    </button>\n",
              "\n",
              "  <style>\n",
              "    .colab-df-container {\n",
              "      display:flex;\n",
              "      gap: 12px;\n",
              "    }\n",
              "\n",
              "    .colab-df-convert {\n",
              "      background-color: #E8F0FE;\n",
              "      border: none;\n",
              "      border-radius: 50%;\n",
              "      cursor: pointer;\n",
              "      display: none;\n",
              "      fill: #1967D2;\n",
              "      height: 32px;\n",
              "      padding: 0 0 0 0;\n",
              "      width: 32px;\n",
              "    }\n",
              "\n",
              "    .colab-df-convert:hover {\n",
              "      background-color: #E2EBFA;\n",
              "      box-shadow: 0px 1px 2px rgba(60, 64, 67, 0.3), 0px 1px 3px 1px rgba(60, 64, 67, 0.15);\n",
              "      fill: #174EA6;\n",
              "    }\n",
              "\n",
              "    .colab-df-buttons div {\n",
              "      margin-bottom: 4px;\n",
              "    }\n",
              "\n",
              "    [theme=dark] .colab-df-convert {\n",
              "      background-color: #3B4455;\n",
              "      fill: #D2E3FC;\n",
              "    }\n",
              "\n",
              "    [theme=dark] .colab-df-convert:hover {\n",
              "      background-color: #434B5C;\n",
              "      box-shadow: 0px 1px 3px 1px rgba(0, 0, 0, 0.15);\n",
              "      filter: drop-shadow(0px 1px 2px rgba(0, 0, 0, 0.3));\n",
              "      fill: #FFFFFF;\n",
              "    }\n",
              "  </style>\n",
              "\n",
              "    <script>\n",
              "      const buttonEl =\n",
              "        document.querySelector('#df-69ebad68-6cab-4e42-a9d5-299e4eb75e93 button.colab-df-convert');\n",
              "      buttonEl.style.display =\n",
              "        google.colab.kernel.accessAllowed ? 'block' : 'none';\n",
              "\n",
              "      async function convertToInteractive(key) {\n",
              "        const element = document.querySelector('#df-69ebad68-6cab-4e42-a9d5-299e4eb75e93');\n",
              "        const dataTable =\n",
              "          await google.colab.kernel.invokeFunction('convertToInteractive',\n",
              "                                                    [key], {});\n",
              "        if (!dataTable) return;\n",
              "\n",
              "        const docLinkHtml = 'Like what you see? Visit the ' +\n",
              "          '<a target=\"_blank\" href=https://colab.research.google.com/notebooks/data_table.ipynb>data table notebook</a>'\n",
              "          + ' to learn more about interactive tables.';\n",
              "        element.innerHTML = '';\n",
              "        dataTable['output_type'] = 'display_data';\n",
              "        await google.colab.output.renderOutput(dataTable, element);\n",
              "        const docLink = document.createElement('div');\n",
              "        docLink.innerHTML = docLinkHtml;\n",
              "        element.appendChild(docLink);\n",
              "      }\n",
              "    </script>\n",
              "  </div>\n",
              "\n",
              "\n",
              "<div id=\"df-9ff0f083-7717-4b90-9a3d-9d103eca86cb\">\n",
              "  <button class=\"colab-df-quickchart\" onclick=\"quickchart('df-9ff0f083-7717-4b90-9a3d-9d103eca86cb')\"\n",
              "            title=\"Suggest charts\"\n",
              "            style=\"display:none;\">\n",
              "\n",
              "<svg xmlns=\"http://www.w3.org/2000/svg\" height=\"24px\"viewBox=\"0 0 24 24\"\n",
              "     width=\"24px\">\n",
              "    <g>\n",
              "        <path d=\"M19 3H5c-1.1 0-2 .9-2 2v14c0 1.1.9 2 2 2h14c1.1 0 2-.9 2-2V5c0-1.1-.9-2-2-2zM9 17H7v-7h2v7zm4 0h-2V7h2v10zm4 0h-2v-4h2v4z\"/>\n",
              "    </g>\n",
              "</svg>\n",
              "  </button>\n",
              "\n",
              "<style>\n",
              "  .colab-df-quickchart {\n",
              "      --bg-color: #E8F0FE;\n",
              "      --fill-color: #1967D2;\n",
              "      --hover-bg-color: #E2EBFA;\n",
              "      --hover-fill-color: #174EA6;\n",
              "      --disabled-fill-color: #AAA;\n",
              "      --disabled-bg-color: #DDD;\n",
              "  }\n",
              "\n",
              "  [theme=dark] .colab-df-quickchart {\n",
              "      --bg-color: #3B4455;\n",
              "      --fill-color: #D2E3FC;\n",
              "      --hover-bg-color: #434B5C;\n",
              "      --hover-fill-color: #FFFFFF;\n",
              "      --disabled-bg-color: #3B4455;\n",
              "      --disabled-fill-color: #666;\n",
              "  }\n",
              "\n",
              "  .colab-df-quickchart {\n",
              "    background-color: var(--bg-color);\n",
              "    border: none;\n",
              "    border-radius: 50%;\n",
              "    cursor: pointer;\n",
              "    display: none;\n",
              "    fill: var(--fill-color);\n",
              "    height: 32px;\n",
              "    padding: 0;\n",
              "    width: 32px;\n",
              "  }\n",
              "\n",
              "  .colab-df-quickchart:hover {\n",
              "    background-color: var(--hover-bg-color);\n",
              "    box-shadow: 0 1px 2px rgba(60, 64, 67, 0.3), 0 1px 3px 1px rgba(60, 64, 67, 0.15);\n",
              "    fill: var(--button-hover-fill-color);\n",
              "  }\n",
              "\n",
              "  .colab-df-quickchart-complete:disabled,\n",
              "  .colab-df-quickchart-complete:disabled:hover {\n",
              "    background-color: var(--disabled-bg-color);\n",
              "    fill: var(--disabled-fill-color);\n",
              "    box-shadow: none;\n",
              "  }\n",
              "\n",
              "  .colab-df-spinner {\n",
              "    border: 2px solid var(--fill-color);\n",
              "    border-color: transparent;\n",
              "    border-bottom-color: var(--fill-color);\n",
              "    animation:\n",
              "      spin 1s steps(1) infinite;\n",
              "  }\n",
              "\n",
              "  @keyframes spin {\n",
              "    0% {\n",
              "      border-color: transparent;\n",
              "      border-bottom-color: var(--fill-color);\n",
              "      border-left-color: var(--fill-color);\n",
              "    }\n",
              "    20% {\n",
              "      border-color: transparent;\n",
              "      border-left-color: var(--fill-color);\n",
              "      border-top-color: var(--fill-color);\n",
              "    }\n",
              "    30% {\n",
              "      border-color: transparent;\n",
              "      border-left-color: var(--fill-color);\n",
              "      border-top-color: var(--fill-color);\n",
              "      border-right-color: var(--fill-color);\n",
              "    }\n",
              "    40% {\n",
              "      border-color: transparent;\n",
              "      border-right-color: var(--fill-color);\n",
              "      border-top-color: var(--fill-color);\n",
              "    }\n",
              "    60% {\n",
              "      border-color: transparent;\n",
              "      border-right-color: var(--fill-color);\n",
              "    }\n",
              "    80% {\n",
              "      border-color: transparent;\n",
              "      border-right-color: var(--fill-color);\n",
              "      border-bottom-color: var(--fill-color);\n",
              "    }\n",
              "    90% {\n",
              "      border-color: transparent;\n",
              "      border-bottom-color: var(--fill-color);\n",
              "    }\n",
              "  }\n",
              "</style>\n",
              "\n",
              "  <script>\n",
              "    async function quickchart(key) {\n",
              "      const quickchartButtonEl =\n",
              "        document.querySelector('#' + key + ' button');\n",
              "      quickchartButtonEl.disabled = true;  // To prevent multiple clicks.\n",
              "      quickchartButtonEl.classList.add('colab-df-spinner');\n",
              "      try {\n",
              "        const charts = await google.colab.kernel.invokeFunction(\n",
              "            'suggestCharts', [key], {});\n",
              "      } catch (error) {\n",
              "        console.error('Error during call to suggestCharts:', error);\n",
              "      }\n",
              "      quickchartButtonEl.classList.remove('colab-df-spinner');\n",
              "      quickchartButtonEl.classList.add('colab-df-quickchart-complete');\n",
              "    }\n",
              "    (() => {\n",
              "      let quickchartButtonEl =\n",
              "        document.querySelector('#df-9ff0f083-7717-4b90-9a3d-9d103eca86cb button');\n",
              "      quickchartButtonEl.style.display =\n",
              "        google.colab.kernel.accessAllowed ? 'block' : 'none';\n",
              "    })();\n",
              "  </script>\n",
              "</div>\n",
              "\n",
              "    </div>\n",
              "  </div>\n"
            ],
            "application/vnd.google.colaboratory.intrinsic+json": {
              "type": "dataframe",
              "summary": "{\n  \"name\": \"df[['date_added' , 'date_added_month']]\",\n  \"rows\": 5,\n  \"fields\": [\n    {\n      \"column\": \"date_added\",\n      \"properties\": {\n        \"dtype\": \"object\",\n        \"num_unique_values\": 5,\n        \"samples\": [\n          \"December 23, 2016\",\n          \"January 1, 2020\",\n          \"December 20, 2018\"\n        ],\n        \"semantic_type\": \"\",\n        \"description\": \"\"\n      }\n    },\n    {\n      \"column\": \"date_added_month\",\n      \"properties\": {\n        \"dtype\": \"string\",\n        \"num_unique_values\": 4,\n        \"samples\": [\n          \"December\",\n          \"January\",\n          \"August\"\n        ],\n        \"semantic_type\": \"\",\n        \"description\": \"\"\n      }\n    }\n  ]\n}"
            }
          },
          "metadata": {},
          "execution_count": 109
        }
      ],
      "source": [
        "df['date_added_month'] = df['date_added'].apply(lambda x: x.split(\" \")[0])\n",
        "df[['date_added' , 'date_added_month']].head()"
      ]
    },
    {
      "cell_type": "code",
      "execution_count": null,
      "metadata": {
        "colab": {
          "base_uri": "https://localhost:8080/",
          "height": 425
        },
        "id": "2YlrFysg8xrm",
        "outputId": "8a553192-15d1-4fdd-fe77-6a201e698262"
      },
      "outputs": [
        {
          "output_type": "execute_result",
          "data": {
            "text/plain": [
              "   date_added_month  count\n",
              "0          December    817\n",
              "1           October    780\n",
              "2           January    746\n",
              "3          November    730\n",
              "4             March    661\n",
              "5         September    614\n",
              "6            August    612\n",
              "7             April    596\n",
              "8              July    592\n",
              "9              June    538\n",
              "10              May    537\n",
              "11         February    466"
            ],
            "text/html": [
              "\n",
              "  <div id=\"df-00c82ee0-5794-4838-bef0-d6a8e3a82264\" class=\"colab-df-container\">\n",
              "    <div>\n",
              "<style scoped>\n",
              "    .dataframe tbody tr th:only-of-type {\n",
              "        vertical-align: middle;\n",
              "    }\n",
              "\n",
              "    .dataframe tbody tr th {\n",
              "        vertical-align: top;\n",
              "    }\n",
              "\n",
              "    .dataframe thead th {\n",
              "        text-align: right;\n",
              "    }\n",
              "</style>\n",
              "<table border=\"1\" class=\"dataframe\">\n",
              "  <thead>\n",
              "    <tr style=\"text-align: right;\">\n",
              "      <th></th>\n",
              "      <th>date_added_month</th>\n",
              "      <th>count</th>\n",
              "    </tr>\n",
              "  </thead>\n",
              "  <tbody>\n",
              "    <tr>\n",
              "      <th>0</th>\n",
              "      <td>December</td>\n",
              "      <td>817</td>\n",
              "    </tr>\n",
              "    <tr>\n",
              "      <th>1</th>\n",
              "      <td>October</td>\n",
              "      <td>780</td>\n",
              "    </tr>\n",
              "    <tr>\n",
              "      <th>2</th>\n",
              "      <td>January</td>\n",
              "      <td>746</td>\n",
              "    </tr>\n",
              "    <tr>\n",
              "      <th>3</th>\n",
              "      <td>November</td>\n",
              "      <td>730</td>\n",
              "    </tr>\n",
              "    <tr>\n",
              "      <th>4</th>\n",
              "      <td>March</td>\n",
              "      <td>661</td>\n",
              "    </tr>\n",
              "    <tr>\n",
              "      <th>5</th>\n",
              "      <td>September</td>\n",
              "      <td>614</td>\n",
              "    </tr>\n",
              "    <tr>\n",
              "      <th>6</th>\n",
              "      <td>August</td>\n",
              "      <td>612</td>\n",
              "    </tr>\n",
              "    <tr>\n",
              "      <th>7</th>\n",
              "      <td>April</td>\n",
              "      <td>596</td>\n",
              "    </tr>\n",
              "    <tr>\n",
              "      <th>8</th>\n",
              "      <td>July</td>\n",
              "      <td>592</td>\n",
              "    </tr>\n",
              "    <tr>\n",
              "      <th>9</th>\n",
              "      <td>June</td>\n",
              "      <td>538</td>\n",
              "    </tr>\n",
              "    <tr>\n",
              "      <th>10</th>\n",
              "      <td>May</td>\n",
              "      <td>537</td>\n",
              "    </tr>\n",
              "    <tr>\n",
              "      <th>11</th>\n",
              "      <td>February</td>\n",
              "      <td>466</td>\n",
              "    </tr>\n",
              "  </tbody>\n",
              "</table>\n",
              "</div>\n",
              "    <div class=\"colab-df-buttons\">\n",
              "\n",
              "  <div class=\"colab-df-container\">\n",
              "    <button class=\"colab-df-convert\" onclick=\"convertToInteractive('df-00c82ee0-5794-4838-bef0-d6a8e3a82264')\"\n",
              "            title=\"Convert this dataframe to an interactive table.\"\n",
              "            style=\"display:none;\">\n",
              "\n",
              "  <svg xmlns=\"http://www.w3.org/2000/svg\" height=\"24px\" viewBox=\"0 -960 960 960\">\n",
              "    <path d=\"M120-120v-720h720v720H120Zm60-500h600v-160H180v160Zm220 220h160v-160H400v160Zm0 220h160v-160H400v160ZM180-400h160v-160H180v160Zm440 0h160v-160H620v160ZM180-180h160v-160H180v160Zm440 0h160v-160H620v160Z\"/>\n",
              "  </svg>\n",
              "    </button>\n",
              "\n",
              "  <style>\n",
              "    .colab-df-container {\n",
              "      display:flex;\n",
              "      gap: 12px;\n",
              "    }\n",
              "\n",
              "    .colab-df-convert {\n",
              "      background-color: #E8F0FE;\n",
              "      border: none;\n",
              "      border-radius: 50%;\n",
              "      cursor: pointer;\n",
              "      display: none;\n",
              "      fill: #1967D2;\n",
              "      height: 32px;\n",
              "      padding: 0 0 0 0;\n",
              "      width: 32px;\n",
              "    }\n",
              "\n",
              "    .colab-df-convert:hover {\n",
              "      background-color: #E2EBFA;\n",
              "      box-shadow: 0px 1px 2px rgba(60, 64, 67, 0.3), 0px 1px 3px 1px rgba(60, 64, 67, 0.15);\n",
              "      fill: #174EA6;\n",
              "    }\n",
              "\n",
              "    .colab-df-buttons div {\n",
              "      margin-bottom: 4px;\n",
              "    }\n",
              "\n",
              "    [theme=dark] .colab-df-convert {\n",
              "      background-color: #3B4455;\n",
              "      fill: #D2E3FC;\n",
              "    }\n",
              "\n",
              "    [theme=dark] .colab-df-convert:hover {\n",
              "      background-color: #434B5C;\n",
              "      box-shadow: 0px 1px 3px 1px rgba(0, 0, 0, 0.15);\n",
              "      filter: drop-shadow(0px 1px 2px rgba(0, 0, 0, 0.3));\n",
              "      fill: #FFFFFF;\n",
              "    }\n",
              "  </style>\n",
              "\n",
              "    <script>\n",
              "      const buttonEl =\n",
              "        document.querySelector('#df-00c82ee0-5794-4838-bef0-d6a8e3a82264 button.colab-df-convert');\n",
              "      buttonEl.style.display =\n",
              "        google.colab.kernel.accessAllowed ? 'block' : 'none';\n",
              "\n",
              "      async function convertToInteractive(key) {\n",
              "        const element = document.querySelector('#df-00c82ee0-5794-4838-bef0-d6a8e3a82264');\n",
              "        const dataTable =\n",
              "          await google.colab.kernel.invokeFunction('convertToInteractive',\n",
              "                                                    [key], {});\n",
              "        if (!dataTable) return;\n",
              "\n",
              "        const docLinkHtml = 'Like what you see? Visit the ' +\n",
              "          '<a target=\"_blank\" href=https://colab.research.google.com/notebooks/data_table.ipynb>data table notebook</a>'\n",
              "          + ' to learn more about interactive tables.';\n",
              "        element.innerHTML = '';\n",
              "        dataTable['output_type'] = 'display_data';\n",
              "        await google.colab.output.renderOutput(dataTable, element);\n",
              "        const docLink = document.createElement('div');\n",
              "        docLink.innerHTML = docLinkHtml;\n",
              "        element.appendChild(docLink);\n",
              "      }\n",
              "    </script>\n",
              "  </div>\n",
              "\n",
              "\n",
              "<div id=\"df-87fcbf74-2099-4450-b526-5fc484e79856\">\n",
              "  <button class=\"colab-df-quickchart\" onclick=\"quickchart('df-87fcbf74-2099-4450-b526-5fc484e79856')\"\n",
              "            title=\"Suggest charts\"\n",
              "            style=\"display:none;\">\n",
              "\n",
              "<svg xmlns=\"http://www.w3.org/2000/svg\" height=\"24px\"viewBox=\"0 0 24 24\"\n",
              "     width=\"24px\">\n",
              "    <g>\n",
              "        <path d=\"M19 3H5c-1.1 0-2 .9-2 2v14c0 1.1.9 2 2 2h14c1.1 0 2-.9 2-2V5c0-1.1-.9-2-2-2zM9 17H7v-7h2v7zm4 0h-2V7h2v10zm4 0h-2v-4h2v4z\"/>\n",
              "    </g>\n",
              "</svg>\n",
              "  </button>\n",
              "\n",
              "<style>\n",
              "  .colab-df-quickchart {\n",
              "      --bg-color: #E8F0FE;\n",
              "      --fill-color: #1967D2;\n",
              "      --hover-bg-color: #E2EBFA;\n",
              "      --hover-fill-color: #174EA6;\n",
              "      --disabled-fill-color: #AAA;\n",
              "      --disabled-bg-color: #DDD;\n",
              "  }\n",
              "\n",
              "  [theme=dark] .colab-df-quickchart {\n",
              "      --bg-color: #3B4455;\n",
              "      --fill-color: #D2E3FC;\n",
              "      --hover-bg-color: #434B5C;\n",
              "      --hover-fill-color: #FFFFFF;\n",
              "      --disabled-bg-color: #3B4455;\n",
              "      --disabled-fill-color: #666;\n",
              "  }\n",
              "\n",
              "  .colab-df-quickchart {\n",
              "    background-color: var(--bg-color);\n",
              "    border: none;\n",
              "    border-radius: 50%;\n",
              "    cursor: pointer;\n",
              "    display: none;\n",
              "    fill: var(--fill-color);\n",
              "    height: 32px;\n",
              "    padding: 0;\n",
              "    width: 32px;\n",
              "  }\n",
              "\n",
              "  .colab-df-quickchart:hover {\n",
              "    background-color: var(--hover-bg-color);\n",
              "    box-shadow: 0 1px 2px rgba(60, 64, 67, 0.3), 0 1px 3px 1px rgba(60, 64, 67, 0.15);\n",
              "    fill: var(--button-hover-fill-color);\n",
              "  }\n",
              "\n",
              "  .colab-df-quickchart-complete:disabled,\n",
              "  .colab-df-quickchart-complete:disabled:hover {\n",
              "    background-color: var(--disabled-bg-color);\n",
              "    fill: var(--disabled-fill-color);\n",
              "    box-shadow: none;\n",
              "  }\n",
              "\n",
              "  .colab-df-spinner {\n",
              "    border: 2px solid var(--fill-color);\n",
              "    border-color: transparent;\n",
              "    border-bottom-color: var(--fill-color);\n",
              "    animation:\n",
              "      spin 1s steps(1) infinite;\n",
              "  }\n",
              "\n",
              "  @keyframes spin {\n",
              "    0% {\n",
              "      border-color: transparent;\n",
              "      border-bottom-color: var(--fill-color);\n",
              "      border-left-color: var(--fill-color);\n",
              "    }\n",
              "    20% {\n",
              "      border-color: transparent;\n",
              "      border-left-color: var(--fill-color);\n",
              "      border-top-color: var(--fill-color);\n",
              "    }\n",
              "    30% {\n",
              "      border-color: transparent;\n",
              "      border-left-color: var(--fill-color);\n",
              "      border-top-color: var(--fill-color);\n",
              "      border-right-color: var(--fill-color);\n",
              "    }\n",
              "    40% {\n",
              "      border-color: transparent;\n",
              "      border-right-color: var(--fill-color);\n",
              "      border-top-color: var(--fill-color);\n",
              "    }\n",
              "    60% {\n",
              "      border-color: transparent;\n",
              "      border-right-color: var(--fill-color);\n",
              "    }\n",
              "    80% {\n",
              "      border-color: transparent;\n",
              "      border-right-color: var(--fill-color);\n",
              "      border-bottom-color: var(--fill-color);\n",
              "    }\n",
              "    90% {\n",
              "      border-color: transparent;\n",
              "      border-bottom-color: var(--fill-color);\n",
              "    }\n",
              "  }\n",
              "</style>\n",
              "\n",
              "  <script>\n",
              "    async function quickchart(key) {\n",
              "      const quickchartButtonEl =\n",
              "        document.querySelector('#' + key + ' button');\n",
              "      quickchartButtonEl.disabled = true;  // To prevent multiple clicks.\n",
              "      quickchartButtonEl.classList.add('colab-df-spinner');\n",
              "      try {\n",
              "        const charts = await google.colab.kernel.invokeFunction(\n",
              "            'suggestCharts', [key], {});\n",
              "      } catch (error) {\n",
              "        console.error('Error during call to suggestCharts:', error);\n",
              "      }\n",
              "      quickchartButtonEl.classList.remove('colab-df-spinner');\n",
              "      quickchartButtonEl.classList.add('colab-df-quickchart-complete');\n",
              "    }\n",
              "    (() => {\n",
              "      let quickchartButtonEl =\n",
              "        document.querySelector('#df-87fcbf74-2099-4450-b526-5fc484e79856 button');\n",
              "      quickchartButtonEl.style.display =\n",
              "        google.colab.kernel.accessAllowed ? 'block' : 'none';\n",
              "    })();\n",
              "  </script>\n",
              "</div>\n",
              "\n",
              "  <div id=\"id_4f29436c-bb35-45b2-8f4a-c3b6a8d71514\">\n",
              "    <style>\n",
              "      .colab-df-generate {\n",
              "        background-color: #E8F0FE;\n",
              "        border: none;\n",
              "        border-radius: 50%;\n",
              "        cursor: pointer;\n",
              "        display: none;\n",
              "        fill: #1967D2;\n",
              "        height: 32px;\n",
              "        padding: 0 0 0 0;\n",
              "        width: 32px;\n",
              "      }\n",
              "\n",
              "      .colab-df-generate:hover {\n",
              "        background-color: #E2EBFA;\n",
              "        box-shadow: 0px 1px 2px rgba(60, 64, 67, 0.3), 0px 1px 3px 1px rgba(60, 64, 67, 0.15);\n",
              "        fill: #174EA6;\n",
              "      }\n",
              "\n",
              "      [theme=dark] .colab-df-generate {\n",
              "        background-color: #3B4455;\n",
              "        fill: #D2E3FC;\n",
              "      }\n",
              "\n",
              "      [theme=dark] .colab-df-generate:hover {\n",
              "        background-color: #434B5C;\n",
              "        box-shadow: 0px 1px 3px 1px rgba(0, 0, 0, 0.15);\n",
              "        filter: drop-shadow(0px 1px 2px rgba(0, 0, 0, 0.3));\n",
              "        fill: #FFFFFF;\n",
              "      }\n",
              "    </style>\n",
              "    <button class=\"colab-df-generate\" onclick=\"generateWithVariable('ab')\"\n",
              "            title=\"Generate code using this dataframe.\"\n",
              "            style=\"display:none;\">\n",
              "\n",
              "  <svg xmlns=\"http://www.w3.org/2000/svg\" height=\"24px\"viewBox=\"0 0 24 24\"\n",
              "       width=\"24px\">\n",
              "    <path d=\"M7,19H8.4L18.45,9,17,7.55,7,17.6ZM5,21V16.75L18.45,3.32a2,2,0,0,1,2.83,0l1.4,1.43a1.91,1.91,0,0,1,.58,1.4,1.91,1.91,0,0,1-.58,1.4L9.25,21ZM18.45,9,17,7.55Zm-12,3A5.31,5.31,0,0,0,4.9,8.1,5.31,5.31,0,0,0,1,6.5,5.31,5.31,0,0,0,4.9,4.9,5.31,5.31,0,0,0,6.5,1,5.31,5.31,0,0,0,8.1,4.9,5.31,5.31,0,0,0,12,6.5,5.46,5.46,0,0,0,6.5,12Z\"/>\n",
              "  </svg>\n",
              "    </button>\n",
              "    <script>\n",
              "      (() => {\n",
              "      const buttonEl =\n",
              "        document.querySelector('#id_4f29436c-bb35-45b2-8f4a-c3b6a8d71514 button.colab-df-generate');\n",
              "      buttonEl.style.display =\n",
              "        google.colab.kernel.accessAllowed ? 'block' : 'none';\n",
              "\n",
              "      buttonEl.onclick = () => {\n",
              "        google.colab.notebook.generateWithVariable('ab');\n",
              "      }\n",
              "      })();\n",
              "    </script>\n",
              "  </div>\n",
              "\n",
              "    </div>\n",
              "  </div>\n"
            ],
            "application/vnd.google.colaboratory.intrinsic+json": {
              "type": "dataframe",
              "variable_name": "ab",
              "summary": "{\n  \"name\": \"ab\",\n  \"rows\": 12,\n  \"fields\": [\n    {\n      \"column\": \"date_added_month\",\n      \"properties\": {\n        \"dtype\": \"string\",\n        \"num_unique_values\": 12,\n        \"samples\": [\n          \"May\",\n          \"June\",\n          \"December\"\n        ],\n        \"semantic_type\": \"\",\n        \"description\": \"\"\n      }\n    },\n    {\n      \"column\": \"count\",\n      \"properties\": {\n        \"dtype\": \"number\",\n        \"std\": 107,\n        \"min\": 466,\n        \"max\": 817,\n        \"num_unique_values\": 12,\n        \"samples\": [\n          537,\n          538,\n          817\n        ],\n        \"semantic_type\": \"\",\n        \"description\": \"\"\n      }\n    }\n  ]\n}"
            }
          },
          "metadata": {},
          "execution_count": 110
        }
      ],
      "source": [
        "month_df=df['date_added_month'].value_counts().reset_index()\n",
        "month_df.rename(columns={'index': 'Month_Name'}, inplace=True)\n",
        "month_df.rename(columns={'month': 'Count'}, inplace=True)\n",
        "ab = month_df.loc[0:11]\n",
        "ab"
      ]
    },
    {
      "cell_type": "code",
      "execution_count": null,
      "metadata": {
        "id": "ol_rWTFF9MQU"
      },
      "outputs": [],
      "source": [
        "month_names = ab.date_added_month.values\n",
        "month_wise_count = ab.date_added_month.values"
      ]
    },
    {
      "cell_type": "code",
      "execution_count": null,
      "metadata": {
        "colab": {
          "base_uri": "https://localhost:8080/",
          "height": 752
        },
        "id": "xIgM9_Xy9nAc",
        "outputId": "d1b00a6a-7eae-4aaf-ad79-4a8d613e774f"
      },
      "outputs": [
        {
          "output_type": "execute_result",
          "data": {
            "text/plain": [
              "Text(0, 0.5, 'Count')"
            ]
          },
          "metadata": {},
          "execution_count": 206
        },
        {
          "output_type": "display_data",
          "data": {
            "text/plain": [
              "<Figure size 1200x800 with 1 Axes>"
            ],
            "image/png": "[encoded data removed]"
          },
          "metadata": {}
        }
      ],
      "source": [
        "plt.figure(figsize = (12 ,8 ))\n",
        "plt.bar(month_names , month_wise_count, width = 0.91)\n",
        "plt.title(\"Month wise content barplot\" , fontsize = 19)\n",
        "plt.xlabel(\"Month\" , fontsize = 15)\n",
        "plt.ylabel(\"Count\" , fontsize = 15)"
      ]
    },
    {
      "cell_type": "markdown",
      "metadata": {
        "id": "oUrg6407dO8x"
      },
      "source": [
        "1. Why did you pick the specific chart?"
      ]
    },
    {
      "cell_type": "markdown",
      "metadata": {
        "id": "D0GquhukdUK7"
      },
      "source": [
        "Bar charts allow for easy comparison of values across different categories. The length of each bar directly represents the magnitude of the value associated with that category, making it intuitive to identify which categories have higher or lower values."
      ]
    },
    {
      "cell_type": "markdown",
      "metadata": {
        "id": "3I0NB4XmdUwu"
      },
      "source": [
        "2. What is/are the insight(s) found from the chart?"
      ]
    },
    {
      "cell_type": "markdown",
      "metadata": {
        "id": "4YeLCHGldYnb"
      },
      "source": []
    },
    {
      "cell_type": "markdown",
      "metadata": {
        "id": "GFkGY1_ZdZCW"
      },
      "source": [
        "3. Will the gained insights help creating a positive business impact?"
      ]
    },
    {
      "cell_type": "markdown",
      "metadata": {
        "id": "s0pm2TZndc0y"
      },
      "source": [
        "Yes, it helps in creating a positive impact. We can say that December is the holiday season and it also has Christmas, so in that month most of the content got uploaded."
      ]
    },
    {
      "cell_type": "code",
      "execution_count": null,
      "metadata": {
        "colab": {
          "base_uri": "https://localhost:8080/",
          "height": 80
        },
        "id": "xjP-edpZC19V",
        "outputId": "409705c0-098a-42d5-f355-b0c91c638d91"
      },
      "outputs": [
        {
          "output_type": "execute_result",
          "data": {
            "text/plain": [
              "date_added_month  December  October  January  November  March  September  \\\n",
              "count                  817      780      746       730    661        614   \n",
              "\n",
              "date_added_month  August  April  July  June  May  February      \n",
              "count                612    596   592   538  537       466  88  "
            ],
            "text/html": [
              "\n",
              "  <div id=\"df-d79f9412-c8be-4f88-b447-ce1b92411a78\" class=\"colab-df-container\">\n",
              "    <div>\n",
              "<style scoped>\n",
              "    .dataframe tbody tr th:only-of-type {\n",
              "        vertical-align: middle;\n",
              "    }\n",
              "\n",
              "    .dataframe tbody tr th {\n",
              "        vertical-align: top;\n",
              "    }\n",
              "\n",
              "    .dataframe thead th {\n",
              "        text-align: right;\n",
              "    }\n",
              "</style>\n",
              "<table border=\"1\" class=\"dataframe\">\n",
              "  <thead>\n",
              "    <tr style=\"text-align: right;\">\n",
              "      <th>date_added_month</th>\n",
              "      <th>December</th>\n",
              "      <th>October</th>\n",
              "      <th>January</th>\n",
              "      <th>November</th>\n",
              "      <th>March</th>\n",
              "      <th>September</th>\n",
              "      <th>August</th>\n",
              "      <th>April</th>\n",
              "      <th>July</th>\n",
              "      <th>June</th>\n",
              "      <th>May</th>\n",
              "      <th>February</th>\n",
              "      <th></th>\n",
              "    </tr>\n",
              "  </thead>\n",
              "  <tbody>\n",
              "    <tr>\n",
              "      <th>count</th>\n",
              "      <td>817</td>\n",
              "      <td>780</td>\n",
              "      <td>746</td>\n",
              "      <td>730</td>\n",
              "      <td>661</td>\n",
              "      <td>614</td>\n",
              "      <td>612</td>\n",
              "      <td>596</td>\n",
              "      <td>592</td>\n",
              "      <td>538</td>\n",
              "      <td>537</td>\n",
              "      <td>466</td>\n",
              "      <td>88</td>\n",
              "    </tr>\n",
              "  </tbody>\n",
              "</table>\n",
              "</div>\n",
              "    <div class=\"colab-df-buttons\">\n",
              "\n",
              "  <div class=\"colab-df-container\">\n",
              "    <button class=\"colab-df-convert\" onclick=\"convertToInteractive('df-d79f9412-c8be-4f88-b447-ce1b92411a78')\"\n",
              "            title=\"Convert this dataframe to an interactive table.\"\n",
              "            style=\"display:none;\">\n",
              "\n",
              "  <svg xmlns=\"http://www.w3.org/2000/svg\" height=\"24px\" viewBox=\"0 -960 960 960\">\n",
              "    <path d=\"M120-120v-720h720v720H120Zm60-500h600v-160H180v160Zm220 220h160v-160H400v160Zm0 220h160v-160H400v160ZM180-400h160v-160H180v160Zm440 0h160v-160H620v160ZM180-180h160v-160H180v160Zm440 0h160v-160H620v160Z\"/>\n",
              "  </svg>\n",
              "    </button>\n",
              "\n",
              "  <style>\n",
              "    .colab-df-container {\n",
              "      display:flex;\n",
              "      gap: 12px;\n",
              "    }\n",
              "\n",
              "    .colab-df-convert {\n",
              "      background-color: #E8F0FE;\n",
              "      border: none;\n",
              "      border-radius: 50%;\n",
              "      cursor: pointer;\n",
              "      display: none;\n",
              "      fill: #1967D2;\n",
              "      height: 32px;\n",
              "      padding: 0 0 0 0;\n",
              "      width: 32px;\n",
              "    }\n",
              "\n",
              "    .colab-df-convert:hover {\n",
              "      background-color: #E2EBFA;\n",
              "      box-shadow: 0px 1px 2px rgba(60, 64, 67, 0.3), 0px 1px 3px 1px rgba(60, 64, 67, 0.15);\n",
              "      fill: #174EA6;\n",
              "    }\n",
              "\n",
              "    .colab-df-buttons div {\n",
              "      margin-bottom: 4px;\n",
              "    }\n",
              "\n",
              "    [theme=dark] .colab-df-convert {\n",
              "      background-color: #3B4455;\n",
              "      fill: #D2E3FC;\n",
              "    }\n",
              "\n",
              "    [theme=dark] .colab-df-convert:hover {\n",
              "      background-color: #434B5C;\n",
              "      box-shadow: 0px 1px 3px 1px rgba(0, 0, 0, 0.15);\n",
              "      filter: drop-shadow(0px 1px 2px rgba(0, 0, 0, 0.3));\n",
              "      fill: #FFFFFF;\n",
              "    }\n",
              "  </style>\n",
              "\n",
              "    <script>\n",
              "      const buttonEl =\n",
              "        document.querySelector('#df-d79f9412-c8be-4f88-b447-ce1b92411a78 button.colab-df-convert');\n",
              "      buttonEl.style.display =\n",
              "        google.colab.kernel.accessAllowed ? 'block' : 'none';\n",
              "\n",
              "      async function convertToInteractive(key) {\n",
              "        const element = document.querySelector('#df-d79f9412-c8be-4f88-b447-ce1b92411a78');\n",
              "        const dataTable =\n",
              "          await google.colab.kernel.invokeFunction('convertToInteractive',\n",
              "                                                    [key], {});\n",
              "        if (!dataTable) return;\n",
              "\n",
              "        const docLinkHtml = 'Like what you see? Visit the ' +\n",
              "          '<a target=\"_blank\" href=https://colab.research.google.com/notebooks/data_table.ipynb>data table notebook</a>'\n",
              "          + ' to learn more about interactive tables.';\n",
              "        element.innerHTML = '';\n",
              "        dataTable['output_type'] = 'display_data';\n",
              "        await google.colab.output.renderOutput(dataTable, element);\n",
              "        const docLink = document.createElement('div');\n",
              "        docLink.innerHTML = docLinkHtml;\n",
              "        element.appendChild(docLink);\n",
              "      }\n",
              "    </script>\n",
              "  </div>\n",
              "\n",
              "\n",
              "    </div>\n",
              "  </div>\n"
            ],
            "application/vnd.google.colaboratory.intrinsic+json": {
              "type": "dataframe",
              "summary": "{\n  \"name\": \"df\",\n  \"rows\": 1,\n  \"fields\": [\n    {\n      \"column\": \"December\",\n      \"properties\": {\n        \"dtype\": \"number\",\n        \"std\": null,\n        \"min\": 817,\n        \"max\": 817,\n        \"num_unique_values\": 1,\n        \"samples\": [\n          817\n        ],\n        \"semantic_type\": \"\",\n        \"description\": \"\"\n      }\n    },\n    {\n      \"column\": \"October\",\n      \"properties\": {\n        \"dtype\": \"number\",\n        \"std\": null,\n        \"min\": 780,\n        \"max\": 780,\n        \"num_unique_values\": 1,\n        \"samples\": [\n          780\n        ],\n        \"semantic_type\": \"\",\n        \"description\": \"\"\n      }\n    },\n    {\n      \"column\": \"January\",\n      \"properties\": {\n        \"dtype\": \"number\",\n        \"std\": null,\n        \"min\": 746,\n        \"max\": 746,\n        \"num_unique_values\": 1,\n        \"samples\": [\n          746\n        ],\n        \"semantic_type\": \"\",\n        \"description\": \"\"\n      }\n    },\n    {\n      \"column\": \"November\",\n      \"properties\": {\n        \"dtype\": \"number\",\n        \"std\": null,\n        \"min\": 730,\n        \"max\": 730,\n        \"num_unique_values\": 1,\n        \"samples\": [\n          730\n        ],\n        \"semantic_type\": \"\",\n        \"description\": \"\"\n      }\n    },\n    {\n      \"column\": \"March\",\n      \"properties\": {\n        \"dtype\": \"number\",\n        \"std\": null,\n        \"min\": 661,\n        \"max\": 661,\n        \"num_unique_values\": 1,\n        \"samples\": [\n          661\n        ],\n        \"semantic_type\": \"\",\n        \"description\": \"\"\n      }\n    },\n    {\n      \"column\": \"September\",\n      \"properties\": {\n        \"dtype\": \"number\",\n        \"std\": null,\n        \"min\": 614,\n        \"max\": 614,\n        \"num_unique_values\": 1,\n        \"samples\": [\n          614\n        ],\n        \"semantic_type\": \"\",\n        \"description\": \"\"\n      }\n    },\n    {\n      \"column\": \"August\",\n      \"properties\": {\n        \"dtype\": \"number\",\n        \"std\": null,\n        \"min\": 612,\n        \"max\": 612,\n        \"num_unique_values\": 1,\n        \"samples\": [\n          612\n        ],\n        \"semantic_type\": \"\",\n        \"description\": \"\"\n      }\n    },\n    {\n      \"column\": \"April\",\n      \"properties\": {\n        \"dtype\": \"number\",\n        \"std\": null,\n        \"min\": 596,\n        \"max\": 596,\n        \"num_unique_values\": 1,\n        \"samples\": [\n          596\n        ],\n        \"semantic_type\": \"\",\n        \"description\": \"\"\n      }\n    },\n    {\n      \"column\": \"July\",\n      \"properties\": {\n        \"dtype\": \"number\",\n        \"std\": null,\n        \"min\": 592,\n        \"max\": 592,\n        \"num_unique_values\": 1,\n        \"samples\": [\n          592\n        ],\n        \"semantic_type\": \"\",\n        \"description\": \"\"\n      }\n    },\n    {\n      \"column\": \"June\",\n      \"properties\": {\n        \"dtype\": \"number\",\n        \"std\": null,\n        \"min\": 538,\n        \"max\": 538,\n        \"num_unique_values\": 1,\n        \"samples\": [\n          538\n        ],\n        \"semantic_type\": \"\",\n        \"description\": \"\"\n      }\n    },\n    {\n      \"column\": \"May\",\n      \"properties\": {\n        \"dtype\": \"number\",\n        \"std\": null,\n        \"min\": 537,\n        \"max\": 537,\n        \"num_unique_values\": 1,\n        \"samples\": [\n          537\n        ],\n        \"semantic_type\": \"\",\n        \"description\": \"\"\n      }\n    },\n    {\n      \"column\": \"February\",\n      \"properties\": {\n        \"dtype\": \"number\",\n        \"std\": null,\n        \"min\": 466,\n        \"max\": 466,\n        \"num_unique_values\": 1,\n        \"samples\": [\n          466\n        ],\n        \"semantic_type\": \"\",\n        \"description\": \"\"\n      }\n    },\n    {\n      \"column\": \"\",\n      \"properties\": {\n        \"dtype\": \"number\",\n        \"std\": null,\n        \"min\": 88,\n        \"max\": 88,\n        \"num_unique_values\": 1,\n        \"samples\": [\n          88\n        ],\n        \"semantic_type\": \"\",\n        \"description\": \"\"\n      }\n    }\n  ]\n}"
            }
          },
          "metadata": {},
          "execution_count": 113
        }
      ],
      "source": [
        "df.date_added_month.value_counts().to_frame().T"
      ]
    },
    {
      "cell_type": "markdown",
      "metadata": {
        "id": "K6Ne6dyUuEe7"
      },
      "source": [
        "* ### 4.13 **show_id**"
      ]
    },
    {
      "cell_type": "code",
      "execution_count": null,
      "metadata": {
        "colab": {
          "base_uri": "https://localhost:8080/"
        },
        "id": "WrXDa24JvEDm",
        "outputId": "ee6beb3a-1dd9-4188-d0f2-df90f9e6a23e"
      },
      "outputs": [
        {
          "output_type": "execute_result",
          "data": {
            "text/plain": [
              "Index(['show_id', 'type', 'title', 'country', 'date_added', 'release_year',\n",
              "       'rating', 'duration', 'listed_in', 'description', 'no_of_category',\n",
              "       'date_added_month'],\n",
              "      dtype='object')"
            ]
          },
          "metadata": {},
          "execution_count": 114
        }
      ],
      "source": [
        "df.columns"
      ]
    },
    {
      "cell_type": "markdown",
      "metadata": {
        "id": "zrHVzo7MulPx"
      },
      "source": [
        "* #### 4.13.1 Checking NaN values"
      ]
    },
    {
      "cell_type": "code",
      "execution_count": null,
      "metadata": {
        "colab": {
          "base_uri": "https://localhost:8080/"
        },
        "id": "B3Ul-X6nvGAQ",
        "outputId": "f47e6fd0-93f8-41cc-dff1-bed10a3061bf"
      },
      "outputs": [
        {
          "output_type": "execute_result",
          "data": {
            "text/plain": [
              "0"
            ]
          },
          "metadata": {},
          "execution_count": 115
        }
      ],
      "source": [
        "df.show_id.isna().sum()"
      ]
    },
    {
      "cell_type": "markdown",
      "metadata": {
        "id": "50ULECZpvJyM"
      },
      "source": [
        "There is no NaN value present in show_id"
      ]
    },
    {
      "cell_type": "markdown",
      "metadata": {
        "id": "haiiheplulMB"
      },
      "source": [
        "* #### 4.13.2 Using *value_counts()*"
      ]
    },
    {
      "cell_type": "code",
      "execution_count": null,
      "metadata": {
        "colab": {
          "base_uri": "https://localhost:8080/"
        },
        "id": "fHk7PPUmvOCv",
        "outputId": "ffcf17ba-aca8-496c-d6d8-c3aa3f6a1dd2"
      },
      "outputs": [
        {
          "output_type": "execute_result",
          "data": {
            "text/plain": [
              "show_id\n",
              "s1       1\n",
              "s5175    1\n",
              "s5203    1\n",
              "s5202    1\n",
              "s5201    1\n",
              "        ..\n",
              "s2594    1\n",
              "s2593    1\n",
              "s2592    1\n",
              "s2591    1\n",
              "s7787    1\n",
              "Name: count, Length: 7777, dtype: int64"
            ]
          },
          "metadata": {},
          "execution_count": 116
        }
      ],
      "source": [
        "df.show_id.value_counts()"
      ]
    },
    {
      "cell_type": "code",
      "execution_count": null,
      "metadata": {
        "colab": {
          "base_uri": "https://localhost:8080/"
        },
        "id": "g5PE4PU6vVjl",
        "outputId": "c031e27b-d3f2-47e3-f5d0-8a79028182f0"
      },
      "outputs": [
        {
          "output_type": "execute_result",
          "data": {
            "text/plain": [
              "7777"
            ]
          },
          "metadata": {},
          "execution_count": 117
        }
      ],
      "source": [
        "df.shape[0]"
      ]
    },
    {
      "cell_type": "markdown",
      "metadata": {
        "id": "krOK2YGjvXef"
      },
      "source": [
        "All the *show_id* is **unique**"
      ]
    },
    {
      "cell_type": "markdown",
      "metadata": {
        "id": "4xo3Cc_8ulJl"
      },
      "source": [
        "* #### 4.13.3 Checking datatype"
      ]
    },
    {
      "cell_type": "code",
      "execution_count": null,
      "metadata": {
        "colab": {
          "base_uri": "https://localhost:8080/"
        },
        "id": "n1Aosx-CvszZ",
        "outputId": "b7ce0dcd-8ce4-464d-9965-a1469f5b57c0"
      },
      "outputs": [
        {
          "output_type": "execute_result",
          "data": {
            "text/plain": [
              "str"
            ]
          },
          "metadata": {},
          "execution_count": 118
        }
      ],
      "source": [
        "type(df.show_id.iloc[0])"
      ]
    },
    {
      "cell_type": "code",
      "execution_count": null,
      "metadata": {
        "colab": {
          "base_uri": "https://localhost:8080/"
        },
        "id": "Y6Aq8WlswL_S",
        "outputId": "50eb59d8-0835-43bf-f879-58294cb8b4f5"
      },
      "outputs": [
        {
          "output_type": "execute_result",
          "data": {
            "text/plain": [
              "rating\n",
              "TV-MA       2861\n",
              "TV-14       1928\n",
              "TV-PG        804\n",
              "R            665\n",
              "PG-13        386\n",
              "TV-Y         279\n",
              "TV-Y7        270\n",
              "PG           247\n",
              "TV-G         194\n",
              "NR            83\n",
              "G             39\n",
              "TV-Y7-FV       6\n",
              "UR             5\n",
              "NC-17          3\n",
              "Name: count, dtype: int64"
            ]
          },
          "metadata": {},
          "execution_count": 119
        }
      ],
      "source": [
        "df.rating.value_counts()"
      ]
    },
    {
      "cell_type": "markdown",
      "metadata": {
        "id": "YbYTyDyUukpd"
      },
      "source": [
        "* #### 4.13.4 Most popular *TV-Shows Rating*"
      ]
    },
    {
      "cell_type": "code",
      "execution_count": null,
      "metadata": {
        "colab": {
          "base_uri": "https://localhost:8080/"
        },
        "id": "5p9EXqY1wW36",
        "outputId": "51e17d86-2075-4657-a022-b159954325aa"
      },
      "outputs": [
        {
          "output_type": "execute_result",
          "data": {
            "text/plain": [
              "array(['TV Show', 'Movie'], dtype=object)"
            ]
          },
          "metadata": {},
          "execution_count": 120
        }
      ],
      "source": [
        "df['type'].unique()"
      ]
    },
    {
      "cell_type": "code",
      "execution_count": null,
      "metadata": {
        "colab": {
          "base_uri": "https://localhost:8080/",
          "height": 216
        },
        "id": "FW6ak5hzwSlN",
        "outputId": "f54e7305-a4de-4392-ea0f-f36993912157"
      },
      "outputs": [
        {
          "output_type": "execute_result",
          "data": {
            "text/plain": [
              "  show_id     type title country       date_added  release_year rating  \\\n",
              "0      s1  TV Show    3%  Brazil  August 14, 2020          2020  TV-MA   \n",
              "5      s6  TV Show    46  Turkey     July 1, 2017          2016  TV-MA   \n",
              "\n",
              "   duration                                          listed_in  \\\n",
              "0      1100  International TV Shows, TV Dramas, TV Sci-Fi &...   \n",
              "5       275    International TV Shows, TV Dramas, TV Mysteries   \n",
              "\n",
              "                                         description  no_of_category  \\\n",
              "0  In a future where the elite inhabit an island ...               3   \n",
              "5  A genetics professor experiments with a treatm...               3   \n",
              "\n",
              "  date_added_month  \n",
              "0           August  \n",
              "5             July  "
            ],
            "text/html": [
              "\n",
              "  <div id=\"df-3c7b1d24-53ef-4751-be83-89c7b47c206f\" class=\"colab-df-container\">\n",
              "    <div>\n",
              "<style scoped>\n",
              "    .dataframe tbody tr th:only-of-type {\n",
              "        vertical-align: middle;\n",
              "    }\n",
              "\n",
              "    .dataframe tbody tr th {\n",
              "        vertical-align: top;\n",
              "    }\n",
              "\n",
              "    .dataframe thead th {\n",
              "        text-align: right;\n",
              "    }\n",
              "</style>\n",
              "<table border=\"1\" class=\"dataframe\">\n",
              "  <thead>\n",
              "    <tr style=\"text-align: right;\">\n",
              "      <th></th>\n",
              "      <th>show_id</th>\n",
              "      <th>type</th>\n",
              "      <th>title</th>\n",
              "      <th>country</th>\n",
              "      <th>date_added</th>\n",
              "      <th>release_year</th>\n",
              "      <th>rating</th>\n",
              "      <th>duration</th>\n",
              "      <th>listed_in</th>\n",
              "      <th>description</th>\n",
              "      <th>no_of_category</th>\n",
              "      <th>date_added_month</th>\n",
              "    </tr>\n",
              "  </thead>\n",
              "  <tbody>\n",
              "    <tr>\n",
              "      <th>0</th>\n",
              "      <td>s1</td>\n",
              "      <td>TV Show</td>\n",
              "      <td>3%</td>\n",
              "      <td>Brazil</td>\n",
              "      <td>August 14, 2020</td>\n",
              "      <td>2020</td>\n",
              "      <td>TV-MA</td>\n",
              "      <td>1100</td>\n",
              "      <td>International TV Shows, TV Dramas, TV Sci-Fi &amp;...</td>\n",
              "      <td>In a future where the elite inhabit an island ...</td>\n",
              "      <td>3</td>\n",
              "      <td>August</td>\n",
              "    </tr>\n",
              "    <tr>\n",
              "      <th>5</th>\n",
              "      <td>s6</td>\n",
              "      <td>TV Show</td>\n",
              "      <td>46</td>\n",
              "      <td>Turkey</td>\n",
              "      <td>July 1, 2017</td>\n",
              "      <td>2016</td>\n",
              "      <td>TV-MA</td>\n",
              "      <td>275</td>\n",
              "      <td>International TV Shows, TV Dramas, TV Mysteries</td>\n",
              "      <td>A genetics professor experiments with a treatm...</td>\n",
              "      <td>3</td>\n",
              "      <td>July</td>\n",
              "    </tr>\n",
              "  </tbody>\n",
              "</table>\n",
              "</div>\n",
              "    <div class=\"colab-df-buttons\">\n",
              "\n",
              "  <div class=\"colab-df-container\">\n",
              "    <button class=\"colab-df-convert\" onclick=\"convertToInteractive('df-3c7b1d24-53ef-4751-be83-89c7b47c206f')\"\n",
              "            title=\"Convert this dataframe to an interactive table.\"\n",
              "            style=\"display:none;\">\n",
              "\n",
              "  <svg xmlns=\"http://www.w3.org/2000/svg\" height=\"24px\" viewBox=\"0 -960 960 960\">\n",
              "    <path d=\"M120-120v-720h720v720H120Zm60-500h600v-160H180v160Zm220 220h160v-160H400v160Zm0 220h160v-160H400v160ZM180-400h160v-160H180v160Zm440 0h160v-160H620v160ZM180-180h160v-160H180v160Zm440 0h160v-160H620v160Z\"/>\n",
              "  </svg>\n",
              "    </button>\n",
              "\n",
              "  <style>\n",
              "    .colab-df-container {\n",
              "      display:flex;\n",
              "      gap: 12px;\n",
              "    }\n",
              "\n",
              "    .colab-df-convert {\n",
              "      background-color: #E8F0FE;\n",
              "      border: none;\n",
              "      border-radius: 50%;\n",
              "      cursor: pointer;\n",
              "      display: none;\n",
              "      fill: #1967D2;\n",
              "      height: 32px;\n",
              "      padding: 0 0 0 0;\n",
              "      width: 32px;\n",
              "    }\n",
              "\n",
              "    .colab-df-convert:hover {\n",
              "      background-color: #E2EBFA;\n",
              "      box-shadow: 0px 1px 2px rgba(60, 64, 67, 0.3), 0px 1px 3px 1px rgba(60, 64, 67, 0.15);\n",
              "      fill: #174EA6;\n",
              "    }\n",
              "\n",
              "    .colab-df-buttons div {\n",
              "      margin-bottom: 4px;\n",
              "    }\n",
              "\n",
              "    [theme=dark] .colab-df-convert {\n",
              "      background-color: #3B4455;\n",
              "      fill: #D2E3FC;\n",
              "    }\n",
              "\n",
              "    [theme=dark] .colab-df-convert:hover {\n",
              "      background-color: #434B5C;\n",
              "      box-shadow: 0px 1px 3px 1px rgba(0, 0, 0, 0.15);\n",
              "      filter: drop-shadow(0px 1px 2px rgba(0, 0, 0, 0.3));\n",
              "      fill: #FFFFFF;\n",
              "    }\n",
              "  </style>\n",
              "\n",
              "    <script>\n",
              "      const buttonEl =\n",
              "        document.querySelector('#df-3c7b1d24-53ef-4751-be83-89c7b47c206f button.colab-df-convert');\n",
              "      buttonEl.style.display =\n",
              "        google.colab.kernel.accessAllowed ? 'block' : 'none';\n",
              "\n",
              "      async function convertToInteractive(key) {\n",
              "        const element = document.querySelector('#df-3c7b1d24-53ef-4751-be83-89c7b47c206f');\n",
              "        const dataTable =\n",
              "          await google.colab.kernel.invokeFunction('convertToInteractive',\n",
              "                                                    [key], {});\n",
              "        if (!dataTable) return;\n",
              "\n",
              "        const docLinkHtml = 'Like what you see? Visit the ' +\n",
              "          '<a target=\"_blank\" href=https://colab.research.google.com/notebooks/data_table.ipynb>data table notebook</a>'\n",
              "          + ' to learn more about interactive tables.';\n",
              "        element.innerHTML = '';\n",
              "        dataTable['output_type'] = 'display_data';\n",
              "        await google.colab.output.renderOutput(dataTable, element);\n",
              "        const docLink = document.createElement('div');\n",
              "        docLink.innerHTML = docLinkHtml;\n",
              "        element.appendChild(docLink);\n",
              "      }\n",
              "    </script>\n",
              "  </div>\n",
              "\n",
              "\n",
              "<div id=\"df-e23da3d8-ac59-456e-8e0b-8651cf3652af\">\n",
              "  <button class=\"colab-df-quickchart\" onclick=\"quickchart('df-e23da3d8-ac59-456e-8e0b-8651cf3652af')\"\n",
              "            title=\"Suggest charts\"\n",
              "            style=\"display:none;\">\n",
              "\n",
              "<svg xmlns=\"http://www.w3.org/2000/svg\" height=\"24px\"viewBox=\"0 0 24 24\"\n",
              "     width=\"24px\">\n",
              "    <g>\n",
              "        <path d=\"M19 3H5c-1.1 0-2 .9-2 2v14c0 1.1.9 2 2 2h14c1.1 0 2-.9 2-2V5c0-1.1-.9-2-2-2zM9 17H7v-7h2v7zm4 0h-2V7h2v10zm4 0h-2v-4h2v4z\"/>\n",
              "    </g>\n",
              "</svg>\n",
              "  </button>\n",
              "\n",
              "<style>\n",
              "  .colab-df-quickchart {\n",
              "      --bg-color: #E8F0FE;\n",
              "      --fill-color: #1967D2;\n",
              "      --hover-bg-color: #E2EBFA;\n",
              "      --hover-fill-color: #174EA6;\n",
              "      --disabled-fill-color: #AAA;\n",
              "      --disabled-bg-color: #DDD;\n",
              "  }\n",
              "\n",
              "  [theme=dark] .colab-df-quickchart {\n",
              "      --bg-color: #3B4455;\n",
              "      --fill-color: #D2E3FC;\n",
              "      --hover-bg-color: #434B5C;\n",
              "      --hover-fill-color: #FFFFFF;\n",
              "      --disabled-bg-color: #3B4455;\n",
              "      --disabled-fill-color: #666;\n",
              "  }\n",
              "\n",
              "  .colab-df-quickchart {\n",
              "    background-color: var(--bg-color);\n",
              "    border: none;\n",
              "    border-radius: 50%;\n",
              "    cursor: pointer;\n",
              "    display: none;\n",
              "    fill: var(--fill-color);\n",
              "    height: 32px;\n",
              "    padding: 0;\n",
              "    width: 32px;\n",
              "  }\n",
              "\n",
              "  .colab-df-quickchart:hover {\n",
              "    background-color: var(--hover-bg-color);\n",
              "    box-shadow: 0 1px 2px rgba(60, 64, 67, 0.3), 0 1px 3px 1px rgba(60, 64, 67, 0.15);\n",
              "    fill: var(--button-hover-fill-color);\n",
              "  }\n",
              "\n",
              "  .colab-df-quickchart-complete:disabled,\n",
              "  .colab-df-quickchart-complete:disabled:hover {\n",
              "    background-color: var(--disabled-bg-color);\n",
              "    fill: var(--disabled-fill-color);\n",
              "    box-shadow: none;\n",
              "  }\n",
              "\n",
              "  .colab-df-spinner {\n",
              "    border: 2px solid var(--fill-color);\n",
              "    border-color: transparent;\n",
              "    border-bottom-color: var(--fill-color);\n",
              "    animation:\n",
              "      spin 1s steps(1) infinite;\n",
              "  }\n",
              "\n",
              "  @keyframes spin {\n",
              "    0% {\n",
              "      border-color: transparent;\n",
              "      border-bottom-color: var(--fill-color);\n",
              "      border-left-color: var(--fill-color);\n",
              "    }\n",
              "    20% {\n",
              "      border-color: transparent;\n",
              "      border-left-color: var(--fill-color);\n",
              "      border-top-color: var(--fill-color);\n",
              "    }\n",
              "    30% {\n",
              "      border-color: transparent;\n",
              "      border-left-color: var(--fill-color);\n",
              "      border-top-color: var(--fill-color);\n",
              "      border-right-color: var(--fill-color);\n",
              "    }\n",
              "    40% {\n",
              "      border-color: transparent;\n",
              "      border-right-color: var(--fill-color);\n",
              "      border-top-color: var(--fill-color);\n",
              "    }\n",
              "    60% {\n",
              "      border-color: transparent;\n",
              "      border-right-color: var(--fill-color);\n",
              "    }\n",
              "    80% {\n",
              "      border-color: transparent;\n",
              "      border-right-color: var(--fill-color);\n",
              "      border-bottom-color: var(--fill-color);\n",
              "    }\n",
              "    90% {\n",
              "      border-color: transparent;\n",
              "      border-bottom-color: var(--fill-color);\n",
              "    }\n",
              "  }\n",
              "</style>\n",
              "\n",
              "  <script>\n",
              "    async function quickchart(key) {\n",
              "      const quickchartButtonEl =\n",
              "        document.querySelector('#' + key + ' button');\n",
              "      quickchartButtonEl.disabled = true;  // To prevent multiple clicks.\n",
              "      quickchartButtonEl.classList.add('colab-df-spinner');\n",
              "      try {\n",
              "        const charts = await google.colab.kernel.invokeFunction(\n",
              "            'suggestCharts', [key], {});\n",
              "      } catch (error) {\n",
              "        console.error('Error during call to suggestCharts:', error);\n",
              "      }\n",
              "      quickchartButtonEl.classList.remove('colab-df-spinner');\n",
              "      quickchartButtonEl.classList.add('colab-df-quickchart-complete');\n",
              "    }\n",
              "    (() => {\n",
              "      let quickchartButtonEl =\n",
              "        document.querySelector('#df-e23da3d8-ac59-456e-8e0b-8651cf3652af button');\n",
              "      quickchartButtonEl.style.display =\n",
              "        google.colab.kernel.accessAllowed ? 'block' : 'none';\n",
              "    })();\n",
              "  </script>\n",
              "</div>\n",
              "\n",
              "    </div>\n",
              "  </div>\n"
            ],
            "application/vnd.google.colaboratory.intrinsic+json": {
              "type": "dataframe",
              "variable_name": "df_tv_show",
              "summary": "{\n  \"name\": \"df_tv_show\",\n  \"rows\": 2400,\n  \"fields\": [\n    {\n      \"column\": \"show_id\",\n      \"properties\": {\n        \"dtype\": \"string\",\n        \"num_unique_values\": 2400,\n        \"samples\": [\n          \"s6674\",\n          \"s6482\",\n          \"s2809\"\n        ],\n        \"semantic_type\": \"\",\n        \"description\": \"\"\n      }\n    },\n    {\n      \"column\": \"type\",\n      \"properties\": {\n        \"dtype\": \"category\",\n        \"num_unique_values\": 1,\n        \"samples\": [\n          \"TV Show\"\n        ],\n        \"semantic_type\": \"\",\n        \"description\": \"\"\n      }\n    },\n    {\n      \"column\": \"title\",\n      \"properties\": {\n        \"dtype\": \"string\",\n        \"num_unique_values\": 2400,\n        \"samples\": [\n          \"The Ministry of Time\"\n        ],\n        \"semantic_type\": \"\",\n        \"description\": \"\"\n      }\n    },\n    {\n      \"column\": \"country\",\n      \"properties\": {\n        \"dtype\": \"category\",\n        \"num_unique_values\": 183,\n        \"samples\": [\n          \"Singapore\"\n        ],\n        \"semantic_type\": \"\",\n        \"description\": \"\"\n      }\n    },\n    {\n      \"column\": \"date_added\",\n      \"properties\": {\n        \"dtype\": \"category\",\n        \"num_unique_values\": 924,\n        \"samples\": [\n          \"February 19, 2016\"\n        ],\n        \"semantic_type\": \"\",\n        \"description\": \"\"\n      }\n    },\n    {\n      \"column\": \"release_year\",\n      \"properties\": {\n        \"dtype\": \"number\",\n        \"std\": 2,\n        \"min\": 2009,\n        \"max\": 2021,\n        \"num_unique_values\": 13,\n        \"samples\": [\n          2009\n        ],\n        \"semantic_type\": \"\",\n        \"description\": \"\"\n      }\n    },\n    {\n      \"column\": \"rating\",\n      \"properties\": {\n        \"dtype\": \"category\",\n        \"num_unique_values\": 9,\n        \"samples\": [\n          \"R\"\n        ],\n        \"semantic_type\": \"\",\n        \"description\": \"\"\n      }\n    },\n    {\n      \"column\": \"duration\",\n      \"properties\": {\n        \"dtype\": \"number\",\n        \"std\": 429,\n        \"min\": 275,\n        \"max\": 4400,\n        \"num_unique_values\": 15,\n        \"samples\": [\n          1925\n        ],\n        \"semantic_type\": \"\",\n        \"description\": \"\"\n      }\n    },\n    {\n      \"column\": \"listed_in\",\n      \"properties\": {\n        \"dtype\": \"category\",\n        \"num_unique_values\": 226,\n        \"samples\": [\n          \"International TV Shows, Romantic TV Shows, TV Dramas\"\n        ],\n        \"semantic_type\": \"\",\n        \"description\": \"\"\n      }\n    },\n    {\n      \"column\": \"description\",\n      \"properties\": {\n        \"dtype\": \"string\",\n        \"num_unique_values\": 2398,\n        \"samples\": [\n          \"Born into poverty and trapped in a grim job as a cop in the favelas, a wannabe actor forges a bloody path to celebrity and wealth. Based on true events.\"\n        ],\n        \"semantic_type\": \"\",\n        \"description\": \"\"\n      }\n    },\n    {\n      \"column\": \"no_of_category\",\n      \"properties\": {\n        \"dtype\": \"number\",\n        \"std\": 0,\n        \"min\": 1,\n        \"max\": 3,\n        \"num_unique_values\": 3,\n        \"samples\": [\n          3\n        ],\n        \"semantic_type\": \"\",\n        \"description\": \"\"\n      }\n    },\n    {\n      \"column\": \"date_added_month\",\n      \"properties\": {\n        \"dtype\": \"category\",\n        \"num_unique_values\": 13,\n        \"samples\": [\n          \"\"\n        ],\n        \"semantic_type\": \"\",\n        \"description\": \"\"\n      }\n    }\n  ]\n}"
            }
          },
          "metadata": {},
          "execution_count": 121
        }
      ],
      "source": [
        "df_tv_show = df[df['type']== 'TV Show' ]\n",
        "df_tv_show.head(2)"
      ]
    },
    {
      "cell_type": "code",
      "execution_count": null,
      "metadata": {
        "colab": {
          "base_uri": "https://localhost:8080/",
          "height": 421
        },
        "id": "wkjGJA9-9bLk",
        "outputId": "e8218a34-0419-4c02-fd9e-eab4aa50f01f"
      },
      "outputs": [
        {
          "output_type": "display_data",
          "data": {
            "text/plain": [
              "<Figure size 700x400 with 1 Axes>"
            ],
            "image/png": "[encoded data removed]"
          },
          "metadata": {}
        }
      ],
      "source": [
        "#Pointplot on top tv show ratings\n",
        "tv_ratings = df_tv_show.groupby(['rating'])['show_id'].count().reset_index(name = 'count').sort_values(by = 'count', ascending = False)\n",
        "fig_dims = (7,4)\n",
        "fig, ax = plt.subplots(figsize=fig_dims)\n",
        "sns.pointplot(x='rating',y='count',data=tv_ratings)\n",
        "plt.title('Top TV Show Ratings Based On Rating System',size='15')\n",
        "plt.show()"
      ]
    },
    {
      "cell_type": "markdown",
      "metadata": {
        "id": "pRF9u6hQde23"
      },
      "source": [
        "1. Why did you pick the specific chart?"
      ]
    },
    {
      "cell_type": "markdown",
      "metadata": {
        "id": "4kjKyKi4dhsX"
      },
      "source": [
        "Line charts connect data points with lines, visually interpolating between them. This makes it easier to perceive trends between individual data points and can help smooth out irregularities in the data.Line charts allow you to compare multiple series of data on the same plot."
      ]
    },
    {
      "cell_type": "markdown",
      "metadata": {
        "id": "VcjU_iZ2dkTU"
      },
      "source": [
        "2. What is/are the insight(s) found from the chart?"
      ]
    },
    {
      "cell_type": "markdown",
      "metadata": {
        "id": "-PdNt9zldm2Q"
      },
      "source": [
        "The highest TV show rating cout 1000 is of TV-MA and least 0 for NR,R,TV-Y7-FV."
      ]
    },
    {
      "cell_type": "markdown",
      "metadata": {
        "id": "eReN5oLAdnK4"
      },
      "source": [
        "3. Will the gained insights help creating a positive business impact?"
      ]
    },
    {
      "cell_type": "markdown",
      "metadata": {
        "id": "Jo6Dd0hddnxu"
      },
      "source": [
        "Yes, it helps in creating a positive impact. As it identifies the most popular type of content which can be used in future production."
      ]
    },
    {
      "cell_type": "markdown",
      "metadata": {
        "id": "mCInJq9ivAn0"
      },
      "source": [
        "* #### 4.13.5 Most popular *Movies Rating*"
      ]
    },
    {
      "cell_type": "code",
      "execution_count": null,
      "metadata": {
        "colab": {
          "base_uri": "https://localhost:8080/",
          "height": 199
        },
        "id": "8dCp9WUK_FQf",
        "outputId": "533a82cd-38d4-41ce-de97-c8d7ff476ce4"
      },
      "outputs": [
        {
          "output_type": "execute_result",
          "data": {
            "text/plain": [
              "  show_id   type  title    country         date_added  release_year rating  \\\n",
              "1      s2  Movie   7:19     Mexico  December 23, 2016          2016  TV-MA   \n",
              "2      s3  Movie  23:59  Singapore  December 20, 2018          2011      R   \n",
              "\n",
              "   duration                            listed_in  \\\n",
              "1        93         Dramas, International Movies   \n",
              "2        78  Horror Movies, International Movies   \n",
              "\n",
              "                                         description  no_of_category  \\\n",
              "1  After a devastating earthquake hits Mexico Cit...               2   \n",
              "2  When an army recruit is found dead, his fellow...               2   \n",
              "\n",
              "  date_added_month  \n",
              "1         December  \n",
              "2         December  "
            ],
            "text/html": [
              "\n",
              "  <div id=\"df-5d0b741e-e012-46ef-ba15-5ad8b80250cb\" class=\"colab-df-container\">\n",
              "    <div>\n",
              "<style scoped>\n",
              "    .dataframe tbody tr th:only-of-type {\n",
              "        vertical-align: middle;\n",
              "    }\n",
              "\n",
              "    .dataframe tbody tr th {\n",
              "        vertical-align: top;\n",
              "    }\n",
              "\n",
              "    .dataframe thead th {\n",
              "        text-align: right;\n",
              "    }\n",
              "</style>\n",
              "<table border=\"1\" class=\"dataframe\">\n",
              "  <thead>\n",
              "    <tr style=\"text-align: right;\">\n",
              "      <th></th>\n",
              "      <th>show_id</th>\n",
              "      <th>type</th>\n",
              "      <th>title</th>\n",
              "      <th>country</th>\n",
              "      <th>date_added</th>\n",
              "      <th>release_year</th>\n",
              "      <th>rating</th>\n",
              "      <th>duration</th>\n",
              "      <th>listed_in</th>\n",
              "      <th>description</th>\n",
              "      <th>no_of_category</th>\n",
              "      <th>date_added_month</th>\n",
              "    </tr>\n",
              "  </thead>\n",
              "  <tbody>\n",
              "    <tr>\n",
              "      <th>1</th>\n",
              "      <td>s2</td>\n",
              "      <td>Movie</td>\n",
              "      <td>7:19</td>\n",
              "      <td>Mexico</td>\n",
              "      <td>December 23, 2016</td>\n",
              "      <td>2016</td>\n",
              "      <td>TV-MA</td>\n",
              "      <td>93</td>\n",
              "      <td>Dramas, International Movies</td>\n",
              "      <td>After a devastating earthquake hits Mexico Cit...</td>\n",
              "      <td>2</td>\n",
              "      <td>December</td>\n",
              "    </tr>\n",
              "    <tr>\n",
              "      <th>2</th>\n",
              "      <td>s3</td>\n",
              "      <td>Movie</td>\n",
              "      <td>23:59</td>\n",
              "      <td>Singapore</td>\n",
              "      <td>December 20, 2018</td>\n",
              "      <td>2011</td>\n",
              "      <td>R</td>\n",
              "      <td>78</td>\n",
              "      <td>Horror Movies, International Movies</td>\n",
              "      <td>When an army recruit is found dead, his fellow...</td>\n",
              "      <td>2</td>\n",
              "      <td>December</td>\n",
              "    </tr>\n",
              "  </tbody>\n",
              "</table>\n",
              "</div>\n",
              "    <div class=\"colab-df-buttons\">\n",
              "\n",
              "  <div class=\"colab-df-container\">\n",
              "    <button class=\"colab-df-convert\" onclick=\"convertToInteractive('df-5d0b741e-e012-46ef-ba15-5ad8b80250cb')\"\n",
              "            title=\"Convert this dataframe to an interactive table.\"\n",
              "            style=\"display:none;\">\n",
              "\n",
              "  <svg xmlns=\"http://www.w3.org/2000/svg\" height=\"24px\" viewBox=\"0 -960 960 960\">\n",
              "    <path d=\"M120-120v-720h720v720H120Zm60-500h600v-160H180v160Zm220 220h160v-160H400v160Zm0 220h160v-160H400v160ZM180-400h160v-160H180v160Zm440 0h160v-160H620v160ZM180-180h160v-160H180v160Zm440 0h160v-160H620v160Z\"/>\n",
              "  </svg>\n",
              "    </button>\n",
              "\n",
              "  <style>\n",
              "    .colab-df-container {\n",
              "      display:flex;\n",
              "      gap: 12px;\n",
              "    }\n",
              "\n",
              "    .colab-df-convert {\n",
              "      background-color: #E8F0FE;\n",
              "      border: none;\n",
              "      border-radius: 50%;\n",
              "      cursor: pointer;\n",
              "      display: none;\n",
              "      fill: #1967D2;\n",
              "      height: 32px;\n",
              "      padding: 0 0 0 0;\n",
              "      width: 32px;\n",
              "    }\n",
              "\n",
              "    .colab-df-convert:hover {\n",
              "      background-color: #E2EBFA;\n",
              "      box-shadow: 0px 1px 2px rgba(60, 64, 67, 0.3), 0px 1px 3px 1px rgba(60, 64, 67, 0.15);\n",
              "      fill: #174EA6;\n",
              "    }\n",
              "\n",
              "    .colab-df-buttons div {\n",
              "      margin-bottom: 4px;\n",
              "    }\n",
              "\n",
              "    [theme=dark] .colab-df-convert {\n",
              "      background-color: #3B4455;\n",
              "      fill: #D2E3FC;\n",
              "    }\n",
              "\n",
              "    [theme=dark] .colab-df-convert:hover {\n",
              "      background-color: #434B5C;\n",
              "      box-shadow: 0px 1px 3px 1px rgba(0, 0, 0, 0.15);\n",
              "      filter: drop-shadow(0px 1px 2px rgba(0, 0, 0, 0.3));\n",
              "      fill: #FFFFFF;\n",
              "    }\n",
              "  </style>\n",
              "\n",
              "    <script>\n",
              "      const buttonEl =\n",
              "        document.querySelector('#df-5d0b741e-e012-46ef-ba15-5ad8b80250cb button.colab-df-convert');\n",
              "      buttonEl.style.display =\n",
              "        google.colab.kernel.accessAllowed ? 'block' : 'none';\n",
              "\n",
              "      async function convertToInteractive(key) {\n",
              "        const element = document.querySelector('#df-5d0b741e-e012-46ef-ba15-5ad8b80250cb');\n",
              "        const dataTable =\n",
              "          await google.colab.kernel.invokeFunction('convertToInteractive',\n",
              "                                                    [key], {});\n",
              "        if (!dataTable) return;\n",
              "\n",
              "        const docLinkHtml = 'Like what you see? Visit the ' +\n",
              "          '<a target=\"_blank\" href=https://colab.research.google.com/notebooks/data_table.ipynb>data table notebook</a>'\n",
              "          + ' to learn more about interactive tables.';\n",
              "        element.innerHTML = '';\n",
              "        dataTable['output_type'] = 'display_data';\n",
              "        await google.colab.output.renderOutput(dataTable, element);\n",
              "        const docLink = document.createElement('div');\n",
              "        docLink.innerHTML = docLinkHtml;\n",
              "        element.appendChild(docLink);\n",
              "      }\n",
              "    </script>\n",
              "  </div>\n",
              "\n",
              "\n",
              "<div id=\"df-b3d75522-399c-42a5-b7bb-107bfe60746b\">\n",
              "  <button class=\"colab-df-quickchart\" onclick=\"quickchart('df-b3d75522-399c-42a5-b7bb-107bfe60746b')\"\n",
              "            title=\"Suggest charts\"\n",
              "            style=\"display:none;\">\n",
              "\n",
              "<svg xmlns=\"http://www.w3.org/2000/svg\" height=\"24px\"viewBox=\"0 0 24 24\"\n",
              "     width=\"24px\">\n",
              "    <g>\n",
              "        <path d=\"M19 3H5c-1.1 0-2 .9-2 2v14c0 1.1.9 2 2 2h14c1.1 0 2-.9 2-2V5c0-1.1-.9-2-2-2zM9 17H7v-7h2v7zm4 0h-2V7h2v10zm4 0h-2v-4h2v4z\"/>\n",
              "    </g>\n",
              "</svg>\n",
              "  </button>\n",
              "\n",
              "<style>\n",
              "  .colab-df-quickchart {\n",
              "      --bg-color: #E8F0FE;\n",
              "      --fill-color: #1967D2;\n",
              "      --hover-bg-color: #E2EBFA;\n",
              "      --hover-fill-color: #174EA6;\n",
              "      --disabled-fill-color: #AAA;\n",
              "      --disabled-bg-color: #DDD;\n",
              "  }\n",
              "\n",
              "  [theme=dark] .colab-df-quickchart {\n",
              "      --bg-color: #3B4455;\n",
              "      --fill-color: #D2E3FC;\n",
              "      --hover-bg-color: #434B5C;\n",
              "      --hover-fill-color: #FFFFFF;\n",
              "      --disabled-bg-color: #3B4455;\n",
              "      --disabled-fill-color: #666;\n",
              "  }\n",
              "\n",
              "  .colab-df-quickchart {\n",
              "    background-color: var(--bg-color);\n",
              "    border: none;\n",
              "    border-radius: 50%;\n",
              "    cursor: pointer;\n",
              "    display: none;\n",
              "    fill: var(--fill-color);\n",
              "    height: 32px;\n",
              "    padding: 0;\n",
              "    width: 32px;\n",
              "  }\n",
              "\n",
              "  .colab-df-quickchart:hover {\n",
              "    background-color: var(--hover-bg-color);\n",
              "    box-shadow: 0 1px 2px rgba(60, 64, 67, 0.3), 0 1px 3px 1px rgba(60, 64, 67, 0.15);\n",
              "    fill: var(--button-hover-fill-color);\n",
              "  }\n",
              "\n",
              "  .colab-df-quickchart-complete:disabled,\n",
              "  .colab-df-quickchart-complete:disabled:hover {\n",
              "    background-color: var(--disabled-bg-color);\n",
              "    fill: var(--disabled-fill-color);\n",
              "    box-shadow: none;\n",
              "  }\n",
              "\n",
              "  .colab-df-spinner {\n",
              "    border: 2px solid var(--fill-color);\n",
              "    border-color: transparent;\n",
              "    border-bottom-color: var(--fill-color);\n",
              "    animation:\n",
              "      spin 1s steps(1) infinite;\n",
              "  }\n",
              "\n",
              "  @keyframes spin {\n",
              "    0% {\n",
              "      border-color: transparent;\n",
              "      border-bottom-color: var(--fill-color);\n",
              "      border-left-color: var(--fill-color);\n",
              "    }\n",
              "    20% {\n",
              "      border-color: transparent;\n",
              "      border-left-color: var(--fill-color);\n",
              "      border-top-color: var(--fill-color);\n",
              "    }\n",
              "    30% {\n",
              "      border-color: transparent;\n",
              "      border-left-color: var(--fill-color);\n",
              "      border-top-color: var(--fill-color);\n",
              "      border-right-color: var(--fill-color);\n",
              "    }\n",
              "    40% {\n",
              "      border-color: transparent;\n",
              "      border-right-color: var(--fill-color);\n",
              "      border-top-color: var(--fill-color);\n",
              "    }\n",
              "    60% {\n",
              "      border-color: transparent;\n",
              "      border-right-color: var(--fill-color);\n",
              "    }\n",
              "    80% {\n",
              "      border-color: transparent;\n",
              "      border-right-color: var(--fill-color);\n",
              "      border-bottom-color: var(--fill-color);\n",
              "    }\n",
              "    90% {\n",
              "      border-color: transparent;\n",
              "      border-bottom-color: var(--fill-color);\n",
              "    }\n",
              "  }\n",
              "</style>\n",
              "\n",
              "  <script>\n",
              "    async function quickchart(key) {\n",
              "      const quickchartButtonEl =\n",
              "        document.querySelector('#' + key + ' button');\n",
              "      quickchartButtonEl.disabled = true;  // To prevent multiple clicks.\n",
              "      quickchartButtonEl.classList.add('colab-df-spinner');\n",
              "      try {\n",
              "        const charts = await google.colab.kernel.invokeFunction(\n",
              "            'suggestCharts', [key], {});\n",
              "      } catch (error) {\n",
              "        console.error('Error during call to suggestCharts:', error);\n",
              "      }\n",
              "      quickchartButtonEl.classList.remove('colab-df-spinner');\n",
              "      quickchartButtonEl.classList.add('colab-df-quickchart-complete');\n",
              "    }\n",
              "    (() => {\n",
              "      let quickchartButtonEl =\n",
              "        document.querySelector('#df-b3d75522-399c-42a5-b7bb-107bfe60746b button');\n",
              "      quickchartButtonEl.style.display =\n",
              "        google.colab.kernel.accessAllowed ? 'block' : 'none';\n",
              "    })();\n",
              "  </script>\n",
              "</div>\n",
              "\n",
              "    </div>\n",
              "  </div>\n"
            ],
            "application/vnd.google.colaboratory.intrinsic+json": {
              "type": "dataframe",
              "variable_name": "df_movies",
              "repr_error": "0"
            }
          },
          "metadata": {},
          "execution_count": 123
        }
      ],
      "source": [
        "df_movies = df[df['type'] == 'Movie' ]\n",
        "df_movies.head(2)"
      ]
    },
    {
      "cell_type": "code",
      "execution_count": null,
      "metadata": {
        "colab": {
          "base_uri": "https://localhost:8080/",
          "height": 581
        },
        "id": "z6UumUWE_FMo",
        "outputId": "b9afa153-94c1-4410-b093-7c69a8fcc2ca"
      },
      "outputs": [
        {
          "output_type": "display_data",
          "data": {
            "text/plain": [
              "<Figure size 1000x600 with 1 Axes>"
            ],
            "image/png": "[encoded data removed]"
          },
          "metadata": {}
        }
      ],
      "source": [
        "#Pointplot on top tv show ratings\n",
        "tv_ratings = df_movies.groupby(['rating'])['show_id'].count().reset_index(name = 'count').sort_values(by = 'count', ascending = False)\n",
        "fig_dims = (10,6)\n",
        "fig, ax = plt.subplots(figsize=fig_dims)\n",
        "sns.pointplot(x='rating',y='count',data=tv_ratings)\n",
        "plt.title('Top Movie Ratings Based On Rating System',size='20')\n",
        "plt.show()"
      ]
    },
    {
      "cell_type": "markdown",
      "metadata": {
        "id": "x-3vO3nFdsXL"
      },
      "source": [
        "1. Why did you pick the specific chart?"
      ]
    },
    {
      "cell_type": "markdown",
      "metadata": {
        "id": "cl_Bi6Bidtho"
      },
      "source": [
        "Line charts connect data points with lines, visually interpolating between them. This makes it easier to perceive trends between individual data points and can help smooth out irregularities in the data.Line charts allow you to compare multiple series of data on the same plot."
      ]
    },
    {
      "cell_type": "markdown",
      "metadata": {
        "id": "JRNbf8H6dwFF"
      },
      "source": [
        "2. What is/are the insight(s) found from the chart?"
      ]
    },
    {
      "cell_type": "markdown",
      "metadata": {
        "id": "KgSkT_yrdxBE"
      },
      "source": [
        "Most of the contents got ratings like\n",
        "* TV-MA (For Mature Audiences)\n",
        "* TV-14 ( May be unsuitable for children under 14 )\n",
        "* TV-PG ( Parental Guidance Suggested  )\n",
        "* NR ( Not Rated )"
      ]
    },
    {
      "cell_type": "markdown",
      "metadata": {
        "id": "wppdyXNTdxla"
      },
      "source": [
        "3. Will the gained insights help creating a positive business impact?"
      ]
    },
    {
      "cell_type": "markdown",
      "metadata": {
        "id": "-iD-j-lRdz1l"
      },
      "source": [
        "Yes, it helps in creating a positive impact. As it identifies the most popular type of content which can be used in future production."
      ]
    },
    {
      "cell_type": "markdown",
      "metadata": {
        "id": "bBrYaKLQzXsJ"
      },
      "source": [
        "\n",
        "##Exploratory Data Analysis Conclusions\n",
        "---\n",
        "---\n",
        "> * **Netflix began adding videos to the platform from 2008**\n",
        "> * **The streaming giant started aggressively adding movies and TV shows from 2017**\n",
        "> * **More movies are added as compared to TV shows**\n",
        "---\n",
        "> * **There are almost twice as many movies as TV shows on Netflix.**\n",
        "---\n",
        "> * **Most content on Netflix is rated for Mature Audiences and over 14 years old**\n",
        "---\n",
        "> **Top Countries in Netflix are:**\n",
        "1. **United States**\n",
        "2. **India**\n",
        "3. **United Kingdom**\n",
        "4. **Canada**\n",
        "5. **France**\n",
        "\n",
        "---\n",
        "> **Top Genres in Netflix are:**\n",
        "1. **Drama**\n",
        "2.**Comedy**\n",
        "3.**Documentary**\n",
        "4.**Action and Adventure**\n",
        "5.**Romance**\n",
        "\n",
        "---\n",
        "> **Top Directors on Netflix are:**\n",
        "1. **Jan Suter**\n",
        "2.**Raul Campos**\n",
        "3.**Marcus Raboy**\n",
        "4.**Jay Karas**\n",
        "5.**Cathy Garcia-Molina**\n",
        "\n",
        "---\n",
        "> **Top Actors on Netflix are:**\n",
        "1. **Anupam Kher**\n",
        "2.**Shah Rukh Khan**\n",
        "3.**Naseeruddin Shah**\n",
        "4.**Om Puri**\n",
        "5.**Akshay Kumar**\n",
        "\n",
        "---\n",
        "> * **Most movies on Netflix have a duration range from 90 to 110 minutes**\n",
        "---\n",
        "> * **Most TV shows on Netflix have a span of only one season**.\n",
        "---"
      ]
    },
    {
      "cell_type": "markdown",
      "metadata": {
        "id": "10Th00DnEd9D"
      },
      "source": [
        "## <font size='+2' color = '#154085'> <B> End Conclusion.</b>\n",
        "\n",
        "1. Director and cast contains a large number of null values so we will drop these 2 columns .\n",
        "2. In this dataset there are two types of contents where 30.86% includes TV shows and the\n",
        "remaining 69.14% carries Movies.\n",
        "3. We have reached a conclusion from our analysis from the content added over years that\n",
        "Netflix is focusing movies and TV shows (Fom 2016 data we get to know that Movies is\n",
        "increased by 80% and TV shows is increased by 73% compare)\n",
        "4. From the dataset insights we can conclude that the most number of TV Shows released in\n",
        "2017 and for Movies it is 2020\n",
        "5. On Netflix USA has the largest number of contents. And most of the countries preferred to\n",
        "produce movies more than TV shows.\n",
        "6. Most of the movies are belonging to 3 categories\n",
        "7. TOP 3 content categories are International movies , dramas , comedies.\n",
        "8. In text analysis (NLP) I used stop words, removed punctuations , stemming & TF-IDF\n",
        "vectorizer and other functions of NLP.\n",
        "9. Applied different clustering models like Kmeans, hierarchical, Agglomerative clustering,\n",
        "DBSCAN on data we got the best cluster arrangements.\n",
        "10.By applying different clustering algorithms to our dataset .we get the optimal number of\n",
        "cluster is equal to 3\n"
      ]
    }
  ],
  "metadata": {
    "colab": {
      "provenance": [],
      "include_colab_link": true
    },
    "kernelspec": {
      "display_name": "Python 3",
      "name": "python3"
    },
    "language_info": {
      "name": "python"
    }
  },
  "nbformat": 4,
  "nbformat_minor": 0
}